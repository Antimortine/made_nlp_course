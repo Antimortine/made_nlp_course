{
 "cells": [
  {
   "cell_type": "markdown",
   "metadata": {},
   "source": [
    "## Homework №2"
   ]
  },
  {
   "cell_type": "markdown",
   "metadata": {},
   "source": [
    "### Almost Shakespeare\n",
    "\n",
    "Let's try to generate some Shakespeare poetry using RNNs. The sonnets file is available in the notebook directory.\n",
    "\n",
    "Text generation can be designed in several steps:\n",
    "    \n",
    "1. Data loading.\n",
    "2. Dictionary generation.\n",
    "3. Data preprocessing.\n",
    "4. Model (neural network) training.\n",
    "5. Text generation (model evaluation).\n"
   ]
  },
  {
   "cell_type": "markdown",
   "metadata": {},
   "source": [
    "### Data loading"
   ]
  },
  {
   "cell_type": "markdown",
   "metadata": {},
   "source": [
    "Shakespeare sonnets are awailable at this [link](http://www.gutenberg.org/ebooks/1041?msg=welcome_stranger). In addition, they are stored in the same directory as this notebook (`sonnetes.txt`).\n",
    "\n",
    "Simple preprocessing is already done for you in the next cell: all technical info is dropped."
   ]
  },
  {
   "cell_type": "code",
   "execution_count": 1,
   "metadata": {},
   "outputs": [],
   "source": [
    "import string\n",
    "import numpy as np\n",
    "import matplotlib.pyplot as plt\n",
    "%matplotlib inline"
   ]
  },
  {
   "cell_type": "code",
   "execution_count": 2,
   "metadata": {},
   "outputs": [],
   "source": [
    "TEXT_START = 45\n",
    "TEXT_END = -368"
   ]
  },
  {
   "cell_type": "code",
   "execution_count": 3,
   "metadata": {},
   "outputs": [],
   "source": [
    "def load_sonnet_lines():\n",
    "    try:\n",
    "        with open('../../datasets/Shakespeare_sonnets/sonnets.txt', 'r') as iofile:\n",
    "            lines = iofile.readlines()\n",
    "    except FileNotFoundError:\n",
    "        !wget https://raw.githubusercontent.com/neychev/made_nlp_course/master/datasets/Shakespeare_sonnets/sonnets.txt -nc\n",
    "        with open('sonnets.txt', 'r') as iofile:\n",
    "            lines = iofile.readlines()\n",
    "    lines = lines[TEXT_START : TEXT_END]\n",
    "    return lines"
   ]
  },
  {
   "cell_type": "code",
   "execution_count": 4,
   "metadata": {},
   "outputs": [],
   "source": [
    "lines = load_sonnet_lines()\n",
    "assert len(lines) == 2616"
   ]
  },
  {
   "cell_type": "markdown",
   "metadata": {},
   "source": [
    "### Data Preparation"
   ]
  },
  {
   "cell_type": "markdown",
   "metadata": {},
   "source": [
    "#### Parsing source lines into lowercased sonnets"
   ]
  },
  {
   "cell_type": "code",
   "execution_count": 5,
   "metadata": {},
   "outputs": [],
   "source": [
    "def parse_sonnets(lines):\n",
    "    \"\"\"Parses list of sonnet lines into the list of lowercased sonnet texts\"\"\"\n",
    "    sonnets = []\n",
    "    sonnet_lines = []\n",
    "    for line in lines:\n",
    "        if not line.strip() or line.strip().isupper(): # ignore empty lines and sonnet numeration\n",
    "            if sonnet_lines:\n",
    "                sonnets.append(''.join(sonnet_lines))\n",
    "                sonnet_lines = []\n",
    "        else:\n",
    "            line = line.lower().replace('  ', ' ') # lowercase and dealing with duplicate spaces\n",
    "            sonnet_lines.append(line)\n",
    "    if sonnet_lines: # Last sonnet\n",
    "        sonnets.append(''.join(sonnet_lines))\n",
    "    return sonnets"
   ]
  },
  {
   "cell_type": "code",
   "execution_count": 6,
   "metadata": {},
   "outputs": [],
   "source": [
    "sonnets = parse_sonnets(lines)\n",
    "assert len(sonnets) == 154"
   ]
  },
  {
   "cell_type": "markdown",
   "metadata": {},
   "source": [
    "#### Retrieving all the lines from sonnets"
   ]
  },
  {
   "cell_type": "code",
   "execution_count": 10,
   "metadata": {},
   "outputs": [
    {
     "data": {
      "text/plain": [
       "2155"
      ]
     },
     "execution_count": 10,
     "metadata": {},
     "output_type": "execute_result"
    }
   ],
   "source": [
    "all_sonnet_lines = [line + '\\n' for sonnet in sonnets for line in sonnet.split('\\n') if line]\n",
    "len(all_sonnet_lines)"
   ]
  },
  {
   "cell_type": "code",
   "execution_count": 12,
   "metadata": {},
   "outputs": [
    {
     "name": "stdout",
     "output_type": "stream",
     "text": [
      "Max line length: 62\n"
     ]
    },
    {
     "data": {
      "image/png": "[encoded data removed]",
      "text/plain": [
       "<Figure size 432x288 with 1 Axes>"
      ]
     },
     "metadata": {
      "needs_background": "light"
     },
     "output_type": "display_data"
    }
   ],
   "source": [
    "line_lengths = [len(line) for line in all_sonnet_lines]\n",
    "MAX_LINE_LENGTH = max(line_lengths)\n",
    "print(f'Max line length: {MAX_LINE_LENGTH}')\n",
    "plt.hist(line_lengths, bins=50);"
   ]
  },
  {
   "cell_type": "markdown",
   "metadata": {},
   "source": [
    "#### Generating dataset of all the quatrains"
   ]
  },
  {
   "cell_type": "code",
   "execution_count": 13,
   "metadata": {},
   "outputs": [],
   "source": [
    "def get_quatrains(sonnets):\n",
    "    quatrains = []\n",
    "    for sonnet in sonnets:\n",
    "        sonnet_lines = list(filter(None, sonnet.split('\\n')))\n",
    "        for i in range(0, len(sonnet_lines), 4):\n",
    "            quatrains.append('\\n'.join(sonnet_lines[i:i + 4]) + '\\n')\n",
    "    return quatrains"
   ]
  },
  {
   "cell_type": "code",
   "execution_count": 14,
   "metadata": {},
   "outputs": [
    {
     "data": {
      "text/plain": [
       "615"
      ]
     },
     "execution_count": 14,
     "metadata": {},
     "output_type": "execute_result"
    }
   ],
   "source": [
    "quatrains = get_quatrains(sonnets)\n",
    "len(quatrains)"
   ]
  },
  {
   "cell_type": "code",
   "execution_count": 16,
   "metadata": {},
   "outputs": [
    {
     "name": "stdout",
     "output_type": "stream",
     "text": [
      "Max quatrain length: 209\n"
     ]
    },
    {
     "data": {
      "image/png": "[encoded data removed]",
      "text/plain": [
       "<Figure size 432x288 with 1 Axes>"
      ]
     },
     "metadata": {
      "needs_background": "light"
     },
     "output_type": "display_data"
    }
   ],
   "source": [
    "quatrain_lengths = [len(quatrain) for quatrain in quatrains]\n",
    "MAX_QUATRAIN_LENGTH = max(quatrain_lengths)\n",
    "print(f'Max quatrain length: {MAX_QUATRAIN_LENGTH}')\n",
    "plt.hist(quatrain_lengths, bins=50);"
   ]
  },
  {
   "cell_type": "markdown",
   "metadata": {},
   "source": [
    "#### Preparing dictionaries for char-level tokenization"
   ]
  },
  {
   "cell_type": "code",
   "execution_count": 17,
   "metadata": {},
   "outputs": [],
   "source": [
    "tokens = sorted({c for line in all_sonnet_lines for c in line})"
   ]
  },
  {
   "cell_type": "markdown",
   "metadata": {},
   "source": [
    "Create dictionary `token_to_idx = {<char>: <index>}` and dictionary `idx_to_token = {<index>: <char>}`"
   ]
  },
  {
   "cell_type": "code",
   "execution_count": 18,
   "metadata": {},
   "outputs": [],
   "source": [
    "# dict <index>:<char>\n",
    "token_to_idx = {c: idx for idx, c in enumerate(tokens)}\n",
    "\n",
    "# dict <char>:<index>\n",
    "idx_to_token  = {idx: c for idx, c in enumerate(tokens)}"
   ]
  },
  {
   "cell_type": "code",
   "execution_count": 31,
   "metadata": {},
   "outputs": [],
   "source": [
    "num_tokens = len(tokens)"
   ]
  },
  {
   "cell_type": "code",
   "execution_count": 19,
   "metadata": {},
   "outputs": [
    {
     "data": {
      "text/plain": [
       "(38, 38, 38)"
      ]
     },
     "execution_count": 19,
     "metadata": {},
     "output_type": "execute_result"
    }
   ],
   "source": [
    "len(tokens), len(token_to_idx), len(idx_to_token)"
   ]
  },
  {
   "cell_type": "markdown",
   "metadata": {},
   "source": [
    "*Comment: in this task we have only 38 different tokens, so let's use one-hot encoding.*"
   ]
  },
  {
   "cell_type": "markdown",
   "metadata": {},
   "source": [
    "### Utilities"
   ]
  },
  {
   "cell_type": "code",
   "execution_count": 22,
   "metadata": {},
   "outputs": [],
   "source": [
    "def to_matrix(texts, max_len=None, pad=token_to_idx['\\n'], dtype='int32', batch_first=True):\n",
    "    \"\"\"Casts a list of texts into rnn-digestable matrix\"\"\"\n",
    "    \n",
    "    max_len = max_len or max(map(len, texts))\n",
    "    token_ids = np.zeros([len(texts), max_len], dtype) + pad\n",
    "\n",
    "    for i in range(len(texts)):\n",
    "        row = [token_to_idx[c] for c in texts[i]]\n",
    "        token_ids[i, :len(row)] = row\n",
    "        \n",
    "    if not batch_first: # convert [batch, time] into [time, batch]\n",
    "        token_ids = np.transpose(token_ids)\n",
    "\n",
    "    return token_ids"
   ]
  },
  {
   "cell_type": "code",
   "execution_count": 1546,
   "metadata": {},
   "outputs": [],
   "source": [
    "# print(''.join(all_sonnet_lines[::750]))\n",
    "# print(to_matrix(all_sonnet_lines[::750]))"
   ]
  },
  {
   "cell_type": "code",
   "execution_count": 27,
   "metadata": {},
   "outputs": [],
   "source": [
    "from random import sample\n",
    "\n",
    "BATCH_SIZE = 32\n",
    "\n",
    "def get_random_batch(texts, max_len, batch_size=BATCH_SIZE):\n",
    "    batch = to_matrix(sample(texts, batch_size), max_len=max_len)\n",
    "    batch = torch.tensor(batch, dtype=torch.int64)\n",
    "    return batch"
   ]
  },
  {
   "cell_type": "code",
   "execution_count": 92,
   "metadata": {},
   "outputs": [],
   "source": [
    "import torch\n",
    "import torch.nn as nn\n",
    "import torch.nn.functional as F\n",
    "from torch.optim.lr_scheduler import StepLR, ReduceLROnPlateau\n",
    "from IPython.display import clear_output"
   ]
  },
  {
   "cell_type": "code",
   "execution_count": 246,
   "metadata": {},
   "outputs": [],
   "source": [
    "def train_model(model, opt, lr_scheduler, criterion,\n",
    "                texts, max_len, n_iter=5000, batch_size=BATCH_SIZE, plot=True):\n",
    "    loss_history = []\n",
    "    model.train()\n",
    "    for i in range(n_iter):\n",
    "        batch = get_random_batch(texts, max_len, batch_size).to(device)\n",
    "\n",
    "        logit_seq = model(batch)\n",
    "        loss = criterion(logit_seq[:, :-1].contiguous().view(-1, num_tokens),\n",
    "                     batch[:, 1:].contiguous().view(-1))\n",
    "        loss_history.append(loss.data.detach().cpu().numpy())\n",
    "\n",
    "        loss.backward()\n",
    "        opt.step()\n",
    "        opt.zero_grad()\n",
    "        if lr_scheduler:\n",
    "            lr_scheduler.step(loss_history[-1])\n",
    "\n",
    "        if plot and (i+1) % 100 == 0:\n",
    "            clear_output(True)\n",
    "            plt.plot(loss_history, label='loss')\n",
    "            plt.legend()\n",
    "            plt.show()"
   ]
  },
  {
   "cell_type": "code",
   "execution_count": 247,
   "metadata": {},
   "outputs": [],
   "source": [
    "def eval_model(model, criterion, texts, max_len):\n",
    "    model.eval()\n",
    "    with torch.no_grad():\n",
    "        data = to_matrix(texts, max_len=max_len)\n",
    "        data = torch.tensor(data, dtype=torch.int64).to(device)\n",
    "        logit_seq = model(data).to(device)\n",
    "        loss = criterion(logit_seq[:, :-1].contiguous().view(-1, num_tokens),\n",
    "                     data[:, 1:].contiguous().view(-1))\n",
    "        return loss.item()"
   ]
  },
  {
   "cell_type": "code",
   "execution_count": 248,
   "metadata": {},
   "outputs": [],
   "source": [
    "def get_optimizer(model, lr=5e-3):\n",
    "    trainable_params = [param for param in model.parameters() if param.requires_grad]\n",
    "    opt = torch.optim.Adam(trainable_params, lr=lr)\n",
    "    return opt"
   ]
  },
  {
   "cell_type": "code",
   "execution_count": 505,
   "metadata": {},
   "outputs": [],
   "source": [
    "def generate_sample(model, seed_phrase, max_length, temperature=1.0):\n",
    "    '''\n",
    "    The function generates text given a phrase of length at least SEQ_LENGTH.\n",
    "    :param seed_phrase: prefix characters. The RNN is asked to continue the phrase\n",
    "    :param max_length: maximum output length, including seed_phrase\n",
    "    :param temperature: coefficient for sampling.  higher temperature produces more chaotic outputs, \n",
    "        smaller temperature converges to the single most likely output.\n",
    "        \n",
    "    Be careful with the model output. This model waits logits (not probabilities/log-probabilities)\n",
    "    of the next symbol.\n",
    "    '''\n",
    "    \n",
    "    if hasattr(model, 'rnn'):\n",
    "        rnn = model.rnn\n",
    "        hid_state = torch.zeros(rnn.num_layers, 1, rnn.hidden_size).to(device)\n",
    "    elif hasattr(model, 'lstm'):\n",
    "        rnn = model.lstm\n",
    "        hid_state = (torch.zeros(rnn.num_layers, 1, rnn.hidden_size).to(device),\n",
    "                    torch.zeros(rnn.num_layers, 1, rnn.hidden_size).to(device))\n",
    "    else:\n",
    "        raise NotImplementedError\n",
    "    \n",
    "    x_sequence = [token_to_idx[token] for token in seed_phrase]\n",
    "    x_sequence = torch.tensor([x_sequence], dtype=torch.int64).to(device)\n",
    "    \n",
    "    #feed the seed phrase, if any\n",
    "    if len(seed_phrase) > 1:\n",
    "        out, hid_state = model(x_sequence[..., :-1], hid_state)\n",
    "    \n",
    "    #start generating\n",
    "    for _ in range(max_length - len(seed_phrase)):\n",
    "        out, hid_state = model(x_sequence[..., -1:], hid_state)\n",
    "        p_next = F.softmax(out / temperature, dim=-1).detach().cpu().numpy().squeeze()\n",
    "        \n",
    "        # sample next token and push it back into x_sequence\n",
    "        next_ix = np.random.choice(len(tokens), p=p_next)\n",
    "        next_ix = torch.tensor([[next_ix]], dtype=torch.int64).to(device)\n",
    "        x_sequence = torch.cat([x_sequence, next_ix], dim=1)\n",
    "        \n",
    "    return ''.join([tokens[ix] for ix in x_sequence.data.detach().cpu().numpy().squeeze()])"
   ]
  },
  {
   "cell_type": "code",
   "execution_count": 30,
   "metadata": {},
   "outputs": [
    {
     "data": {
      "text/plain": [
       "device(type='cuda', index=1)"
      ]
     },
     "execution_count": 30,
     "metadata": {},
     "output_type": "execute_result"
    }
   ],
   "source": [
    "GPU_INDEX = '1'\n",
    "device = torch.device(f'cuda:{GPU_INDEX}') if torch.cuda.is_available() else torch.device('cpu')\n",
    "device"
   ]
  },
  {
   "cell_type": "markdown",
   "metadata": {},
   "source": [
    "### Building the model"
   ]
  },
  {
   "cell_type": "markdown",
   "metadata": {},
   "source": [
    "Now we want to build and train recurrent neural net which would be able to something similar to Shakespeare's poetry.\n",
    "\n",
    "Let's use vanilla RNN, similar to the one created during the lesson."
   ]
  },
  {
   "cell_type": "markdown",
   "metadata": {},
   "source": [
    "#### RNN\n",
    "Such a simple model we will train on lines, not quatrains"
   ]
  },
  {
   "cell_type": "code",
   "execution_count": 244,
   "metadata": {},
   "outputs": [],
   "source": [
    "class CharRNN(nn.Module):\n",
    "    def __init__(self, num_tokens=num_tokens, emb_size=num_tokens, rnn_num_units=165):\n",
    "        super(self.__class__, self).__init__()\n",
    "        \n",
    "        if emb_size:\n",
    "            self.emb = nn.Embedding(num_tokens, emb_size)\n",
    "        else:\n",
    "            # One-hot encoding by freezed Embedding layer\n",
    "            self.emb = nn.Embedding(num_tokens, num_tokens)\n",
    "            self.emb.weight.data = torch.eye(num_tokens)\n",
    "            self.emb.weight.requires_grad = False\n",
    "            emb_size = num_tokens\n",
    "        \n",
    "        self.rnn = nn.RNN(emb_size, rnn_num_units, batch_first=True)\n",
    "        self.hid_to_logits = nn.Linear(rnn_num_units, num_tokens)\n",
    "        \n",
    "    def forward(self, x, hidden=None):\n",
    "        if hidden is not None:\n",
    "            h_seq, hidden = self.rnn(self.emb(x), hidden)\n",
    "            next_logits = self.hid_to_logits(h_seq)\n",
    "            return next_logits, hidden\n",
    "        else:\n",
    "            h_seq, _ = self.rnn(self.emb(x))\n",
    "            next_logits = self.hid_to_logits(h_seq)\n",
    "            return next_logits"
   ]
  },
  {
   "cell_type": "code",
   "execution_count": 250,
   "metadata": {},
   "outputs": [],
   "source": [
    "char_rnn = CharRNN().to(device)\n",
    "opt = get_optimizer(char_rnn)\n",
    "lr_scheduler = StepLR(opt, 300, 0.1)\n",
    "criterion = nn.CrossEntropyLoss()"
   ]
  },
  {
   "cell_type": "code",
   "execution_count": 251,
   "metadata": {},
   "outputs": [
    {
     "data": {
      "image/png": "[encoded data removed]",
      "text/plain": [
       "<Figure size 432x288 with 1 Axes>"
      ]
     },
     "metadata": {
      "needs_background": "light"
     },
     "output_type": "display_data"
    }
   ],
   "source": [
    "train_model(char_rnn, opt, lr_scheduler, criterion, all_sonnet_lines, MAX_LINE_LENGTH)"
   ]
  },
  {
   "cell_type": "code",
   "execution_count": 252,
   "metadata": {},
   "outputs": [
    {
     "data": {
      "text/plain": [
       "0.9573969841003418"
      ]
     },
     "execution_count": 252,
     "metadata": {},
     "output_type": "execute_result"
    }
   ],
   "source": [
    "eval_model(char_rnn, criterion, all_sonnet_lines, MAX_LINE_LENGTH)"
   ]
  },
  {
   "cell_type": "code",
   "execution_count": 337,
   "metadata": {},
   "outputs": [
    {
     "data": {
      "text/plain": [
       "' from her praise, have bright pleasure of old stone, blessed, '"
      ]
     },
     "execution_count": 337,
     "metadata": {},
     "output_type": "execute_result"
    }
   ],
   "source": [
    "generate_sample(char_rnn, ' from', MAX_LINE_LENGTH)"
   ]
  },
  {
   "cell_type": "code",
   "execution_count": 360,
   "metadata": {},
   "outputs": [
    {
     "data": {
      "text/plain": [
       "\" they mays. than'w anon? for it is much needs\\n\\n\\n\\n\\n and;\\n\\n\\n\\n\\n\\n\\n\""
      ]
     },
     "execution_count": 360,
     "metadata": {},
     "output_type": "execute_result"
    }
   ],
   "source": [
    "generate_sample(char_rnn, ' the', MAX_LINE_LENGTH, 1.75)"
   ]
  },
  {
   "cell_type": "code",
   "execution_count": 368,
   "metadata": {},
   "outputs": [
    {
     "data": {
      "text/plain": [
       "' not great, not terrible or poor on that yourselt, than their '"
      ]
     },
     "execution_count": 368,
     "metadata": {},
     "output_type": "execute_result"
    }
   ],
   "source": [
    "generate_sample(char_rnn, ' not great, not terrible', MAX_LINE_LENGTH)"
   ]
  },
  {
   "cell_type": "markdown",
   "metadata": {},
   "source": [
    "### More poetic model\n",
    "\n",
    "Let's use LSTM instead of vanilla RNN and compare the results."
   ]
  },
  {
   "cell_type": "markdown",
   "metadata": {},
   "source": [
    "Plot the loss function of the number of epochs. Does the final loss become better?"
   ]
  },
  {
   "cell_type": "code",
   "execution_count": 494,
   "metadata": {},
   "outputs": [],
   "source": [
    "class CharLSTM(nn.Module):\n",
    "    def __init__(self, num_tokens=num_tokens, emb_size=num_tokens, num_units=176, num_layers=2, dropout=0):\n",
    "        super(self.__class__, self).__init__()\n",
    "        \n",
    "        if emb_size:\n",
    "            self.emb = nn.Embedding(num_tokens, emb_size)\n",
    "        else:\n",
    "            # One-hot encoding by freezed Embedding layer\n",
    "            self.emb = nn.Embedding(num_tokens, num_tokens)\n",
    "            self.emb.weight.data = torch.eye(num_tokens)\n",
    "            self.emb.weight.requires_grad = False\n",
    "            emb_size = num_tokens\n",
    "        \n",
    "        self.lstm = nn.LSTM(emb_size, num_units, batch_first=True, num_layers=num_layers, dropout=dropout)\n",
    "        self.hid_to_logits = nn.Linear(num_units, num_tokens)\n",
    "        \n",
    "    def forward(self, x, hidden=None):\n",
    "        if hidden is not None:\n",
    "            h_seq, hidden = self.lstm(self.emb(x), hidden)\n",
    "            next_logits = self.hid_to_logits(h_seq)\n",
    "            return next_logits, hidden\n",
    "        else:\n",
    "            h_seq, _ = self.lstm(self.emb(x))\n",
    "            next_logits = self.hid_to_logits(h_seq)\n",
    "            return next_logits"
   ]
  },
  {
   "cell_type": "code",
   "execution_count": 1297,
   "metadata": {},
   "outputs": [],
   "source": [
    "char_lstm = CharLSTM(num_units=176, num_layers=2, dropout=0).to(device)\n",
    "opt = get_optimizer(char_lstm)\n",
    "lr_scheduler = StepLR(opt, 300, 0.1)\n",
    "criterion = nn.CrossEntropyLoss()"
   ]
  },
  {
   "cell_type": "code",
   "execution_count": 1299,
   "metadata": {},
   "outputs": [
    {
     "data": {
      "image/png": "[encoded data removed]",
      "text/plain": [
       "<Figure size 432x288 with 1 Axes>"
      ]
     },
     "metadata": {
      "needs_background": "light"
     },
     "output_type": "display_data"
    }
   ],
   "source": [
    "train_model(char_lstm, opt, lr_scheduler, criterion, quatrains, MAX_QUATRAIN_LENGTH, n_iter=1500)"
   ]
  },
  {
   "cell_type": "code",
   "execution_count": 1300,
   "metadata": {},
   "outputs": [
    {
     "data": {
      "text/plain": [
       "0.10981304943561554"
      ]
     },
     "execution_count": 1300,
     "metadata": {},
     "output_type": "execute_result"
    }
   ],
   "source": [
    "eval_model(char_lstm, criterion, quatrains, MAX_QUATRAIN_LENGTH)"
   ]
  },
  {
   "cell_type": "code",
   "execution_count": 1301,
   "metadata": {},
   "outputs": [
    {
     "name": "stdout",
     "output_type": "stream",
     "text": [
      "from fairest creatures we desire increase,\n",
      " that thereby beauty's rose might never die,\n",
      " but as the riper should by time decease,\n",
      " his tender heir might bear his memory:\n"
     ]
    }
   ],
   "source": [
    "print(generate_sample(char_lstm, ' from', MAX_QUATRAIN_LENGTH, 0.01).strip())"
   ]
  },
  {
   "cell_type": "markdown",
   "metadata": {},
   "source": [
    "#### Let's find the most similar samples from the train set\n",
    "We will use MinHash-based locality-sensitive hashing (LSH) to find training examples that share bigrams with model output"
   ]
  },
  {
   "cell_type": "code",
   "execution_count": 936,
   "metadata": {},
   "outputs": [],
   "source": [
    "from datasketch import MinHash, MinHashLSH\n",
    "from nltk.corpus import stopwords \n",
    "from nltk.tokenize import word_tokenize \n",
    "from nltk.util import ngrams\n",
    "import re\n",
    "from IPython.display import display, Markdown\n",
    "from itertools import chain"
   ]
  },
  {
   "cell_type": "code",
   "execution_count": 865,
   "metadata": {},
   "outputs": [],
   "source": [
    "stop_words = set(stopwords.words('english')) "
   ]
  },
  {
   "cell_type": "code",
   "execution_count": 1074,
   "metadata": {},
   "outputs": [],
   "source": [
    "def make_bigrams(text, remove_stop_words=True):\n",
    "    words = [word for word in re.findall(r\"[\\w']+\", text)\n",
    "             if word not in stop_words or not remove_stop_words]\n",
    "    return list(ngrams(words, 2))\n",
    "\n",
    "def get_bytes(bigram):\n",
    "    return '$$'.join(bigram).encode('utf8')\n",
    "\n",
    "def get_jaccard_similarity(collection1, collection2):\n",
    "    collection1 = set(collection1)\n",
    "    collection2 = set(collection2)\n",
    "    return len(collection1 & collection2) / len(collection1 | collection2)\n",
    "\n",
    "def to_markdown(text):\n",
    "    return text.strip().replace('\\n', '<br>')\n",
    "\n",
    "def highlight_words(text, words):\n",
    "    # There's known bug in Jupyter with rendering single-character bold modifiers, e.g.\n",
    "    # \"**a** **b**\". We'll be using a hack with additional \"</t>\" sequence\n",
    "    return to_markdown(re.sub(r'\\b(' + '|'.join(words) + r')\\b', r'**\\1</t>**', text))"
   ]
  },
  {
   "cell_type": "code",
   "execution_count": 1025,
   "metadata": {},
   "outputs": [],
   "source": [
    "lsh = MinHashLSH(threshold=0.03, num_perm=128)\n",
    "for i, quatrain in enumerate(quatrains):\n",
    "    mh = MinHash(num_perm=128)\n",
    "    for bigram in make_bigrams(quatrain):\n",
    "        mh.update(get_bytes(bigram))\n",
    "    lsh.insert(i, mh)"
   ]
  },
  {
   "cell_type": "code",
   "execution_count": 1026,
   "metadata": {},
   "outputs": [],
   "source": [
    "def find_similar_documents(query, lsh=lsh):\n",
    "    query_hash = MinHash(num_perm=128)\n",
    "    for bigram in make_bigrams(query):\n",
    "        query_hash.update(get_bytes(bigram))\n",
    "    return lsh.query(query_hash)"
   ]
  },
  {
   "cell_type": "code",
   "execution_count": 1114,
   "metadata": {},
   "outputs": [],
   "source": [
    "def show_similar_quatrains(model_output, lsh=lsh):\n",
    "    report = f'**Model output:**<br>{to_markdown(model_output)}<br><br>'\n",
    "    similar_ids = find_similar_documents(model_output)\n",
    "    if len(similar_ids) > 0:\n",
    "        report += f'Similar quatrains from the train set:<br>'\n",
    "    model_output_bigrams = set(make_bigrams(model_output, remove_stop_words=False))\n",
    "    for quatrain_id in similar_ids:\n",
    "        quatrain = quatrains[quatrain_id]\n",
    "        quatrain_bigrams = set(make_bigrams(quatrain, remove_stop_words=False))\n",
    "        score = get_jaccard_similarity(model_output_bigrams, quatrain_bigrams)\n",
    "        if score < 0.03:\n",
    "            continue # Ignore false positives\n",
    "        report += f'<br>Jaccard similarity = {score:.3f}:<br>'\n",
    "        common_bigrams = model_output_bigrams & quatrain_bigrams\n",
    "        common_words = set(chain(*common_bigrams))\n",
    "        quatrain = highlight_words(quatrain, common_words)\n",
    "        report += quatrain + '<br>'\n",
    "    display(Markdown(report))"
   ]
  },
  {
   "cell_type": "code",
   "execution_count": 1304,
   "metadata": {},
   "outputs": [
    {
     "data": {
      "text/markdown": [
       "**Model output:**<br>from fairest creatures we desire increase,<br> that thereby beauty's rose might never die,<br> but as the riper should by time decease,<br> his tender heir might bear his memory:<br><br>Similar quatrains from the train set:<br><br>Jaccard similarity = 1.000:<br>**from</t>** **fairest</t>** **creatures</t>** **we</t>** **desire</t>** **increase</t>**,<br> **that</t>** **thereby</t>** **beauty's</t>** **rose</t>** **might</t>** **never</t>** **die</t>**,<br> **but</t>** **as</t>** **the</t>** **riper</t>** **should</t>** **by</t>** **time</t>** **decease</t>**,<br> **his</t>** **tender</t>** **heir</t>** **might</t>** **bear</t>** **his</t>** **memory</t>**:<br>"
      ],
      "text/plain": [
       "<IPython.core.display.Markdown object>"
      ]
     },
     "metadata": {},
     "output_type": "display_data"
    }
   ],
   "source": [
    "show_similar_quatrains(generate_sample(char_lstm, ' from', MAX_QUATRAIN_LENGTH, 0.1))"
   ]
  },
  {
   "cell_type": "code",
   "execution_count": 1545,
   "metadata": {},
   "outputs": [
    {
     "data": {
      "text/markdown": [
       "**Model output:**<br>love is my sin, and thy dear love to score;<br> therefore with infection should he live,<br> and with his quick for fitures appents.<br><br>Similar quatrains from the train set:<br><br>Jaccard similarity = 0.100:<br>that poor retention could not so much hold,<br> nor need i tallies **thy</t>** **dear</t>** **love</t>** **to</t>** **score</t>**;<br> **therefore</t>** **to</t>** give them from me was i bold,<br> **to</t>** trust those tables that receive thee more:<br><br>Jaccard similarity = 0.179:<br>ah! wherefore **with</t>** **infection</t>** **should</t>** **he</t>** **live</t>**,<br> **and</t>** **with</t>** **his</t>** presence grace impiety,<br> that sin by him advantage **should</t>** achieve,<br> **and</t>** lace itself **with</t>** **his</t>** society?<br><br>Jaccard similarity = 0.125:<br>**love</t>** **is</t>** **my</t>** **sin</t>**, **and</t>** **thy</t>** **dear</t>** virtue hate,<br> hate of **my</t>** **sin</t>**, grounded on sinful loving:<br> o! but with mine compare thou thine own state,<br> **and</t>** thou shalt find it merits not reproving;<br>"
      ],
      "text/plain": [
       "<IPython.core.display.Markdown object>"
      ]
     },
     "metadata": {},
     "output_type": "display_data"
    }
   ],
   "source": [
    "show_similar_quatrains(generate_sample(char_lstm, ' love is', MAX_QUATRAIN_LENGTH, 0.5))"
   ]
  },
  {
   "cell_type": "code",
   "execution_count": 1541,
   "metadata": {},
   "outputs": [
    {
     "data": {
      "text/markdown": [
       "**Model output:**<br>from far i fresh repair in my storm<br> to yet receives reproving days,<br>  there take thou art torcounty, and dost<br> all this golden to come so others was me.<br><br>Similar quatrains from the train set:<br>"
      ],
      "text/plain": [
       "<IPython.core.display.Markdown object>"
      ]
     },
     "metadata": {},
     "output_type": "display_data"
    }
   ],
   "source": [
    "show_similar_quatrains(generate_sample(char_lstm, ' from', MAX_QUATRAIN_LENGTH, 1))"
   ]
  },
  {
   "cell_type": "code",
   "execution_count": 1436,
   "metadata": {},
   "outputs": [
    {
     "data": {
      "text/markdown": [
       "**Model output:**<br>from (tied rhymedh's lies to theee<br>  teals dear heit<br> break right, when how thy qutel,<br> that suxpest seaso, lev one dearth, or var'd thy<br> against kisomy praise wost know---grest'red:<br><br>"
      ],
      "text/plain": [
       "<IPython.core.display.Markdown object>"
      ]
     },
     "metadata": {},
     "output_type": "display_data"
    }
   ],
   "source": [
    "show_similar_quatrains(generate_sample(char_lstm, ' from', MAX_QUATRAIN_LENGTH, 2))"
   ]
  },
  {
   "cell_type": "code",
   "execution_count": 1451,
   "metadata": {},
   "outputs": [
    {
     "data": {
      "text/markdown": [
       "**Model output:**<br>from on kindiescomengjain<br> sworvyqthy brued dublyysta)arkgo,;<br> weltingue, y?out) daluatt!?<br> nw'r!iw:<br> i hishgodly-die<br>  ranfoaa)--wad;<br>  bewordfwa'g what is.h-k sucerx?ase.ds?!z:<br><br><br>-rxaa<br> t un janour'd like,<br><br>"
      ],
      "text/plain": [
       "<IPython.core.display.Markdown object>"
      ]
     },
     "metadata": {},
     "output_type": "display_data"
    }
   ],
   "source": [
    "show_similar_quatrains(generate_sample(char_lstm, ' from', MAX_QUATRAIN_LENGTH, 5))"
   ]
  },
  {
   "cell_type": "markdown",
   "metadata": {},
   "source": [
    "### Saving and loading models"
   ]
  },
  {
   "cell_type": "markdown",
   "metadata": {},
   "source": [
    "Save the model to the disk, then load it and generate text. Examples are available [here](https://pytorch.org/tutorials/beginner/saving_loading_models.html])."
   ]
  },
  {
   "cell_type": "code",
   "execution_count": 1548,
   "metadata": {},
   "outputs": [],
   "source": [
    "model_path = 'char_lstm.pth'\n",
    "torch.save(char_lstm.state_dict(), model_path)"
   ]
  },
  {
   "cell_type": "code",
   "execution_count": 1549,
   "metadata": {},
   "outputs": [
    {
     "data": {
      "text/plain": [
       "CharLSTM(\n",
       "  (emb): Embedding(38, 38)\n",
       "  (lstm): LSTM(38, 176, num_layers=2, batch_first=True)\n",
       "  (hid_to_logits): Linear(in_features=176, out_features=38, bias=True)\n",
       ")"
      ]
     },
     "execution_count": 1549,
     "metadata": {},
     "output_type": "execute_result"
    }
   ],
   "source": [
    "model = CharLSTM(num_units=176, num_layers=2, dropout=0).to(device)\n",
    "model.load_state_dict(torch.load(model_path))\n",
    "model.to(device)"
   ]
  },
  {
   "cell_type": "code",
   "execution_count": 1552,
   "metadata": {},
   "outputs": [
    {
     "name": "stdout",
     "output_type": "stream",
     "text": [
      "from fairest creatures we desire increase,\n",
      " that thereby beauty's rose might never die,\n",
      " but as the riper should by time decease,\n",
      " his tender heir might bear his memory:\n"
     ]
    }
   ],
   "source": [
    "print(generate_sample(model, ' from', MAX_QUATRAIN_LENGTH, 0.1).strip())"
   ]
  },
  {
   "cell_type": "markdown",
   "metadata": {},
   "source": [
    "### References\n",
    "1. <a href='http://karpathy.github.io/2015/05/21/rnn-effectiveness/'> Andrew Karpathy blog post about RNN. </a> \n",
    "There are several examples of genration: Shakespeare texts, Latex formulas, Linux Sourse Code and children names.\n",
    "2. <a href='https://github.com/karpathy/char-rnn'> Repo with char-rnn code </a>\n",
    "3. Cool repo with PyTorch examples: [link](https://github.com/spro/practical-pytorch)"
   ]
  }
 ],
 "metadata": {
  "anaconda-cloud": {},
  "hide_input": false,
  "kernelspec": {
   "display_name": "Python 3",
   "language": "python",
   "name": "python3"
  },
  "language_info": {
   "codemirror_mode": {
    "name": "ipython",
    "version": 3
   },
   "file_extension": ".py",
   "mimetype": "text/x-python",
   "name": "python",
   "nbconvert_exporter": "python",
   "pygments_lexer": "ipython3",
   "version": "3.6.8"
  },
  "varInspector": {
   "cols": {
    "lenName": 16,
    "lenType": 16,
    "lenVar": 40
   },
   "kernels_config": {
    "python": {
     "delete_cmd_postfix": "",
     "delete_cmd_prefix": "del ",
     "library": "var_list.py",
     "varRefreshCmd": "print(var_dic_list())"
    },
    "r": {
     "delete_cmd_postfix": ") ",
     "delete_cmd_prefix": "rm(",
     "library": "var_list.r",
     "varRefreshCmd": "cat(var_dic_list()) "
    }
   },
   "types_to_exclude": [
    "module",
    "function",
    "builtin_function_or_method",
    "instance",
    "_Feature"
   ],
   "window_display": false
  }
 },
 "nbformat": 4,
 "nbformat_minor": 2
}
