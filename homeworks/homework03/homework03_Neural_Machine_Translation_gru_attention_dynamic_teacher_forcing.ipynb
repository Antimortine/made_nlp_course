{
 "cells": [
  {
   "cell_type": "markdown",
   "metadata": {},
   "source": [
    "## Homework №3"
   ]
  },
  {
   "cell_type": "markdown",
   "metadata": {},
   "source": [
    "### Neural Machine Translation in the wild\n",
    "In the third homework you are supposed to get the best translation you can for the EN-RU translation task.\n",
    "\n",
    "Basic approach using RNNs as encoder and decoder is implemented for you. \n",
    "\n",
    "Your ultimate task is to use the techniques we've covered, e.g.\n",
    "\n",
    "* Optimization enhancements (e.g. learning rate decay)\n",
    "\n",
    "* CNN encoder (with or without positional encoding)\n",
    "\n",
    "* attention/self-attention mechanism\n",
    "\n",
    "* pretraining the language model\n",
    "\n",
    "* [Byte Pair Encoding](https://github.com/rsennrich/subword-nmt)\n",
    "\n",
    "* or just fine-tunning BERT ;)\n",
    "\n",
    "to improve the translation quality. \n",
    "\n",
    "__Please use at least three different approaches/models and compare them (translation quality/complexity/training and evaluation time).__\n",
    "\n",
    "Write down some summary on your experiments and illustrate it with convergence plots/metrics and your thoughts. Just like you would approach a real problem."
   ]
  },
  {
   "cell_type": "code",
   "execution_count": 1,
   "metadata": {},
   "outputs": [],
   "source": [
    "from datetime import datetime\n",
    "\n",
    "DEVICE_NAME = 'cuda:1'\n",
    "\n",
    "now = datetime.now().strftime(\"%Y-%m-%d--%H-%M-%S\")\n",
    "model_name = f'gru_attention_dynamic_teacher_forcing_{now}'"
   ]
  },
  {
   "cell_type": "code",
   "execution_count": 2,
   "metadata": {},
   "outputs": [],
   "source": [
    "# Thanks to YSDA NLP course team for the data\n",
    "# (who thanks tilda and deephack teams for the data in their turn)\n",
    "\n",
    "import os\n",
    "path_to_data = '../../datasets/Machine_translation_EN_RU/data.txt'\n",
    "if not os.path.exists(path_to_data):\n",
    "    print(\"Dataset not found locally. Downloading from github.\")\n",
    "    !wget https://raw.githubusercontent.com/neychev/made_nlp_course/master/datasets/Machine_translation_EN_RU/data.txt -nc\n",
    "    path_to_data = './data.txt'"
   ]
  },
  {
   "cell_type": "code",
   "execution_count": 3,
   "metadata": {},
   "outputs": [],
   "source": [
    "import numpy as np\n",
    "import torch\n",
    "import torch.nn as nn\n",
    "import torch.optim as optim\n",
    "from torch.utils.tensorboard import SummaryWriter\n",
    "\n",
    "import torchtext\n",
    "from torchtext.data import Field, BucketIterator\n",
    "from nltk.tokenize import WordPunctTokenizer\n",
    "from nltk.translate.bleu_score import corpus_bleu\n",
    "\n",
    "from tqdm import tqdm\n",
    "import time\n",
    "import random\n",
    "\n",
    "import matplotlib.pyplot as plt\n",
    "%matplotlib inline\n",
    "\n",
    "from utils import generate_translation, remove_tech_tokens, get_text, parse_tensorboard_logs, plot_metrics"
   ]
  },
  {
   "cell_type": "code",
   "execution_count": 4,
   "metadata": {},
   "outputs": [],
   "source": [
    "SEED = 1234\n",
    "\n",
    "random.seed(SEED)\n",
    "torch.manual_seed(SEED)\n",
    "torch.cuda.manual_seed_all(SEED)\n",
    "torch.backends.cudnn.deterministic = True\n",
    "torch.backends.cudnn.benchmark = False"
   ]
  },
  {
   "cell_type": "markdown",
   "metadata": {},
   "source": [
    "### Main part\n",
    "__Here comes the preprocessing. Do not hesitate to use BPE or more complex preprocessing ;)__"
   ]
  },
  {
   "cell_type": "code",
   "execution_count": 5,
   "metadata": {},
   "outputs": [],
   "source": [
    "tokenizer_W = WordPunctTokenizer()\n",
    "def tokenize(x, tokenizer=tokenizer_W):\n",
    "    return tokenizer.tokenize(x.lower())"
   ]
  },
  {
   "cell_type": "code",
   "execution_count": 6,
   "metadata": {},
   "outputs": [],
   "source": [
    "SRC = Field(tokenize=tokenize,\n",
    "            init_token = '<sos>', \n",
    "            eos_token = '<eos>', \n",
    "            lower = True)\n",
    "\n",
    "TRG = Field(tokenize=tokenize,\n",
    "            init_token = '<sos>', \n",
    "            eos_token = '<eos>', \n",
    "            lower = True)\n",
    "\n",
    "dataset = torchtext.data.TabularDataset(\n",
    "    path=path_to_data,\n",
    "    format='tsv',\n",
    "    fields=[('trg', TRG), ('src', SRC)]\n",
    ")"
   ]
  },
  {
   "cell_type": "code",
   "execution_count": 7,
   "metadata": {},
   "outputs": [],
   "source": [
    "train_data, valid_data, test_data = dataset.split(split_ratio=[0.8, 0.15, 0.05], random_state=random.seed(SEED))"
   ]
  },
  {
   "cell_type": "code",
   "execution_count": 8,
   "metadata": {},
   "outputs": [
    {
     "name": "stdout",
     "output_type": "stream",
     "text": [
      "Number of training examples: 40000\n",
      "Number of validation examples: 2500\n",
      "Number of testing examples: 7500\n"
     ]
    }
   ],
   "source": [
    "print(f\"Number of training examples: {len(train_data.examples)}\")\n",
    "print(f\"Number of validation examples: {len(valid_data.examples)}\")\n",
    "print(f\"Number of testing examples: {len(test_data.examples)}\")"
   ]
  },
  {
   "cell_type": "code",
   "execution_count": 9,
   "metadata": {},
   "outputs": [],
   "source": [
    "SRC.build_vocab(train_data, min_freq=3)\n",
    "TRG.build_vocab(train_data, min_freq=3)"
   ]
  },
  {
   "cell_type": "code",
   "execution_count": 10,
   "metadata": {},
   "outputs": [
    {
     "name": "stdout",
     "output_type": "stream",
     "text": [
      "Unique tokens in source (ru) vocabulary: 9256\n",
      "Unique tokens in target (en) vocabulary: 6734\n"
     ]
    }
   ],
   "source": [
    "print(f\"Unique tokens in source (ru) vocabulary: {len(SRC.vocab)}\")\n",
    "print(f\"Unique tokens in target (en) vocabulary: {len(TRG.vocab)}\")"
   ]
  },
  {
   "cell_type": "markdown",
   "metadata": {},
   "source": [
    "Here are tokens from original (RU) corpus:"
   ]
  },
  {
   "cell_type": "code",
   "execution_count": 11,
   "metadata": {},
   "outputs": [
    {
     "data": {
      "text/plain": [
       "['<unk>',\n",
       " 'террасу',\n",
       " 'чистые',\n",
       " 'компьютеры',\n",
       " 'don',\n",
       " 'шамони',\n",
       " 'logis',\n",
       " 'форму',\n",
       " 'душевые',\n",
       " 'техасского']"
      ]
     },
     "execution_count": 11,
     "metadata": {},
     "output_type": "execute_result"
    }
   ],
   "source": [
    "SRC.vocab.itos[::1000]"
   ]
  },
  {
   "cell_type": "markdown",
   "metadata": {},
   "source": [
    "And from target (EN) corpus:"
   ]
  },
  {
   "cell_type": "code",
   "execution_count": 12,
   "metadata": {},
   "outputs": [
    {
     "data": {
      "text/plain": [
       "['<unk>', 'springs', 'galeao', 'calm', 'occupies', 'tegel', 'malioboro']"
      ]
     },
     "execution_count": 12,
     "metadata": {},
     "output_type": "execute_result"
    }
   ],
   "source": [
    "TRG.vocab.itos[::1000]"
   ]
  },
  {
   "cell_type": "markdown",
   "metadata": {},
   "source": [
    "And here is example from train dataset:"
   ]
  },
  {
   "cell_type": "code",
   "execution_count": 13,
   "metadata": {},
   "outputs": [
    {
     "name": "stdout",
     "output_type": "stream",
     "text": [
      "также предлагается доставка продуктов , услуги прачечной и гладильные услуги .\n",
      "other facilities offered at the property include grocery deliveries , laundry and ironing services .\n"
     ]
    }
   ],
   "source": [
    "idx = 9\n",
    "print(' '.join(train_data.examples[idx].src))\n",
    "print(' '.join(train_data.examples[idx].trg))"
   ]
  },
  {
   "cell_type": "markdown",
   "metadata": {},
   "source": [
    "Let's check the length distributions:"
   ]
  },
  {
   "cell_type": "code",
   "execution_count": 14,
   "metadata": {},
   "outputs": [
    {
     "name": "stdout",
     "output_type": "stream",
     "text": [
      "Length distribution in Train data\n",
      "Max source length: 73\n",
      "Max target length: 89\n"
     ]
    },
    {
     "data": {
      "image/png": "[encoded data removed]",
      "text/plain": [
       "<Figure size 576x288 with 2 Axes>"
      ]
     },
     "metadata": {
      "needs_background": "light"
     },
     "output_type": "display_data"
    }
   ],
   "source": [
    "src_length = list(map(len, [x.src for x in train_data.examples]))\n",
    "trg_length = list(map(len, [x.trg for x in train_data.examples]))\n",
    "\n",
    "print('Length distribution in Train data')\n",
    "print(f'Max source length: {max(src_length)}')\n",
    "print(f'Max target length: {max(trg_length)}')\n",
    "plt.figure(figsize=[8, 4])\n",
    "plt.subplot(1, 2, 1)\n",
    "plt.title(\"source length\")\n",
    "plt.hist(list(src_length), bins=20);\n",
    "\n",
    "plt.subplot(1, 2, 2)\n",
    "plt.title(\"translation length\")\n",
    "plt.hist(list(trg_length), bins=20);"
   ]
  },
  {
   "cell_type": "code",
   "execution_count": 15,
   "metadata": {},
   "outputs": [
    {
     "name": "stdout",
     "output_type": "stream",
     "text": [
      "Length distribution in Test data\n",
      "Max source length: 80\n",
      "Max target length: 99\n"
     ]
    },
    {
     "data": {
      "image/png": "[encoded data removed]",
      "text/plain": [
       "<Figure size 576x288 with 2 Axes>"
      ]
     },
     "metadata": {
      "needs_background": "light"
     },
     "output_type": "display_data"
    }
   ],
   "source": [
    "src_length = list(map(len, [x.src for x in test_data.examples]))\n",
    "trg_length = list(map(len, [x.trg for x in test_data.examples]))\n",
    "\n",
    "print('Length distribution in Test data')\n",
    "print(f'Max source length: {max(src_length)}')\n",
    "print(f'Max target length: {max(trg_length)}')\n",
    "plt.figure(figsize=[8, 4])\n",
    "plt.subplot(1, 2, 1)\n",
    "plt.title(\"source length\")\n",
    "plt.hist(list(src_length), bins=20);\n",
    "\n",
    "plt.subplot(1, 2, 2)\n",
    "plt.title(\"translation length\")\n",
    "plt.hist(list(trg_length), bins=20);"
   ]
  },
  {
   "cell_type": "markdown",
   "metadata": {},
   "source": [
    "### Model side\n",
    "__Here comes simple pipeline of NMT model learning. It almost copies the week03 practice__"
   ]
  },
  {
   "cell_type": "code",
   "execution_count": 16,
   "metadata": {},
   "outputs": [
    {
     "data": {
      "text/plain": [
       "device(type='cuda', index=1)"
      ]
     },
     "execution_count": 16,
     "metadata": {},
     "output_type": "execute_result"
    }
   ],
   "source": [
    "device = torch.device(DEVICE_NAME if torch.cuda.is_available() else 'cpu')\n",
    "device"
   ]
  },
  {
   "cell_type": "code",
   "execution_count": 17,
   "metadata": {},
   "outputs": [],
   "source": [
    "def _len_sort_key(x):\n",
    "    return len(x.src)"
   ]
  },
  {
   "cell_type": "code",
   "execution_count": 18,
   "metadata": {},
   "outputs": [],
   "source": [
    "def init_weights(m):\n",
    "    for name, param in m.named_parameters():\n",
    "        nn.init.uniform_(param, -0.08, 0.08)"
   ]
  },
  {
   "cell_type": "code",
   "execution_count": 19,
   "metadata": {},
   "outputs": [],
   "source": [
    "def count_parameters(model):\n",
    "    return sum(p.numel() for p in model.parameters() if p.requires_grad)"
   ]
  },
  {
   "cell_type": "code",
   "execution_count": 20,
   "metadata": {},
   "outputs": [],
   "source": [
    "PAD_IDX = TRG.vocab.stoi['<pad>']"
   ]
  },
  {
   "cell_type": "code",
   "execution_count": 21,
   "metadata": {},
   "outputs": [],
   "source": [
    "def eval_bleu(model, test_iterator, target_vocab=TRG.vocab, with_tqdm=True):\n",
    "    original_text = []\n",
    "    generated_text = []\n",
    "    model.eval()\n",
    "    with torch.no_grad():\n",
    "        test_iterator = tqdm(enumerate(test_iterator)) if with_tqdm else enumerate(test_iterator)\n",
    "        for i, batch in test_iterator:\n",
    "            src = batch.src # [src sent len, batch size]\n",
    "            trg = batch.trg # [trg sent len, batch size]\n",
    "\n",
    "            output = model(src, trg, 0) #turn off teacher forcing\n",
    "            #output = [trg sent len, batch size, output dim]\n",
    "\n",
    "            output = output.argmax(dim=-1)\n",
    "\n",
    "            original_text.extend([get_text(x, target_vocab) for x in trg.cpu().numpy().T])\n",
    "            generated_text.extend([get_text(x, target_vocab) for x in output[1:].detach().cpu().numpy().T])\n",
    "    return corpus_bleu([[text] for text in original_text], generated_text) * 100"
   ]
  },
  {
   "cell_type": "code",
   "execution_count": 22,
   "metadata": {},
   "outputs": [],
   "source": [
    "def get_teacher_forcing_ratio(epoch, base_teacher_forcing_ratio=0.5, decay=0.7):\n",
    "    return base_teacher_forcing_ratio * decay ** epoch"
   ]
  },
  {
   "cell_type": "code",
   "execution_count": 23,
   "metadata": {},
   "outputs": [],
   "source": [
    "def train(model, iterator, optimizer, criterion, clip, epoch):\n",
    "    model.train()\n",
    "    epoch_loss = 0\n",
    "    for i, batch in enumerate(iterator):        \n",
    "        src = batch.src # [src sent len, batch size]\n",
    "        trg = batch.trg # [trg sent len, batch size]\n",
    "        \n",
    "        optimizer.zero_grad()        \n",
    "        teacher_forcing_ratio = get_teacher_forcing_ratio(epoch)\n",
    "        output = model(src, trg, teacher_forcing_ratio) # [trg sent len, batch size, output dim]\n",
    "        \n",
    "        output = output[1:].view(-1, output.shape[-1]) # [(trg sent len - 1) * batch size, output dim]\n",
    "        trg = trg[1:].view(-1) # [(trg sent len - 1) * batch size]\n",
    "        \n",
    "        loss = criterion(output, trg)        \n",
    "        loss.backward()\n",
    "        \n",
    "        # Let's clip the gradient\n",
    "        nn.utils.clip_grad_norm_(model.parameters(), clip)\n",
    "        \n",
    "        optimizer.step()        \n",
    "        batch_loss = loss.item()\n",
    "        epoch_loss += batch_loss\n",
    "        \n",
    "    return epoch_loss / len(iterator)"
   ]
  },
  {
   "cell_type": "code",
   "execution_count": 24,
   "metadata": {},
   "outputs": [],
   "source": [
    "def evaluate(model, iterator, criterion):    \n",
    "    model.eval()    \n",
    "    epoch_loss = 0    \n",
    "    with torch.no_grad():    \n",
    "        for i, batch in enumerate(iterator):\n",
    "            src = batch.src # [src sent len, batch size]\n",
    "            trg = batch.trg # [trg sent len, batch size]\n",
    "\n",
    "            output = model(src, trg, 0) #turn off teacher forcing\n",
    "            # [trg sent len, batch size, output dim]\n",
    "\n",
    "            output = output[1:].view(-1, output.shape[-1]) # [(trg sent len - 1) * batch size]\n",
    "            trg = trg[1:].view(-1) # [(trg sent len - 1) * batch size, output dim]\n",
    "\n",
    "            loss = criterion(output, trg)            \n",
    "            epoch_loss += loss.item()\n",
    "        \n",
    "    return epoch_loss / len(iterator)"
   ]
  },
  {
   "cell_type": "code",
   "execution_count": 25,
   "metadata": {},
   "outputs": [],
   "source": [
    "def epoch_time(start_time, end_time):\n",
    "    elapsed_time = end_time - start_time\n",
    "    elapsed_mins = int(elapsed_time / 60)\n",
    "    elapsed_secs = int(elapsed_time - (elapsed_mins * 60))\n",
    "    return elapsed_mins, elapsed_secs"
   ]
  },
  {
   "cell_type": "code",
   "execution_count": 26,
   "metadata": {},
   "outputs": [],
   "source": [
    "def training_procedure(model, model_name, train_iterator, valid_iterator,\n",
    "                      optimizer, lr_scheduler, criterion, writer, clip, n_epochs):\n",
    "    best_valid_bleu = float('-inf')\n",
    "    for epoch in tqdm(range(n_epochs)):    \n",
    "        start_time = time.time()\n",
    "\n",
    "        train_loss = train(model, train_iterator, optimizer, criterion, clip, epoch)\n",
    "        valid_loss = evaluate(model, valid_iterator, criterion)\n",
    "        lr_scheduler.step(valid_loss)\n",
    "\n",
    "        end_time = time.time()\n",
    "        epoch_mins, epoch_secs = epoch_time(start_time, end_time)\n",
    "        \n",
    "        valid_bleu = eval_bleu(model, valid_iterator, with_tqdm=False)\n",
    "        if valid_bleu > best_valid_bleu:\n",
    "            best_valid_bleu = valid_bleu\n",
    "            torch.save(model.state_dict(), f'models/{model_name}.pt')\n",
    "\n",
    "        writer.add_scalar('Train loss',\n",
    "                    train_loss,\n",
    "                    epoch)\n",
    "        writer.add_scalar('Validation loss',\n",
    "                    valid_loss,\n",
    "                    epoch)\n",
    "        writer.add_scalar('Validation BLEU',\n",
    "                    valid_bleu,\n",
    "                    epoch)\n",
    "        print(f'Epoch: {epoch+1:02} | Time: {epoch_mins}m {epoch_secs}s')\n",
    "        print(f'\\tTrain Loss: {train_loss:.3f} | Train PPL: {np.exp(train_loss):7.3f}')\n",
    "        print(f'\\t Val. Loss: {valid_loss:.3f} |  Val. PPL: {np.exp(valid_loss):7.3f} |  Val. BLEU: {valid_bleu:.3f}')"
   ]
  },
  {
   "cell_type": "code",
   "execution_count": 27,
   "metadata": {},
   "outputs": [],
   "source": [
    "def get_tensorboard_dir(model_name):\n",
    "    return f'runs/{model_name}'"
   ]
  },
  {
   "cell_type": "code",
   "execution_count": 28,
   "metadata": {},
   "outputs": [],
   "source": [
    "def print_samples(model, test_iterator, indices=range(1, 3)):\n",
    "    batch = next(iter(test_iterator))\n",
    "    for idx in indices:\n",
    "        src = batch.src[:, idx:idx+1]\n",
    "        trg = batch.trg[:, idx:idx+1]\n",
    "        generate_translation(src, trg, model, TRG.vocab)"
   ]
  },
  {
   "cell_type": "markdown",
   "metadata": {},
   "source": [
    "## Let's add attention to baseline"
   ]
  },
  {
   "cell_type": "code",
   "execution_count": 29,
   "metadata": {},
   "outputs": [],
   "source": [
    "BATCH_SIZE = 128\n",
    "\n",
    "train_iterator, valid_iterator, test_iterator = BucketIterator.splits(\n",
    "    (train_data, valid_data, test_data), \n",
    "    batch_size = BATCH_SIZE, \n",
    "    device = device,\n",
    "    sort_key=_len_sort_key\n",
    ")"
   ]
  },
  {
   "cell_type": "code",
   "execution_count": 30,
   "metadata": {},
   "outputs": [],
   "source": [
    "class GruEncoder(nn.Module):\n",
    "    def __init__(self, input_dim, emb_dim, hid_dim, n_layers, dropout):\n",
    "        super().__init__()\n",
    "        \n",
    "        self.input_dim = input_dim\n",
    "        self.emb_dim = emb_dim\n",
    "        self.hid_dim = hid_dim\n",
    "        self.n_layers = n_layers\n",
    "        \n",
    "        self.embedding = nn.Embedding(\n",
    "            num_embeddings=input_dim,\n",
    "            embedding_dim=emb_dim\n",
    "        )\n",
    "        \n",
    "        self.rnn = nn.GRU(\n",
    "            input_size=emb_dim,\n",
    "            hidden_size=hid_dim,\n",
    "            num_layers=n_layers,\n",
    "            dropout=dropout\n",
    "        )\n",
    "        \n",
    "        self.dropout = nn.Dropout(p=dropout)\n",
    "        \n",
    "    def forward(self, src, hidden=None):        \n",
    "        # src = [src sent len, batch size]        \n",
    "        embedded = self.embedding(src) # [src sent len, batch size, emb dim]\n",
    "        embedded = self.dropout(embedded)\n",
    "        \n",
    "        if hidden is None:\n",
    "            output, hidden = self.rnn(embedded)\n",
    "        else:\n",
    "            output, hidden = self.rnn(embedded, hidden)\n",
    "        \n",
    "        # output = [src sent len, batch size, hid dim * n directions]\n",
    "        # hidden = [n layers * n directions, batch size, hid dim]\n",
    "        \n",
    "        return hidden"
   ]
  },
  {
   "cell_type": "code",
   "execution_count": 31,
   "metadata": {},
   "outputs": [],
   "source": [
    "from torchnlp.nn.attention import Attention\n",
    "\n",
    "class AttentionGruDecoder(nn.Module):\n",
    "    def __init__(self, output_dim, emb_dim, hid_dim, n_layers, dropout):\n",
    "        super().__init__()\n",
    "\n",
    "        self.emb_dim = emb_dim\n",
    "        self.hid_dim = hid_dim\n",
    "        self.output_dim = output_dim\n",
    "        self.n_layers = n_layers\n",
    "        \n",
    "        self.embedding = nn.Embedding(\n",
    "            num_embeddings=output_dim,\n",
    "            embedding_dim=emb_dim\n",
    "        )\n",
    "        \n",
    "        self.attention = Attention(dimensions=n_layers*hid_dim, attention_type='general')\n",
    "        \n",
    "        self.rnn = nn.GRU(\n",
    "            input_size=emb_dim,\n",
    "            hidden_size=hid_dim,\n",
    "            num_layers=n_layers,\n",
    "            dropout=dropout\n",
    "        )\n",
    "        \n",
    "        self.out = nn.Linear(\n",
    "            in_features=n_layers*hid_dim,\n",
    "            out_features=output_dim\n",
    "        )\n",
    "        \n",
    "        self.dropout = nn.Dropout(p=dropout)\n",
    "        \n",
    "    def forward(self, input, hidden, encoder_outputs):        \n",
    "        # input = [batch size]\n",
    "        # hidden = [n layers * n directions, batch size, hid dim]\n",
    "        # encoder_outputs = [batch size, src sent len, dimensions = n layers * hid dim]\n",
    "        \n",
    "        batch_size = input.shape[0]        \n",
    "        input = input.unsqueeze(0) # [1, batch size]\n",
    "        \n",
    "        embedded = self.dropout(self.embedding(input)) # [1, batch size, emb dim]\n",
    "        \n",
    "        output, hidden = self.rnn(embedded, hidden)\n",
    "        # output = [sent len, batch size, hid dim * n directions]\n",
    "        # hidden = [n layers * n directions, batch size, hid dim]\n",
    "        \n",
    "        # [batch size, output length = 1, dimensions = n layers * n directions * hid dim]\n",
    "        query = hidden.permute(1, 0, 2).reshape(batch_size, 1, self.n_layers * self.hid_dim)\n",
    "        \n",
    "        # [batch size, output length = 1, dimensions = n layers * hid dim]\n",
    "        attention_output, _ = self.attention(query, encoder_outputs)\n",
    "        \n",
    "        # [batch size, dimensions = n layers * hid dim]\n",
    "        attention_output = attention_output.squeeze(1)\n",
    "        \n",
    "        # [batch size, output dim]\n",
    "        prediction = self.out(attention_output)\n",
    "        \n",
    "        return prediction, hidden"
   ]
  },
  {
   "cell_type": "code",
   "execution_count": 32,
   "metadata": {},
   "outputs": [],
   "source": [
    "class AttentionGruSeq2Seq(nn.Module):\n",
    "    def __init__(self, encoder, decoder, device):\n",
    "        super().__init__()\n",
    "        \n",
    "        self.encoder = encoder\n",
    "        self.decoder = decoder\n",
    "        self.device = device\n",
    "        \n",
    "        assert encoder.hid_dim == decoder.hid_dim, \\\n",
    "            \"Hidden dimensions of encoder and decoder must be equal!\"\n",
    "        assert encoder.n_layers == decoder.n_layers, \\\n",
    "            \"Encoder and decoder must have equal number of layers!\"\n",
    "        \n",
    "    def forward(self, src, trg, teacher_forcing_ratio=0.5):        \n",
    "        # src = [src sent len, batch size]\n",
    "        # trg = [trg sent len, batch size]\n",
    "        # teacher_forcing_ratio is probability to use teacher forcing\n",
    "        # e.g. if teacher_forcing_ratio is 0.75 we use ground-truth inputs 75% of the time\n",
    "        \n",
    "        batch_size = trg.shape[1]\n",
    "        max_len = trg.shape[0]\n",
    "        trg_vocab_size = self.decoder.output_dim\n",
    "        \n",
    "        decoder_outputs = torch.zeros(max_len, batch_size, trg_vocab_size).to(self.device)\n",
    "        \n",
    "        encoder_state_size = self.encoder.n_layers * self.encoder.hid_dim\n",
    "        \n",
    "        # [src sent len, batch size, dimensions = n layers * hid dim]\n",
    "        encoder_states = torch.zeros(src.shape[0], batch_size, encoder_state_size).to(self.device)\n",
    "        \n",
    "        first_encoder_input = src[0].unsqueeze(0) # [1, batch size]\n",
    "        hidden = self.encoder(first_encoder_input) # [n layers * n directions, batch size, hid dim]\n",
    "        # [batch size, n layers * n directions * hid dim]\n",
    "        encoder_states[0] = hidden.permute(1,0,2).reshape(batch_size, encoder_state_size)\n",
    "        \n",
    "        for t in range(1, src.shape[0]):\n",
    "            hidden = self.encoder(src[t].unsqueeze(0), hidden)\n",
    "            encoder_states[t] = hidden.permute(1,0,2).reshape(batch_size, encoder_state_size)\n",
    "        \n",
    "        # [batch size, src sent len, dimensions = n layers * hid dim]\n",
    "        encoder_states = encoder_states.permute(1, 0, 2)\n",
    "        \n",
    "        # first input to the decoder is the <sos> tokens\n",
    "        input = trg[0,:]\n",
    "        \n",
    "        for t in range(1, max_len):            \n",
    "            output, hidden = self.decoder(input, hidden, encoder_states)\n",
    "            decoder_outputs[t] = output\n",
    "            teacher_force = random.random() < teacher_forcing_ratio\n",
    "            top1 = output.max(1)[1]\n",
    "            input = (trg[t] if teacher_force else top1)\n",
    "        \n",
    "        return decoder_outputs"
   ]
  },
  {
   "cell_type": "code",
   "execution_count": 33,
   "metadata": {},
   "outputs": [],
   "source": [
    "INPUT_DIM = len(SRC.vocab)\n",
    "OUTPUT_DIM = len(TRG.vocab)\n",
    "ENC_EMB_DIM = 256\n",
    "DEC_EMB_DIM = 256\n",
    "HID_DIM = 512\n",
    "N_LAYERS = 2\n",
    "ENC_DROPOUT = 0.5\n",
    "DEC_DROPOUT = 0.5\n",
    "\n",
    "LR = 1e-3\n",
    "CLIP = 1\n",
    "N_EPOCHS = 30"
   ]
  },
  {
   "cell_type": "code",
   "execution_count": 34,
   "metadata": {},
   "outputs": [
    {
     "data": {
      "text/plain": [
       "AttentionGruSeq2Seq(\n",
       "  (encoder): GruEncoder(\n",
       "    (embedding): Embedding(9256, 256)\n",
       "    (rnn): GRU(256, 512, num_layers=2, dropout=0.5)\n",
       "    (dropout): Dropout(p=0.5, inplace=False)\n",
       "  )\n",
       "  (decoder): AttentionGruDecoder(\n",
       "    (embedding): Embedding(6734, 256)\n",
       "    (attention): Attention(\n",
       "      (linear_in): Linear(in_features=1024, out_features=1024, bias=False)\n",
       "      (linear_out): Linear(in_features=2048, out_features=1024, bias=False)\n",
       "      (softmax): Softmax(dim=-1)\n",
       "      (tanh): Tanh()\n",
       "    )\n",
       "    (rnn): GRU(256, 512, num_layers=2, dropout=0.5)\n",
       "    (out): Linear(in_features=1024, out_features=6734, bias=True)\n",
       "    (dropout): Dropout(p=0.5, inplace=False)\n",
       "  )\n",
       ")"
      ]
     },
     "execution_count": 34,
     "metadata": {},
     "output_type": "execute_result"
    }
   ],
   "source": [
    "enc = GruEncoder(INPUT_DIM, ENC_EMB_DIM, HID_DIM, N_LAYERS, ENC_DROPOUT)\n",
    "dec = AttentionGruDecoder(OUTPUT_DIM, DEC_EMB_DIM, HID_DIM, N_LAYERS, DEC_DROPOUT)\n",
    "model = AttentionGruSeq2Seq(enc, dec, device).to(device)\n",
    "model.apply(init_weights)"
   ]
  },
  {
   "cell_type": "code",
   "execution_count": 35,
   "metadata": {},
   "outputs": [
    {
     "data": {
      "text/plain": [
       "19658830"
      ]
     },
     "execution_count": 35,
     "metadata": {},
     "output_type": "execute_result"
    }
   ],
   "source": [
    "count_parameters(model)"
   ]
  },
  {
   "cell_type": "code",
   "execution_count": 36,
   "metadata": {},
   "outputs": [],
   "source": [
    "optimizer = optim.AdamW(model.parameters(), lr=LR, weight_decay=0.001, amsgrad=True)\n",
    "lr_scheduler = optim.lr_scheduler.ReduceLROnPlateau(optimizer, 'min', factor=0.3, patience=2)\n",
    "criterion = nn.CrossEntropyLoss(ignore_index=PAD_IDX)"
   ]
  },
  {
   "cell_type": "code",
   "execution_count": 37,
   "metadata": {
    "scrolled": true
   },
   "outputs": [
    {
     "name": "stderr",
     "output_type": "stream",
     "text": [
      "\r",
      "  0%|          | 0/30 [00:00<?, ?it/s]"
     ]
    },
    {
     "name": "stdout",
     "output_type": "stream",
     "text": [
      "runs/gru_attention_dynamic_teacher_forcing_2020-05-26--23-50-53\n"
     ]
    },
    {
     "name": "stderr",
     "output_type": "stream",
     "text": [
      "\r",
      "  3%|▎         | 1/30 [02:13<1:04:23, 133.22s/it]"
     ]
    },
    {
     "name": "stdout",
     "output_type": "stream",
     "text": [
      "Epoch: 01 | Time: 2m 10s\n",
      "\tTrain Loss: 4.209 | Train PPL:  67.322\n",
      "\t Val. Loss: 4.706 |  Val. PPL: 110.616 |  Val. BLEU: 17.175\n"
     ]
    },
    {
     "name": "stderr",
     "output_type": "stream",
     "text": [
      "\r",
      "  7%|▋         | 2/30 [04:27<1:02:16, 133.46s/it]"
     ]
    },
    {
     "name": "stdout",
     "output_type": "stream",
     "text": [
      "Epoch: 02 | Time: 2m 10s\n",
      "\tTrain Loss: 3.500 | Train PPL:  33.121\n",
      "\t Val. Loss: 4.204 |  Val. PPL:  66.951 |  Val. BLEU: 22.808\n"
     ]
    },
    {
     "name": "stderr",
     "output_type": "stream",
     "text": [
      "\r",
      " 10%|█         | 3/30 [06:41<1:00:08, 133.65s/it]"
     ]
    },
    {
     "name": "stdout",
     "output_type": "stream",
     "text": [
      "Epoch: 03 | Time: 2m 11s\n",
      "\tTrain Loss: 3.442 | Train PPL:  31.239\n",
      "\t Val. Loss: 3.708 |  Val. PPL:  40.768 |  Val. BLEU: 20.599\n"
     ]
    },
    {
     "name": "stderr",
     "output_type": "stream",
     "text": [
      "\r",
      " 13%|█▎        | 4/30 [08:54<57:53, 133.59s/it]  "
     ]
    },
    {
     "name": "stdout",
     "output_type": "stream",
     "text": [
      "Epoch: 04 | Time: 2m 11s\n",
      "\tTrain Loss: 3.396 | Train PPL:  29.836\n",
      "\t Val. Loss: 3.746 |  Val. PPL:  42.336 |  Val. BLEU: 22.522\n"
     ]
    },
    {
     "name": "stderr",
     "output_type": "stream",
     "text": [
      "\r",
      " 17%|█▋        | 5/30 [11:08<55:41, 133.65s/it]"
     ]
    },
    {
     "name": "stdout",
     "output_type": "stream",
     "text": [
      "Epoch: 05 | Time: 2m 11s\n",
      "\tTrain Loss: 3.321 | Train PPL:  27.691\n",
      "\t Val. Loss: 3.592 |  Val. PPL:  36.298 |  Val. BLEU: 20.804\n"
     ]
    },
    {
     "name": "stderr",
     "output_type": "stream",
     "text": [
      "\r",
      " 20%|██        | 6/30 [13:22<53:26, 133.60s/it]"
     ]
    },
    {
     "name": "stdout",
     "output_type": "stream",
     "text": [
      "Epoch: 06 | Time: 2m 11s\n",
      "\tTrain Loss: 3.235 | Train PPL:  25.413\n",
      "\t Val. Loss: 3.541 |  Val. PPL:  34.513 |  Val. BLEU: 15.938\n"
     ]
    },
    {
     "name": "stderr",
     "output_type": "stream",
     "text": [
      "\r",
      " 23%|██▎       | 7/30 [15:32<50:53, 132.76s/it]"
     ]
    },
    {
     "name": "stdout",
     "output_type": "stream",
     "text": [
      "Epoch: 07 | Time: 2m 8s\n",
      "\tTrain Loss: 3.147 | Train PPL:  23.271\n",
      "\t Val. Loss: 3.597 |  Val. PPL:  36.487 |  Val. BLEU: 16.016\n"
     ]
    },
    {
     "name": "stderr",
     "output_type": "stream",
     "text": [
      "\r",
      " 27%|██▋       | 8/30 [17:44<48:35, 132.53s/it]"
     ]
    },
    {
     "name": "stdout",
     "output_type": "stream",
     "text": [
      "Epoch: 08 | Time: 2m 9s\n",
      "\tTrain Loss: 3.055 | Train PPL:  21.216\n",
      "\t Val. Loss: 3.661 |  Val. PPL:  38.889 |  Val. BLEU: 15.932\n"
     ]
    },
    {
     "name": "stderr",
     "output_type": "stream",
     "text": [
      "\r",
      " 30%|███       | 9/30 [19:58<46:28, 132.78s/it]"
     ]
    },
    {
     "name": "stdout",
     "output_type": "stream",
     "text": [
      "Epoch: 09 | Time: 2m 11s\n",
      "\tTrain Loss: 2.975 | Train PPL:  19.589\n",
      "\t Val. Loss: 3.642 |  Val. PPL:  38.176 |  Val. BLEU: 14.841\n"
     ]
    },
    {
     "name": "stderr",
     "output_type": "stream",
     "text": [
      "\r",
      " 33%|███▎      | 10/30 [22:10<44:14, 132.73s/it]"
     ]
    },
    {
     "name": "stdout",
     "output_type": "stream",
     "text": [
      "Epoch: 10 | Time: 2m 10s\n",
      "\tTrain Loss: 2.726 | Train PPL:  15.274\n",
      "\t Val. Loss: 3.586 |  Val. PPL:  36.084 |  Val. BLEU: 17.448\n"
     ]
    },
    {
     "name": "stderr",
     "output_type": "stream",
     "text": [
      "\r",
      " 37%|███▋      | 11/30 [24:24<42:09, 133.15s/it]"
     ]
    },
    {
     "name": "stdout",
     "output_type": "stream",
     "text": [
      "Epoch: 11 | Time: 2m 12s\n",
      "\tTrain Loss: 2.630 | Train PPL:  13.874\n",
      "\t Val. Loss: 3.622 |  Val. PPL:  37.414 |  Val. BLEU: 17.335\n"
     ]
    },
    {
     "name": "stderr",
     "output_type": "stream",
     "text": [
      "\r",
      " 40%|████      | 12/30 [26:37<39:53, 132.98s/it]"
     ]
    },
    {
     "name": "stdout",
     "output_type": "stream",
     "text": [
      "Epoch: 12 | Time: 2m 10s\n",
      "\tTrain Loss: 2.584 | Train PPL:  13.245\n",
      "\t Val. Loss: 3.634 |  Val. PPL:  37.850 |  Val. BLEU: 16.973\n"
     ]
    },
    {
     "name": "stderr",
     "output_type": "stream",
     "text": [
      "\r",
      " 43%|████▎     | 13/30 [28:48<37:30, 132.38s/it]"
     ]
    },
    {
     "name": "stdout",
     "output_type": "stream",
     "text": [
      "Epoch: 13 | Time: 2m 8s\n",
      "\tTrain Loss: 2.493 | Train PPL:  12.092\n",
      "\t Val. Loss: 3.634 |  Val. PPL:  37.882 |  Val. BLEU: 17.526\n"
     ]
    },
    {
     "name": "stderr",
     "output_type": "stream",
     "text": [
      "\r",
      " 47%|████▋     | 14/30 [31:00<35:17, 132.36s/it]"
     ]
    },
    {
     "name": "stdout",
     "output_type": "stream",
     "text": [
      "Epoch: 14 | Time: 2m 10s\n",
      "\tTrain Loss: 2.464 | Train PPL:  11.749\n",
      "\t Val. Loss: 3.656 |  Val. PPL:  38.695 |  Val. BLEU: 17.499\n"
     ]
    },
    {
     "name": "stderr",
     "output_type": "stream",
     "text": [
      "\r",
      " 50%|█████     | 15/30 [33:12<33:03, 132.27s/it]"
     ]
    },
    {
     "name": "stdout",
     "output_type": "stream",
     "text": [
      "Epoch: 15 | Time: 2m 9s\n",
      "\tTrain Loss: 2.447 | Train PPL:  11.552\n",
      "\t Val. Loss: 3.653 |  Val. PPL:  38.577 |  Val. BLEU: 17.360\n"
     ]
    },
    {
     "name": "stderr",
     "output_type": "stream",
     "text": [
      "\r",
      " 53%|█████▎    | 16/30 [35:24<30:51, 132.22s/it]"
     ]
    },
    {
     "name": "stdout",
     "output_type": "stream",
     "text": [
      "Epoch: 16 | Time: 2m 10s\n",
      "\tTrain Loss: 2.414 | Train PPL:  11.178\n",
      "\t Val. Loss: 3.662 |  Val. PPL:  38.939 |  Val. BLEU: 17.672\n"
     ]
    },
    {
     "name": "stderr",
     "output_type": "stream",
     "text": [
      "\r",
      " 57%|█████▋    | 17/30 [37:38<28:42, 132.47s/it]"
     ]
    },
    {
     "name": "stdout",
     "output_type": "stream",
     "text": [
      "Epoch: 17 | Time: 2m 10s\n",
      "\tTrain Loss: 2.406 | Train PPL:  11.094\n",
      "\t Val. Loss: 3.658 |  Val. PPL:  38.774 |  Val. BLEU: 17.586\n"
     ]
    },
    {
     "name": "stderr",
     "output_type": "stream",
     "text": [
      "\r",
      " 60%|██████    | 18/30 [39:50<26:29, 132.49s/it]"
     ]
    },
    {
     "name": "stdout",
     "output_type": "stream",
     "text": [
      "Epoch: 18 | Time: 2m 10s\n",
      "\tTrain Loss: 2.401 | Train PPL:  11.036\n",
      "\t Val. Loss: 3.669 |  Val. PPL:  39.199 |  Val. BLEU: 17.692\n"
     ]
    },
    {
     "name": "stderr",
     "output_type": "stream",
     "text": [
      "\r",
      " 63%|██████▎   | 19/30 [42:03<24:19, 132.69s/it]"
     ]
    },
    {
     "name": "stdout",
     "output_type": "stream",
     "text": [
      "Epoch: 19 | Time: 2m 11s\n",
      "\tTrain Loss: 2.392 | Train PPL:  10.937\n",
      "\t Val. Loss: 3.666 |  Val. PPL:  39.113 |  Val. BLEU: 17.654\n"
     ]
    },
    {
     "name": "stderr",
     "output_type": "stream",
     "text": [
      "\r",
      " 67%|██████▋   | 20/30 [44:17<22:09, 132.98s/it]"
     ]
    },
    {
     "name": "stdout",
     "output_type": "stream",
     "text": [
      "Epoch: 20 | Time: 2m 11s\n",
      "\tTrain Loss: 2.389 | Train PPL:  10.901\n",
      "\t Val. Loss: 3.666 |  Val. PPL:  39.113 |  Val. BLEU: 17.651\n"
     ]
    },
    {
     "name": "stderr",
     "output_type": "stream",
     "text": [
      "\r",
      " 70%|███████   | 21/30 [46:32<20:03, 133.72s/it]"
     ]
    },
    {
     "name": "stdout",
     "output_type": "stream",
     "text": [
      "Epoch: 21 | Time: 2m 13s\n",
      "\tTrain Loss: 2.388 | Train PPL:  10.895\n",
      "\t Val. Loss: 3.669 |  Val. PPL:  39.195 |  Val. BLEU: 17.727\n"
     ]
    },
    {
     "name": "stderr",
     "output_type": "stream",
     "text": [
      "\r",
      " 73%|███████▎  | 22/30 [48:45<17:48, 133.51s/it]"
     ]
    },
    {
     "name": "stdout",
     "output_type": "stream",
     "text": [
      "Epoch: 22 | Time: 2m 10s\n",
      "\tTrain Loss: 2.384 | Train PPL:  10.849\n",
      "\t Val. Loss: 3.668 |  Val. PPL:  39.188 |  Val. BLEU: 17.747\n"
     ]
    },
    {
     "name": "stderr",
     "output_type": "stream",
     "text": [
      "\r",
      " 77%|███████▋  | 23/30 [50:58<15:31, 133.11s/it]"
     ]
    },
    {
     "name": "stdout",
     "output_type": "stream",
     "text": [
      "Epoch: 23 | Time: 2m 10s\n",
      "\tTrain Loss: 2.385 | Train PPL:  10.862\n",
      "\t Val. Loss: 3.668 |  Val. PPL:  39.168 |  Val. BLEU: 17.734\n"
     ]
    },
    {
     "name": "stderr",
     "output_type": "stream",
     "text": [
      "\r",
      " 80%|████████  | 24/30 [53:11<13:20, 133.36s/it]"
     ]
    },
    {
     "name": "stdout",
     "output_type": "stream",
     "text": [
      "Epoch: 24 | Time: 2m 11s\n",
      "\tTrain Loss: 2.385 | Train PPL:  10.855\n",
      "\t Val. Loss: 3.668 |  Val. PPL:  39.185 |  Val. BLEU: 17.650\n"
     ]
    },
    {
     "name": "stderr",
     "output_type": "stream",
     "text": [
      "\r",
      " 83%|████████▎ | 25/30 [55:23<11:03, 132.77s/it]"
     ]
    },
    {
     "name": "stdout",
     "output_type": "stream",
     "text": [
      "Epoch: 25 | Time: 2m 9s\n",
      "\tTrain Loss: 2.382 | Train PPL:  10.830\n",
      "\t Val. Loss: 3.669 |  Val. PPL:  39.199 |  Val. BLEU: 17.687\n"
     ]
    },
    {
     "name": "stderr",
     "output_type": "stream",
     "text": [
      "\r",
      " 87%|████████▋ | 26/30 [57:33<08:48, 132.07s/it]"
     ]
    },
    {
     "name": "stdout",
     "output_type": "stream",
     "text": [
      "Epoch: 26 | Time: 2m 8s\n",
      "\tTrain Loss: 2.384 | Train PPL:  10.847\n",
      "\t Val. Loss: 3.670 |  Val. PPL:  39.233 |  Val. BLEU: 17.672\n"
     ]
    },
    {
     "name": "stderr",
     "output_type": "stream",
     "text": [
      "\r",
      " 90%|█████████ | 27/30 [59:45<06:36, 132.00s/it]"
     ]
    },
    {
     "name": "stdout",
     "output_type": "stream",
     "text": [
      "Epoch: 27 | Time: 2m 9s\n",
      "\tTrain Loss: 2.382 | Train PPL:  10.824\n",
      "\t Val. Loss: 3.670 |  Val. PPL:  39.240 |  Val. BLEU: 17.655\n"
     ]
    },
    {
     "name": "stderr",
     "output_type": "stream",
     "text": [
      "\r",
      " 93%|█████████▎| 28/30 [1:01:58<04:24, 132.37s/it]"
     ]
    },
    {
     "name": "stdout",
     "output_type": "stream",
     "text": [
      "Epoch: 28 | Time: 2m 11s\n",
      "\tTrain Loss: 2.382 | Train PPL:  10.823\n",
      "\t Val. Loss: 3.670 |  Val. PPL:  39.234 |  Val. BLEU: 17.653\n"
     ]
    },
    {
     "name": "stderr",
     "output_type": "stream",
     "text": [
      "\r",
      " 97%|█████████▋| 29/30 [1:04:10<02:12, 132.09s/it]"
     ]
    },
    {
     "name": "stdout",
     "output_type": "stream",
     "text": [
      "Epoch: 29 | Time: 2m 9s\n",
      "\tTrain Loss: 2.382 | Train PPL:  10.825\n",
      "\t Val. Loss: 3.669 |  Val. PPL:  39.225 |  Val. BLEU: 17.635\n"
     ]
    },
    {
     "name": "stderr",
     "output_type": "stream",
     "text": [
      "\r",
      "100%|██████████| 30/30 [1:06:24<00:00, 132.66s/it]"
     ]
    },
    {
     "name": "stdout",
     "output_type": "stream",
     "text": [
      "Epoch: 30 | Time: 2m 11s\n",
      "\tTrain Loss: 2.380 | Train PPL:  10.810\n",
      "\t Val. Loss: 3.670 |  Val. PPL:  39.235 |  Val. BLEU: 17.628\n"
     ]
    },
    {
     "name": "stderr",
     "output_type": "stream",
     "text": [
      "\n"
     ]
    }
   ],
   "source": [
    "tensorboard_dir = get_tensorboard_dir(model_name)\n",
    "print(tensorboard_dir)\n",
    "writer = SummaryWriter(tensorboard_dir)\n",
    "training_procedure(model, model_name, train_iterator, valid_iterator,\n",
    "                      optimizer, lr_scheduler, criterion, writer, clip=CLIP, n_epochs=N_EPOCHS)"
   ]
  },
  {
   "cell_type": "markdown",
   "metadata": {},
   "source": [
    "**Let's load best model**"
   ]
  },
  {
   "cell_type": "code",
   "execution_count": 38,
   "metadata": {},
   "outputs": [],
   "source": [
    "with open(f'models/{model_name}.pt', 'rb') as fp:\n",
    "    best_state_dict = torch.load(fp, map_location='cpu')\n",
    "    model.load_state_dict(best_state_dict)"
   ]
  },
  {
   "cell_type": "markdown",
   "metadata": {},
   "source": [
    "**And look at its predictions**"
   ]
  },
  {
   "cell_type": "code",
   "execution_count": 39,
   "metadata": {},
   "outputs": [
    {
     "name": "stdout",
     "output_type": "stream",
     "text": [
      "Original: there is a 24 - hour front desk at the property .\n",
      "Generated: you will find a 24 - hour front desk at the property .\n",
      "\n",
      "Original: you will find a 24 - hour front desk at the property .\n",
      "Generated: you will find a 24 - hour front desk at the property .\n",
      "\n",
      "Original: there is a 24 - hour front desk at the property .\n",
      "Generated: you will find a 24 - hour front desk at the property .\n",
      "\n",
      "Original: free private parking is available .\n",
      "Generated: private parking is available on site .\n",
      "\n",
      "Original: there are several restaurants in the surrounding area .\n",
      "Generated: several restaurants are nearby restaurants nearby .\n",
      "\n",
      "Original: the property also offers free parking .\n",
      "Generated: free parking is available .\n",
      "\n",
      "Original: the unit is fitted with a kitchen .\n",
      "Generated: the kitchen is a kitchen .\n",
      "\n",
      "Original: the bathroom has a shower .\n",
      "Generated: the bathroom comes with a shower .\n",
      "\n",
      "Original: there is also a fireplace in the living room .\n",
      "Generated: the living room with a fireplace .\n",
      "\n",
      "Original: you will find a coffee machine in the room .\n",
      "Generated: a coffee machine are also available .\n",
      "\n"
     ]
    }
   ],
   "source": [
    "print_samples(model, test_iterator, range(10))"
   ]
  },
  {
   "cell_type": "code",
   "execution_count": 40,
   "metadata": {},
   "outputs": [
    {
     "name": "stderr",
     "output_type": "stream",
     "text": [
      "59it [00:04,  5.99it/s]\n"
     ]
    },
    {
     "name": "stdout",
     "output_type": "stream",
     "text": [
      "Test BLEU: 22.209852929657274\n"
     ]
    }
   ],
   "source": [
    "print('Test BLEU:', eval_bleu(model, test_iterator))"
   ]
  },
  {
   "cell_type": "markdown",
   "metadata": {},
   "source": [
    "**And plot train/val metrics**"
   ]
  },
  {
   "cell_type": "code",
   "execution_count": 41,
   "metadata": {},
   "outputs": [],
   "source": [
    "logs = parse_tensorboard_logs(tensorboard_dir)"
   ]
  },
  {
   "cell_type": "code",
   "execution_count": 42,
   "metadata": {},
   "outputs": [],
   "source": [
    "printable_model_name = '_'.join(model_name.split('_')[:-1])"
   ]
  },
  {
   "cell_type": "code",
   "execution_count": 50,
   "metadata": {},
   "outputs": [
    {
     "data": {
      "image/png": "[encoded data removed]",
      "text/plain": [
       "<Figure size 1080x504 with 2 Axes>"
      ]
     },
     "metadata": {
      "needs_background": "light"
     },
     "output_type": "display_data"
    }
   ],
   "source": [
    "plot_metrics(logs, printable_model_name)"
   ]
  }
 ],
 "metadata": {
  "anaconda-cloud": {},
  "colab": {
   "collapsed_sections": [],
   "machine_shape": "hm",
   "name": "homework.ipynb",
   "provenance": []
  },
  "kernelspec": {
   "display_name": "Python 3",
   "language": "python",
   "name": "python3"
  },
  "language_info": {
   "codemirror_mode": {
    "name": "ipython",
    "version": 3
   },
   "file_extension": ".py",
   "mimetype": "text/x-python",
   "name": "python",
   "nbconvert_exporter": "python",
   "pygments_lexer": "ipython3",
   "version": "3.6.8"
  }
 },
 "nbformat": 4,
 "nbformat_minor": 1
}
