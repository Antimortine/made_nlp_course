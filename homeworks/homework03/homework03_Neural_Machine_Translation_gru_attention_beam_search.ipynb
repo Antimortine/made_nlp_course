{
 "cells": [
  {
   "cell_type": "markdown",
   "metadata": {},
   "source": [
    "## Homework №3"
   ]
  },
  {
   "cell_type": "markdown",
   "metadata": {},
   "source": [
    "### Neural Machine Translation in the wild\n",
    "In the third homework you are supposed to get the best translation you can for the EN-RU translation task.\n",
    "\n",
    "Basic approach using RNNs as encoder and decoder is implemented for you. \n",
    "\n",
    "Your ultimate task is to use the techniques we've covered, e.g.\n",
    "\n",
    "* Optimization enhancements (e.g. learning rate decay)\n",
    "\n",
    "* CNN encoder (with or without positional encoding)\n",
    "\n",
    "* attention/self-attention mechanism\n",
    "\n",
    "* pretraining the language model\n",
    "\n",
    "* [Byte Pair Encoding](https://github.com/rsennrich/subword-nmt)\n",
    "\n",
    "* or just fine-tunning BERT ;)\n",
    "\n",
    "to improve the translation quality. \n",
    "\n",
    "__Please use at least three different approaches/models and compare them (translation quality/complexity/training and evaluation time).__\n",
    "\n",
    "Write down some summary on your experiments and illustrate it with convergence plots/metrics and your thoughts. Just like you would approach a real problem."
   ]
  },
  {
   "cell_type": "code",
   "execution_count": 1,
   "metadata": {},
   "outputs": [],
   "source": [
    "from datetime import datetime\n",
    "\n",
    "DEVICE_NAME = 'cuda:0'\n",
    "\n",
    "now = datetime.now().strftime(\"%Y-%m-%d--%H-%M-%S\")\n",
    "model_name = f'gru_attention_beam_search_{now}'"
   ]
  },
  {
   "cell_type": "code",
   "execution_count": 2,
   "metadata": {},
   "outputs": [],
   "source": [
    "# Thanks to YSDA NLP course team for the data\n",
    "# (who thanks tilda and deephack teams for the data in their turn)\n",
    "\n",
    "import os\n",
    "path_to_data = '../../datasets/Machine_translation_EN_RU/data.txt'\n",
    "if not os.path.exists(path_to_data):\n",
    "    print(\"Dataset not found locally. Downloading from github.\")\n",
    "    !wget https://raw.githubusercontent.com/neychev/made_nlp_course/master/datasets/Machine_translation_EN_RU/data.txt -nc\n",
    "    path_to_data = './data.txt'"
   ]
  },
  {
   "cell_type": "code",
   "execution_count": 3,
   "metadata": {},
   "outputs": [],
   "source": [
    "import numpy as np\n",
    "import torch\n",
    "import torch.nn as nn\n",
    "import torch.optim as optim\n",
    "from torch.utils.tensorboard import SummaryWriter\n",
    "\n",
    "import torchtext\n",
    "from torchtext.data import Field, BucketIterator\n",
    "from nltk.tokenize import WordPunctTokenizer\n",
    "from nltk.translate.bleu_score import corpus_bleu\n",
    "\n",
    "from tqdm import tqdm\n",
    "import time\n",
    "import random\n",
    "\n",
    "import matplotlib.pyplot as plt\n",
    "%matplotlib inline\n",
    "\n",
    "from utils import generate_translation, remove_tech_tokens, get_text, \\\n",
    "                    parse_tensorboard_logs, plot_metrics, beam_search, _len_sort_key, init_weights, count_parameters"
   ]
  },
  {
   "cell_type": "code",
   "execution_count": 4,
   "metadata": {},
   "outputs": [],
   "source": [
    "SEED = 1234\n",
    "\n",
    "random.seed(SEED)\n",
    "torch.manual_seed(SEED)\n",
    "torch.cuda.manual_seed_all(SEED)\n",
    "torch.backends.cudnn.deterministic = True\n",
    "torch.backends.cudnn.benchmark = False"
   ]
  },
  {
   "cell_type": "markdown",
   "metadata": {},
   "source": [
    "### Main part\n",
    "__Here comes the preprocessing. Do not hesitate to use BPE or more complex preprocessing ;)__"
   ]
  },
  {
   "cell_type": "code",
   "execution_count": 5,
   "metadata": {},
   "outputs": [],
   "source": [
    "tokenizer_W = WordPunctTokenizer()\n",
    "def tokenize(x, tokenizer=tokenizer_W):\n",
    "    return tokenizer.tokenize(x.lower())"
   ]
  },
  {
   "cell_type": "code",
   "execution_count": 6,
   "metadata": {},
   "outputs": [],
   "source": [
    "SRC = Field(tokenize=tokenize,\n",
    "            init_token = '<sos>', \n",
    "            eos_token = '<eos>', \n",
    "            lower = True)\n",
    "\n",
    "TRG = Field(tokenize=tokenize,\n",
    "            init_token = '<sos>', \n",
    "            eos_token = '<eos>', \n",
    "            lower = True)\n",
    "\n",
    "dataset = torchtext.data.TabularDataset(\n",
    "    path=path_to_data,\n",
    "    format='tsv',\n",
    "    fields=[('trg', TRG), ('src', SRC)]\n",
    ")"
   ]
  },
  {
   "cell_type": "code",
   "execution_count": 7,
   "metadata": {},
   "outputs": [],
   "source": [
    "train_data, valid_data, test_data = dataset.split(split_ratio=[0.8, 0.15, 0.05], random_state=random.seed(SEED))"
   ]
  },
  {
   "cell_type": "code",
   "execution_count": 8,
   "metadata": {},
   "outputs": [
    {
     "name": "stdout",
     "output_type": "stream",
     "text": [
      "Number of training examples: 40000\n",
      "Number of validation examples: 2500\n",
      "Number of testing examples: 7500\n"
     ]
    }
   ],
   "source": [
    "print(f\"Number of training examples: {len(train_data.examples)}\")\n",
    "print(f\"Number of validation examples: {len(valid_data.examples)}\")\n",
    "print(f\"Number of testing examples: {len(test_data.examples)}\")"
   ]
  },
  {
   "cell_type": "code",
   "execution_count": 9,
   "metadata": {},
   "outputs": [],
   "source": [
    "SRC.build_vocab(train_data, min_freq=3)\n",
    "TRG.build_vocab(train_data, min_freq=3)"
   ]
  },
  {
   "cell_type": "code",
   "execution_count": 10,
   "metadata": {},
   "outputs": [
    {
     "name": "stdout",
     "output_type": "stream",
     "text": [
      "Unique tokens in source (ru) vocabulary: 9256\n",
      "Unique tokens in target (en) vocabulary: 6734\n"
     ]
    }
   ],
   "source": [
    "print(f\"Unique tokens in source (ru) vocabulary: {len(SRC.vocab)}\")\n",
    "print(f\"Unique tokens in target (en) vocabulary: {len(TRG.vocab)}\")"
   ]
  },
  {
   "cell_type": "markdown",
   "metadata": {},
   "source": [
    "Here are tokens from original (RU) corpus:"
   ]
  },
  {
   "cell_type": "code",
   "execution_count": 11,
   "metadata": {},
   "outputs": [
    {
     "data": {
      "text/plain": [
       "['<unk>',\n",
       " 'террасу',\n",
       " 'чистые',\n",
       " 'компьютеры',\n",
       " 'don',\n",
       " 'шамони',\n",
       " 'logis',\n",
       " 'форму',\n",
       " 'душевые',\n",
       " 'техасского']"
      ]
     },
     "execution_count": 11,
     "metadata": {},
     "output_type": "execute_result"
    }
   ],
   "source": [
    "SRC.vocab.itos[::1000]"
   ]
  },
  {
   "cell_type": "markdown",
   "metadata": {},
   "source": [
    "And from target (EN) corpus:"
   ]
  },
  {
   "cell_type": "code",
   "execution_count": 12,
   "metadata": {},
   "outputs": [
    {
     "data": {
      "text/plain": [
       "['<unk>', 'springs', 'galeao', 'calm', 'occupies', 'tegel', 'malioboro']"
      ]
     },
     "execution_count": 12,
     "metadata": {},
     "output_type": "execute_result"
    }
   ],
   "source": [
    "TRG.vocab.itos[::1000]"
   ]
  },
  {
   "cell_type": "markdown",
   "metadata": {},
   "source": [
    "And here is example from train dataset:"
   ]
  },
  {
   "cell_type": "code",
   "execution_count": 13,
   "metadata": {},
   "outputs": [
    {
     "name": "stdout",
     "output_type": "stream",
     "text": [
      "также предлагается доставка продуктов , услуги прачечной и гладильные услуги .\n",
      "other facilities offered at the property include grocery deliveries , laundry and ironing services .\n"
     ]
    }
   ],
   "source": [
    "idx = 9\n",
    "print(' '.join(train_data.examples[idx].src))\n",
    "print(' '.join(train_data.examples[idx].trg))"
   ]
  },
  {
   "cell_type": "markdown",
   "metadata": {},
   "source": [
    "Let's check the length distributions:"
   ]
  },
  {
   "cell_type": "code",
   "execution_count": 14,
   "metadata": {},
   "outputs": [
    {
     "name": "stdout",
     "output_type": "stream",
     "text": [
      "Length distribution in Train data\n",
      "Max source length: 73\n",
      "Max target length: 89\n"
     ]
    },
    {
     "data": {
      "image/png": "[encoded data removed]",
      "text/plain": [
       "<Figure size 576x288 with 2 Axes>"
      ]
     },
     "metadata": {
      "needs_background": "light"
     },
     "output_type": "display_data"
    }
   ],
   "source": [
    "src_length = list(map(len, [x.src for x in train_data.examples]))\n",
    "trg_length = list(map(len, [x.trg for x in train_data.examples]))\n",
    "\n",
    "print('Length distribution in Train data')\n",
    "print(f'Max source length: {max(src_length)}')\n",
    "print(f'Max target length: {max(trg_length)}')\n",
    "plt.figure(figsize=[8, 4])\n",
    "plt.subplot(1, 2, 1)\n",
    "plt.title(\"source length\")\n",
    "plt.hist(list(src_length), bins=20);\n",
    "\n",
    "plt.subplot(1, 2, 2)\n",
    "plt.title(\"translation length\")\n",
    "plt.hist(list(trg_length), bins=20);"
   ]
  },
  {
   "cell_type": "code",
   "execution_count": 15,
   "metadata": {},
   "outputs": [
    {
     "name": "stdout",
     "output_type": "stream",
     "text": [
      "Length distribution in Test data\n",
      "Max source length: 80\n",
      "Max target length: 99\n"
     ]
    },
    {
     "data": {
      "image/png": "[encoded data removed]",
      "text/plain": [
       "<Figure size 576x288 with 2 Axes>"
      ]
     },
     "metadata": {
      "needs_background": "light"
     },
     "output_type": "display_data"
    }
   ],
   "source": [
    "src_length = list(map(len, [x.src for x in test_data.examples]))\n",
    "trg_length = list(map(len, [x.trg for x in test_data.examples]))\n",
    "\n",
    "print('Length distribution in Test data')\n",
    "print(f'Max source length: {max(src_length)}')\n",
    "print(f'Max target length: {max(trg_length)}')\n",
    "plt.figure(figsize=[8, 4])\n",
    "plt.subplot(1, 2, 1)\n",
    "plt.title(\"source length\")\n",
    "plt.hist(list(src_length), bins=20);\n",
    "\n",
    "plt.subplot(1, 2, 2)\n",
    "plt.title(\"translation length\")\n",
    "plt.hist(list(trg_length), bins=20);"
   ]
  },
  {
   "cell_type": "markdown",
   "metadata": {},
   "source": [
    "### Model side\n",
    "__Here comes simple pipeline of NMT model learning. It almost copies the week03 practice__"
   ]
  },
  {
   "cell_type": "code",
   "execution_count": 16,
   "metadata": {},
   "outputs": [
    {
     "data": {
      "text/plain": [
       "device(type='cuda', index=0)"
      ]
     },
     "execution_count": 16,
     "metadata": {},
     "output_type": "execute_result"
    }
   ],
   "source": [
    "device = torch.device(DEVICE_NAME if torch.cuda.is_available() else 'cpu')\n",
    "device"
   ]
  },
  {
   "cell_type": "code",
   "execution_count": 17,
   "metadata": {},
   "outputs": [],
   "source": [
    "def eval_bleu(model, test_iterator, target_vocab=TRG.vocab, beam_width=1, with_tqdm=True):\n",
    "    assert beam_width > 0\n",
    "    original_text = []\n",
    "    generated_text = []\n",
    "    model.eval()\n",
    "    with torch.no_grad():\n",
    "        if with_tqdm:\n",
    "            test_iterator = tqdm(test_iterator, position=0, leave=True)\n",
    "        for i, batch in enumerate(test_iterator):\n",
    "            src = batch.src # [src sent len, batch size]\n",
    "            trg = batch.trg # [trg sent len, batch size]\n",
    "            \n",
    "            if beam_width == 1:\n",
    "                output = model(src, trg, 0) #turn off teacher forcing\n",
    "                #output = [trg sent len, batch size, output dim]\n",
    "\n",
    "                output = output.argmax(dim=-1) # [trg sent len, batch size]\n",
    "            else:\n",
    "                output = beam_search(model, src, trg, target_vocab, beam_width)  # [trg sent len, batch size]\n",
    "\n",
    "            original_text.extend([get_text(x, target_vocab) for x in trg.cpu().numpy().T])\n",
    "            generated_text.extend([get_text(x, target_vocab) for x in output[1:].detach().cpu().numpy().T])\n",
    "    return corpus_bleu([[text] for text in original_text], generated_text) * 100"
   ]
  },
  {
   "cell_type": "code",
   "execution_count": 18,
   "metadata": {},
   "outputs": [],
   "source": [
    "def get_teacher_forcing_ratio(epoch, base_teacher_forcing_ratio=0.5, decay=1):\n",
    "    return base_teacher_forcing_ratio * decay ** epoch"
   ]
  },
  {
   "cell_type": "code",
   "execution_count": 19,
   "metadata": {},
   "outputs": [],
   "source": [
    "def train(model, iterator, optimizer, criterion, clip, epoch):\n",
    "    model.train()\n",
    "    epoch_loss = 0\n",
    "    for i, batch in enumerate(iterator):        \n",
    "        src = batch.src # [src sent len, batch size]\n",
    "        trg = batch.trg # [trg sent len, batch size]\n",
    "        \n",
    "        optimizer.zero_grad()        \n",
    "        teacher_forcing_ratio = get_teacher_forcing_ratio(epoch)\n",
    "        output = model(src, trg, teacher_forcing_ratio) # [trg sent len, batch size, output dim]\n",
    "        \n",
    "        output = output[1:].view(-1, output.shape[-1]) # [(trg sent len - 1) * batch size, output dim]\n",
    "        trg = trg[1:].view(-1) # [(trg sent len - 1) * batch size]\n",
    "        \n",
    "        loss = criterion(output, trg)        \n",
    "        loss.backward()\n",
    "        \n",
    "        # Let's clip the gradient\n",
    "        nn.utils.clip_grad_norm_(model.parameters(), clip)\n",
    "        \n",
    "        optimizer.step()        \n",
    "        batch_loss = loss.item()\n",
    "        epoch_loss += batch_loss\n",
    "        \n",
    "    return epoch_loss / len(iterator)"
   ]
  },
  {
   "cell_type": "code",
   "execution_count": 20,
   "metadata": {},
   "outputs": [],
   "source": [
    "def evaluate(model, iterator, criterion):    \n",
    "    model.eval()    \n",
    "    epoch_loss = 0    \n",
    "    with torch.no_grad():    \n",
    "        for i, batch in enumerate(iterator):\n",
    "            src = batch.src # [src sent len, batch size]\n",
    "            trg = batch.trg # [trg sent len, batch size]\n",
    "\n",
    "            output = model(src, trg, 0) #turn off teacher forcing\n",
    "            # [trg sent len, batch size, output dim]\n",
    "\n",
    "            output = output[1:].view(-1, output.shape[-1]) # [(trg sent len - 1) * batch size]\n",
    "            trg = trg[1:].view(-1) # [(trg sent len - 1) * batch size, output dim]\n",
    "\n",
    "            loss = criterion(output, trg)            \n",
    "            epoch_loss += loss.item()\n",
    "        \n",
    "    return epoch_loss / len(iterator)"
   ]
  },
  {
   "cell_type": "code",
   "execution_count": 21,
   "metadata": {},
   "outputs": [],
   "source": [
    "def epoch_time(start_time, end_time):\n",
    "    elapsed_time = end_time - start_time\n",
    "    elapsed_mins = int(elapsed_time / 60)\n",
    "    elapsed_secs = int(elapsed_time - (elapsed_mins * 60))\n",
    "    return elapsed_mins, elapsed_secs"
   ]
  },
  {
   "cell_type": "code",
   "execution_count": 22,
   "metadata": {},
   "outputs": [],
   "source": [
    "def training_procedure(model, model_name, train_iterator, valid_iterator,\n",
    "                      optimizer, lr_scheduler, criterion, writer, clip, n_epochs, beam_width=10):\n",
    "    best_valid_bleu = float('-inf')\n",
    "    for epoch in tqdm(range(n_epochs)):    \n",
    "        start_time = time.time()\n",
    "\n",
    "        train_loss = train(model, train_iterator, optimizer, criterion, clip, epoch)\n",
    "        valid_loss = evaluate(model, valid_iterator, criterion)\n",
    "        lr_scheduler.step(valid_loss)\n",
    "\n",
    "        end_time = time.time()\n",
    "        epoch_mins, epoch_secs = epoch_time(start_time, end_time)\n",
    "        \n",
    "        valid_bleu_greedy = eval_bleu(model, valid_iterator, beam_width=1, with_tqdm=False)\n",
    "        writer.add_scalar('Validation BLEU (Greedy)',\n",
    "                    valid_bleu_greedy,\n",
    "                    epoch)\n",
    "        \n",
    "        valid_bleu_beam = eval_bleu(model, valid_iterator, beam_width=beam_width, with_tqdm=False)\n",
    "        writer.add_scalar(f'Validation BLEU (BeamSearch@{beam_width})',\n",
    "                    valid_bleu_beam,\n",
    "                    epoch)\n",
    "        \n",
    "        max_bleu = max(valid_bleu_greedy, valid_bleu_beam)\n",
    "        if max_bleu > best_valid_bleu:\n",
    "            best_valid_bleu = max_bleu\n",
    "            torch.save(model.state_dict(), f'models/{model_name}.pt')\n",
    "\n",
    "        writer.add_scalar('Train loss',\n",
    "                    train_loss,\n",
    "                    epoch)\n",
    "        writer.add_scalar('Validation loss',\n",
    "                    valid_loss,\n",
    "                    epoch)\n",
    "        print(f'Epoch: {epoch+1:02} | Time: {epoch_mins}m {epoch_secs}s')\n",
    "        print(f'\\tTrain Loss: {train_loss:.3f} | Train PPL: {np.exp(train_loss):7.3f}')\n",
    "        print(f'\\t Val. Loss: {valid_loss:.3f} |  Val. PPL: {np.exp(valid_loss):7.3f}')\n",
    "        print(f'\\tVal. BLEU (Greedy): {valid_bleu_greedy:.3f} | Val. BLEU (BeamSearch@{beam_width}): {valid_bleu_beam:.3f}')"
   ]
  },
  {
   "cell_type": "code",
   "execution_count": 23,
   "metadata": {},
   "outputs": [],
   "source": [
    "def get_tensorboard_dir(model_name):\n",
    "    return f'runs/{model_name}'"
   ]
  },
  {
   "cell_type": "code",
   "execution_count": 24,
   "metadata": {},
   "outputs": [],
   "source": [
    "def print_samples(model, test_iterator, indices=range(0, 10), beam_widths=[2,10]):\n",
    "    batch = next(iter(test_iterator))\n",
    "    for idx in indices:\n",
    "        src = batch.src[:, idx:idx+1]\n",
    "        trg = batch.trg[:, idx:idx+1]\n",
    "        generate_translation(src, trg, model, TRG.vocab, beam_widths)"
   ]
  },
  {
   "cell_type": "markdown",
   "metadata": {},
   "source": [
    "## Let's use GRU encoder-decoder with attention"
   ]
  },
  {
   "cell_type": "code",
   "execution_count": 25,
   "metadata": {},
   "outputs": [],
   "source": [
    "BATCH_SIZE = 128\n",
    "\n",
    "train_iterator, valid_iterator, test_iterator = BucketIterator.splits(\n",
    "    (train_data, valid_data, test_data), \n",
    "    batch_size = BATCH_SIZE, \n",
    "    device = device,\n",
    "    sort_key=_len_sort_key\n",
    ")"
   ]
  },
  {
   "cell_type": "code",
   "execution_count": 26,
   "metadata": {},
   "outputs": [],
   "source": [
    "INPUT_DIM = len(SRC.vocab)\n",
    "OUTPUT_DIM = len(TRG.vocab)\n",
    "ENC_EMB_DIM = 256\n",
    "DEC_EMB_DIM = 256\n",
    "HID_DIM = 512\n",
    "N_LAYERS = 2\n",
    "ENC_DROPOUT = 0.5\n",
    "DEC_DROPOUT = 0.5\n",
    "\n",
    "LR = 1e-3\n",
    "CLIP = 1\n",
    "N_EPOCHS = 35"
   ]
  },
  {
   "cell_type": "code",
   "execution_count": 27,
   "metadata": {},
   "outputs": [
    {
     "data": {
      "text/plain": [
       "AttentionGruSeq2Seq(\n",
       "  (encoder): GruEncoder(\n",
       "    (embedding): Embedding(9256, 256)\n",
       "    (rnn): GRU(256, 512, num_layers=2, dropout=0.5)\n",
       "    (dropout): Dropout(p=0.5, inplace=False)\n",
       "  )\n",
       "  (decoder): AttentionGruDecoder(\n",
       "    (embedding): Embedding(6734, 256)\n",
       "    (attention): Attention(\n",
       "      (linear_in): Linear(in_features=1024, out_features=1024, bias=False)\n",
       "      (linear_out): Linear(in_features=2048, out_features=1024, bias=False)\n",
       "      (softmax): Softmax(dim=-1)\n",
       "      (tanh): Tanh()\n",
       "    )\n",
       "    (rnn): GRU(256, 512, num_layers=2, dropout=0.5)\n",
       "    (out): Linear(in_features=1024, out_features=6734, bias=True)\n",
       "    (dropout): Dropout(p=0.5, inplace=False)\n",
       "  )\n",
       ")"
      ]
     },
     "execution_count": 27,
     "metadata": {},
     "output_type": "execute_result"
    }
   ],
   "source": [
    "from models import GruEncoder, AttentionGruDecoder, AttentionGruSeq2Seq\n",
    "\n",
    "enc = GruEncoder(INPUT_DIM, ENC_EMB_DIM, HID_DIM, N_LAYERS, ENC_DROPOUT)\n",
    "dec = AttentionGruDecoder(OUTPUT_DIM, DEC_EMB_DIM, HID_DIM, N_LAYERS, DEC_DROPOUT)\n",
    "model = AttentionGruSeq2Seq(enc, dec, device).to(device)\n",
    "model.apply(init_weights)"
   ]
  },
  {
   "cell_type": "code",
   "execution_count": 28,
   "metadata": {},
   "outputs": [
    {
     "data": {
      "text/plain": [
       "19658830"
      ]
     },
     "execution_count": 28,
     "metadata": {},
     "output_type": "execute_result"
    }
   ],
   "source": [
    "count_parameters(model)"
   ]
  },
  {
   "cell_type": "code",
   "execution_count": 29,
   "metadata": {},
   "outputs": [],
   "source": [
    "PAD_IDX = TRG.vocab.stoi['<pad>']"
   ]
  },
  {
   "cell_type": "code",
   "execution_count": 30,
   "metadata": {},
   "outputs": [],
   "source": [
    "optimizer = optim.AdamW(model.parameters(), lr=LR, weight_decay=0.001, amsgrad=True)\n",
    "lr_scheduler = optim.lr_scheduler.ReduceLROnPlateau(optimizer, 'min', factor=0.3, patience=2)\n",
    "criterion = nn.CrossEntropyLoss(ignore_index=PAD_IDX)"
   ]
  },
  {
   "cell_type": "code",
   "execution_count": 31,
   "metadata": {
    "scrolled": true
   },
   "outputs": [
    {
     "name": "stderr",
     "output_type": "stream",
     "text": [
      "\r",
      "  0%|          | 0/35 [00:00<?, ?it/s]"
     ]
    },
    {
     "name": "stdout",
     "output_type": "stream",
     "text": [
      "runs/gru_attention_beam_search_2020-05-28--20-39-59\n"
     ]
    },
    {
     "name": "stderr",
     "output_type": "stream",
     "text": [
      "\r",
      "  3%|▎         | 1/35 [04:20<2:27:44, 260.73s/it]"
     ]
    },
    {
     "name": "stdout",
     "output_type": "stream",
     "text": [
      "Epoch: 01 | Time: 2m 12s\n",
      "\tTrain Loss: 4.209 | Train PPL:  67.322\n",
      "\t Val. Loss: 4.706 |  Val. PPL: 110.616\n",
      "\tVal. BLEU (Greedy): 17.175 | Val. BLEU (BeamSearch@10): 19.824\n"
     ]
    },
    {
     "name": "stderr",
     "output_type": "stream",
     "text": [
      "\r",
      "  6%|▌         | 2/35 [08:45<2:24:01, 261.85s/it]"
     ]
    },
    {
     "name": "stdout",
     "output_type": "stream",
     "text": [
      "Epoch: 02 | Time: 2m 11s\n",
      "\tTrain Loss: 3.180 | Train PPL:  24.050\n",
      "\t Val. Loss: 4.550 |  Val. PPL:  94.679\n",
      "\tVal. BLEU (Greedy): 24.819 | Val. BLEU (BeamSearch@10): 26.979\n"
     ]
    },
    {
     "name": "stderr",
     "output_type": "stream",
     "text": [
      "\r",
      "  9%|▊         | 3/35 [13:12<2:20:31, 263.49s/it]"
     ]
    },
    {
     "name": "stdout",
     "output_type": "stream",
     "text": [
      "Epoch: 03 | Time: 2m 13s\n",
      "\tTrain Loss: 2.865 | Train PPL:  17.554\n",
      "\t Val. Loss: 4.275 |  Val. PPL:  71.891\n",
      "\tVal. BLEU (Greedy): 26.980 | Val. BLEU (BeamSearch@10): 28.969\n"
     ]
    },
    {
     "name": "stderr",
     "output_type": "stream",
     "text": [
      "\r",
      " 11%|█▏        | 4/35 [17:37<2:16:23, 263.97s/it]"
     ]
    },
    {
     "name": "stdout",
     "output_type": "stream",
     "text": [
      "Epoch: 04 | Time: 2m 12s\n",
      "\tTrain Loss: 2.631 | Train PPL:  13.888\n",
      "\t Val. Loss: 4.433 |  Val. PPL:  84.147\n",
      "\tVal. BLEU (Greedy): 29.273 | Val. BLEU (BeamSearch@10): 31.513\n"
     ]
    },
    {
     "name": "stderr",
     "output_type": "stream",
     "text": [
      "\r",
      " 14%|█▍        | 5/35 [22:05<2:12:38, 265.29s/it]"
     ]
    },
    {
     "name": "stdout",
     "output_type": "stream",
     "text": [
      "Epoch: 05 | Time: 2m 14s\n",
      "\tTrain Loss: 2.463 | Train PPL:  11.739\n",
      "\t Val. Loss: 4.427 |  Val. PPL:  83.704\n",
      "\tVal. BLEU (Greedy): 30.453 | Val. BLEU (BeamSearch@10): 33.210\n"
     ]
    },
    {
     "name": "stderr",
     "output_type": "stream",
     "text": [
      "\r",
      " 17%|█▋        | 6/35 [26:34<2:08:44, 266.37s/it]"
     ]
    },
    {
     "name": "stdout",
     "output_type": "stream",
     "text": [
      "Epoch: 06 | Time: 2m 13s\n",
      "\tTrain Loss: 2.343 | Train PPL:  10.418\n",
      "\t Val. Loss: 4.279 |  Val. PPL:  72.166\n",
      "\tVal. BLEU (Greedy): 29.137 | Val. BLEU (BeamSearch@10): 31.796\n"
     ]
    },
    {
     "name": "stderr",
     "output_type": "stream",
     "text": [
      "\r",
      " 20%|██        | 7/35 [31:08<2:05:18, 268.52s/it]"
     ]
    },
    {
     "name": "stdout",
     "output_type": "stream",
     "text": [
      "Epoch: 07 | Time: 2m 11s\n",
      "\tTrain Loss: 2.061 | Train PPL:   7.854\n",
      "\t Val. Loss: 4.264 |  Val. PPL:  71.075\n",
      "\tVal. BLEU (Greedy): 33.149 | Val. BLEU (BeamSearch@10): 35.965\n"
     ]
    },
    {
     "name": "stderr",
     "output_type": "stream",
     "text": [
      "\r",
      " 23%|██▎       | 8/35 [35:42<2:01:37, 270.29s/it]"
     ]
    },
    {
     "name": "stdout",
     "output_type": "stream",
     "text": [
      "Epoch: 08 | Time: 2m 13s\n",
      "\tTrain Loss: 1.940 | Train PPL:   6.959\n",
      "\t Val. Loss: 4.347 |  Val. PPL:  77.250\n",
      "\tVal. BLEU (Greedy): 33.020 | Val. BLEU (BeamSearch@10): 36.027\n"
     ]
    },
    {
     "name": "stderr",
     "output_type": "stream",
     "text": [
      "\r",
      " 26%|██▌       | 9/35 [40:14<1:57:17, 270.67s/it]"
     ]
    },
    {
     "name": "stdout",
     "output_type": "stream",
     "text": [
      "Epoch: 09 | Time: 2m 12s\n",
      "\tTrain Loss: 1.866 | Train PPL:   6.460\n",
      "\t Val. Loss: 4.285 |  Val. PPL:  72.584\n",
      "\tVal. BLEU (Greedy): 33.365 | Val. BLEU (BeamSearch@10): 36.273\n"
     ]
    },
    {
     "name": "stderr",
     "output_type": "stream",
     "text": [
      "\r",
      " 29%|██▊       | 10/35 [44:50<1:53:25, 272.22s/it]"
     ]
    },
    {
     "name": "stdout",
     "output_type": "stream",
     "text": [
      "Epoch: 10 | Time: 2m 13s\n",
      "\tTrain Loss: 1.838 | Train PPL:   6.284\n",
      "\t Val. Loss: 4.330 |  Val. PPL:  75.955\n",
      "\tVal. BLEU (Greedy): 33.806 | Val. BLEU (BeamSearch@10): 36.415\n"
     ]
    },
    {
     "name": "stderr",
     "output_type": "stream",
     "text": [
      "\r",
      " 31%|███▏      | 11/35 [49:11<1:47:31, 268.82s/it]"
     ]
    },
    {
     "name": "stdout",
     "output_type": "stream",
     "text": [
      "Epoch: 11 | Time: 2m 13s\n",
      "\tTrain Loss: 1.723 | Train PPL:   5.604\n",
      "\t Val. Loss: 4.353 |  Val. PPL:  77.720\n",
      "\tVal. BLEU (Greedy): 34.288 | Val. BLEU (BeamSearch@10): 36.852\n"
     ]
    },
    {
     "name": "stderr",
     "output_type": "stream",
     "text": [
      "\r",
      " 34%|███▍      | 12/35 [53:37<1:42:43, 267.96s/it]"
     ]
    },
    {
     "name": "stdout",
     "output_type": "stream",
     "text": [
      "Epoch: 12 | Time: 2m 13s\n",
      "\tTrain Loss: 1.712 | Train PPL:   5.540\n",
      "\t Val. Loss: 4.370 |  Val. PPL:  79.006\n",
      "\tVal. BLEU (Greedy): 34.262 | Val. BLEU (BeamSearch@10): 36.906\n"
     ]
    },
    {
     "name": "stderr",
     "output_type": "stream",
     "text": [
      "\r",
      " 37%|███▋      | 13/35 [58:04<1:38:10, 267.77s/it]"
     ]
    },
    {
     "name": "stdout",
     "output_type": "stream",
     "text": [
      "Epoch: 13 | Time: 2m 11s\n",
      "\tTrain Loss: 1.665 | Train PPL:   5.287\n",
      "\t Val. Loss: 4.342 |  Val. PPL:  76.887\n",
      "\tVal. BLEU (Greedy): 34.387 | Val. BLEU (BeamSearch@10): 36.895\n"
     ]
    },
    {
     "name": "stderr",
     "output_type": "stream",
     "text": [
      "\r",
      " 40%|████      | 14/35 [1:02:42<1:34:47, 270.85s/it]"
     ]
    },
    {
     "name": "stdout",
     "output_type": "stream",
     "text": [
      "Epoch: 14 | Time: 2m 12s\n",
      "\tTrain Loss: 1.659 | Train PPL:   5.253\n",
      "\t Val. Loss: 4.372 |  Val. PPL:  79.191\n",
      "\tVal. BLEU (Greedy): 34.189 | Val. BLEU (BeamSearch@10): 36.976\n"
     ]
    },
    {
     "name": "stderr",
     "output_type": "stream",
     "text": [
      "\r",
      " 43%|████▎     | 15/35 [1:07:21<1:31:07, 273.36s/it]"
     ]
    },
    {
     "name": "stdout",
     "output_type": "stream",
     "text": [
      "Epoch: 15 | Time: 2m 15s\n",
      "\tTrain Loss: 1.657 | Train PPL:   5.243\n",
      "\t Val. Loss: 4.363 |  Val. PPL:  78.504\n",
      "\tVal. BLEU (Greedy): 34.315 | Val. BLEU (BeamSearch@10): 36.867\n"
     ]
    },
    {
     "name": "stderr",
     "output_type": "stream",
     "text": [
      "\r",
      " 46%|████▌     | 16/35 [1:11:55<1:26:37, 273.54s/it]"
     ]
    },
    {
     "name": "stdout",
     "output_type": "stream",
     "text": [
      "Epoch: 16 | Time: 2m 16s\n",
      "\tTrain Loss: 1.640 | Train PPL:   5.157\n",
      "\t Val. Loss: 4.391 |  Val. PPL:  80.690\n",
      "\tVal. BLEU (Greedy): 34.576 | Val. BLEU (BeamSearch@10): 36.836\n"
     ]
    },
    {
     "name": "stderr",
     "output_type": "stream",
     "text": [
      "\r",
      " 49%|████▊     | 17/35 [1:16:27<1:21:56, 273.14s/it]"
     ]
    },
    {
     "name": "stdout",
     "output_type": "stream",
     "text": [
      "Epoch: 17 | Time: 2m 16s\n",
      "\tTrain Loss: 1.651 | Train PPL:   5.211\n",
      "\t Val. Loss: 4.366 |  Val. PPL:  78.719\n",
      "\tVal. BLEU (Greedy): 34.539 | Val. BLEU (BeamSearch@10): 36.998\n"
     ]
    },
    {
     "name": "stderr",
     "output_type": "stream",
     "text": [
      "\r",
      " 51%|█████▏    | 18/35 [1:21:01<1:17:24, 273.21s/it]"
     ]
    },
    {
     "name": "stdout",
     "output_type": "stream",
     "text": [
      "Epoch: 18 | Time: 2m 12s\n",
      "\tTrain Loss: 1.641 | Train PPL:   5.158\n",
      "\t Val. Loss: 4.368 |  Val. PPL:  78.861\n",
      "\tVal. BLEU (Greedy): 34.524 | Val. BLEU (BeamSearch@10): 36.909\n"
     ]
    },
    {
     "name": "stderr",
     "output_type": "stream",
     "text": [
      "\r",
      " 54%|█████▍    | 19/35 [1:25:40<1:13:22, 275.17s/it]"
     ]
    },
    {
     "name": "stdout",
     "output_type": "stream",
     "text": [
      "Epoch: 19 | Time: 2m 16s\n",
      "\tTrain Loss: 1.647 | Train PPL:   5.190\n",
      "\t Val. Loss: 4.364 |  Val. PPL:  78.564\n",
      "\tVal. BLEU (Greedy): 34.485 | Val. BLEU (BeamSearch@10): 36.879\n"
     ]
    },
    {
     "name": "stderr",
     "output_type": "stream",
     "text": [
      "\r",
      " 57%|█████▋    | 20/35 [1:30:10<1:08:22, 273.52s/it]"
     ]
    },
    {
     "name": "stdout",
     "output_type": "stream",
     "text": [
      "Epoch: 20 | Time: 2m 12s\n",
      "\tTrain Loss: 1.623 | Train PPL:   5.068\n",
      "\t Val. Loss: 4.365 |  Val. PPL:  78.682\n",
      "\tVal. BLEU (Greedy): 34.564 | Val. BLEU (BeamSearch@10): 36.923\n"
     ]
    },
    {
     "name": "stderr",
     "output_type": "stream",
     "text": [
      "\r",
      " 60%|██████    | 21/35 [1:34:43<1:03:46, 273.30s/it]"
     ]
    },
    {
     "name": "stdout",
     "output_type": "stream",
     "text": [
      "Epoch: 21 | Time: 2m 15s\n",
      "\tTrain Loss: 1.627 | Train PPL:   5.090\n",
      "\t Val. Loss: 4.369 |  Val. PPL:  78.990\n",
      "\tVal. BLEU (Greedy): 34.637 | Val. BLEU (BeamSearch@10): 36.917\n"
     ]
    },
    {
     "name": "stderr",
     "output_type": "stream",
     "text": [
      "\r",
      " 63%|██████▎   | 22/35 [1:39:07<58:35, 270.40s/it]  "
     ]
    },
    {
     "name": "stdout",
     "output_type": "stream",
     "text": [
      "Epoch: 22 | Time: 2m 13s\n",
      "\tTrain Loss: 1.655 | Train PPL:   5.232\n",
      "\t Val. Loss: 4.360 |  Val. PPL:  78.285\n",
      "\tVal. BLEU (Greedy): 34.698 | Val. BLEU (BeamSearch@10): 36.892\n"
     ]
    },
    {
     "name": "stderr",
     "output_type": "stream",
     "text": [
      "\r",
      " 66%|██████▌   | 23/35 [1:43:30<53:40, 268.36s/it]"
     ]
    },
    {
     "name": "stdout",
     "output_type": "stream",
     "text": [
      "Epoch: 23 | Time: 2m 11s\n",
      "\tTrain Loss: 1.614 | Train PPL:   5.021\n",
      "\t Val. Loss: 4.365 |  Val. PPL:  78.662\n",
      "\tVal. BLEU (Greedy): 34.672 | Val. BLEU (BeamSearch@10): 36.983\n"
     ]
    },
    {
     "name": "stderr",
     "output_type": "stream",
     "text": [
      "\r",
      " 69%|██████▊   | 24/35 [1:47:58<49:09, 268.14s/it]"
     ]
    },
    {
     "name": "stdout",
     "output_type": "stream",
     "text": [
      "Epoch: 24 | Time: 2m 12s\n",
      "\tTrain Loss: 1.631 | Train PPL:   5.111\n",
      "\t Val. Loss: 4.363 |  Val. PPL:  78.466\n",
      "\tVal. BLEU (Greedy): 34.633 | Val. BLEU (BeamSearch@10): 37.000\n"
     ]
    },
    {
     "name": "stderr",
     "output_type": "stream",
     "text": [
      "\r",
      " 71%|███████▏  | 25/35 [1:52:19<44:21, 266.18s/it]"
     ]
    },
    {
     "name": "stdout",
     "output_type": "stream",
     "text": [
      "Epoch: 25 | Time: 2m 9s\n",
      "\tTrain Loss: 1.641 | Train PPL:   5.161\n",
      "\t Val. Loss: 4.365 |  Val. PPL:  78.674\n",
      "\tVal. BLEU (Greedy): 34.632 | Val. BLEU (BeamSearch@10): 36.992\n"
     ]
    },
    {
     "name": "stderr",
     "output_type": "stream",
     "text": [
      "\r",
      " 74%|███████▍  | 26/35 [1:56:54<40:19, 268.81s/it]"
     ]
    },
    {
     "name": "stdout",
     "output_type": "stream",
     "text": [
      "Epoch: 26 | Time: 2m 15s\n",
      "\tTrain Loss: 1.667 | Train PPL:   5.297\n",
      "\t Val. Loss: 4.363 |  Val. PPL:  78.490\n",
      "\tVal. BLEU (Greedy): 34.634 | Val. BLEU (BeamSearch@10): 36.974\n"
     ]
    },
    {
     "name": "stderr",
     "output_type": "stream",
     "text": [
      "\r",
      " 77%|███████▋  | 27/35 [2:01:22<35:47, 268.43s/it]"
     ]
    },
    {
     "name": "stdout",
     "output_type": "stream",
     "text": [
      "Epoch: 27 | Time: 2m 12s\n",
      "\tTrain Loss: 1.619 | Train PPL:   5.046\n",
      "\t Val. Loss: 4.364 |  Val. PPL:  78.573\n",
      "\tVal. BLEU (Greedy): 34.641 | Val. BLEU (BeamSearch@10): 36.993\n"
     ]
    },
    {
     "name": "stderr",
     "output_type": "stream",
     "text": [
      "\r",
      " 80%|████████  | 28/35 [2:05:59<31:36, 270.95s/it]"
     ]
    },
    {
     "name": "stdout",
     "output_type": "stream",
     "text": [
      "Epoch: 28 | Time: 2m 12s\n",
      "\tTrain Loss: 1.630 | Train PPL:   5.105\n",
      "\t Val. Loss: 4.365 |  Val. PPL:  78.624\n",
      "\tVal. BLEU (Greedy): 34.642 | Val. BLEU (BeamSearch@10): 36.980\n"
     ]
    },
    {
     "name": "stderr",
     "output_type": "stream",
     "text": [
      "\r",
      " 83%|████████▎ | 29/35 [2:10:34<27:12, 272.16s/it]"
     ]
    },
    {
     "name": "stdout",
     "output_type": "stream",
     "text": [
      "Epoch: 29 | Time: 2m 11s\n",
      "\tTrain Loss: 1.627 | Train PPL:   5.087\n",
      "\t Val. Loss: 4.364 |  Val. PPL:  78.568\n",
      "\tVal. BLEU (Greedy): 34.640 | Val. BLEU (BeamSearch@10): 36.978\n"
     ]
    },
    {
     "name": "stderr",
     "output_type": "stream",
     "text": [
      "\r",
      " 86%|████████▌ | 30/35 [2:14:54<22:23, 268.62s/it]"
     ]
    },
    {
     "name": "stdout",
     "output_type": "stream",
     "text": [
      "Epoch: 30 | Time: 2m 11s\n",
      "\tTrain Loss: 1.633 | Train PPL:   5.120\n",
      "\t Val. Loss: 4.365 |  Val. PPL:  78.672\n",
      "\tVal. BLEU (Greedy): 34.633 | Val. BLEU (BeamSearch@10): 37.021\n"
     ]
    },
    {
     "name": "stderr",
     "output_type": "stream",
     "text": [
      "\r",
      " 89%|████████▊ | 31/35 [2:19:18<17:49, 267.38s/it]"
     ]
    },
    {
     "name": "stdout",
     "output_type": "stream",
     "text": [
      "Epoch: 31 | Time: 2m 11s\n",
      "\tTrain Loss: 1.653 | Train PPL:   5.220\n",
      "\t Val. Loss: 4.365 |  Val. PPL:  78.665\n",
      "\tVal. BLEU (Greedy): 34.635 | Val. BLEU (BeamSearch@10): 37.012\n"
     ]
    },
    {
     "name": "stderr",
     "output_type": "stream",
     "text": [
      "\r",
      " 91%|█████████▏| 32/35 [2:23:48<13:23, 267.98s/it]"
     ]
    },
    {
     "name": "stdout",
     "output_type": "stream",
     "text": [
      "Epoch: 32 | Time: 2m 12s\n",
      "\tTrain Loss: 1.653 | Train PPL:   5.223\n",
      "\t Val. Loss: 4.365 |  Val. PPL:  78.671\n",
      "\tVal. BLEU (Greedy): 34.636 | Val. BLEU (BeamSearch@10): 37.042\n"
     ]
    },
    {
     "name": "stderr",
     "output_type": "stream",
     "text": [
      "\r",
      " 94%|█████████▍| 33/35 [2:28:08<08:51, 265.56s/it]"
     ]
    },
    {
     "name": "stdout",
     "output_type": "stream",
     "text": [
      "Epoch: 33 | Time: 2m 10s\n",
      "\tTrain Loss: 1.617 | Train PPL:   5.038\n",
      "\t Val. Loss: 4.365 |  Val. PPL:  78.633\n",
      "\tVal. BLEU (Greedy): 34.636 | Val. BLEU (BeamSearch@10): 37.034\n"
     ]
    },
    {
     "name": "stderr",
     "output_type": "stream",
     "text": [
      "\r",
      " 97%|█████████▋| 34/35 [2:32:36<04:26, 266.30s/it]"
     ]
    },
    {
     "name": "stdout",
     "output_type": "stream",
     "text": [
      "Epoch: 34 | Time: 2m 12s\n",
      "\tTrain Loss: 1.640 | Train PPL:   5.154\n",
      "\t Val. Loss: 4.365 |  Val. PPL:  78.684\n",
      "\tVal. BLEU (Greedy): 34.631 | Val. BLEU (BeamSearch@10): 37.053\n"
     ]
    },
    {
     "name": "stderr",
     "output_type": "stream",
     "text": [
      "\r",
      "100%|██████████| 35/35 [2:37:02<00:00, 266.18s/it]"
     ]
    },
    {
     "name": "stdout",
     "output_type": "stream",
     "text": [
      "Epoch: 35 | Time: 2m 10s\n",
      "\tTrain Loss: 1.629 | Train PPL:   5.096\n",
      "\t Val. Loss: 4.365 |  Val. PPL:  78.684\n",
      "\tVal. BLEU (Greedy): 34.631 | Val. BLEU (BeamSearch@10): 37.053\n"
     ]
    },
    {
     "name": "stderr",
     "output_type": "stream",
     "text": [
      "\n"
     ]
    }
   ],
   "source": [
    "tensorboard_dir = get_tensorboard_dir(model_name)\n",
    "print(tensorboard_dir)\n",
    "writer = SummaryWriter(tensorboard_dir)\n",
    "training_procedure(model, model_name, train_iterator, valid_iterator,\n",
    "                      optimizer, lr_scheduler, criterion, writer, clip=CLIP, n_epochs=N_EPOCHS)"
   ]
  },
  {
   "cell_type": "markdown",
   "metadata": {},
   "source": [
    "**Let's load best model**"
   ]
  },
  {
   "cell_type": "code",
   "execution_count": 32,
   "metadata": {},
   "outputs": [],
   "source": [
    "with open(f'models/{model_name}.pt', 'rb') as fp:\n",
    "    best_state_dict = torch.load(fp, map_location='cpu')\n",
    "    model.load_state_dict(best_state_dict)"
   ]
  },
  {
   "cell_type": "markdown",
   "metadata": {},
   "source": [
    "**And look at its predictions**"
   ]
  },
  {
   "cell_type": "code",
   "execution_count": 33,
   "metadata": {},
   "outputs": [
    {
     "name": "stdout",
     "output_type": "stream",
     "text": [
      "Original:                   there is a 24 - hour front desk at the property .\n",
      "Generated (Greedy):         there is a 24 - hour front desk at the property .\n",
      "Generated (BeamSearch@2):   there is a 24 - hour front desk at the property .\n",
      "Generated (BeamSearch@10):  there is a 24 - hour front desk at the property .\n",
      "\n",
      "Original:                   you will find a 24 - hour front desk at the property .\n",
      "Generated (Greedy):         there is a 24 - hour front desk at the property .\n",
      "Generated (BeamSearch@2):   there is a 24 - hour front desk at the property .\n",
      "Generated (BeamSearch@10):  there is a 24 - hour front desk at the property .\n",
      "\n",
      "Original:                   there is a 24 - hour front desk at the property .\n",
      "Generated (Greedy):         there is a 24 - hour front desk at the property .\n",
      "Generated (BeamSearch@2):   there is a 24 - hour front desk at the property .\n",
      "Generated (BeamSearch@10):  there is a 24 - hour front desk at the property .\n",
      "\n",
      "Original:                   free private parking is available .\n",
      "Generated (Greedy):         free private parking is available on site .\n",
      "Generated (BeamSearch@2):   free private parking is available on site .\n",
      "Generated (BeamSearch@10):  free private parking is available on site .\n",
      "\n",
      "Original:                   there are several restaurants in the surrounding area .\n",
      "Generated (Greedy):         restaurants can be found in the vicinity .\n",
      "Generated (BeamSearch@2):   there are several restaurants nearby restaurants nearby .\n",
      "Generated (BeamSearch@10):  you can find several restaurants in the surroundings .\n",
      "\n",
      "Original:                   the property also offers free parking .\n",
      "Generated (Greedy):         the property offers free parking .\n",
      "Generated (BeamSearch@2):   the property offers free parking .\n",
      "Generated (BeamSearch@10):  the property offers free parking .\n",
      "\n",
      "Original:                   the unit is fitted with a kitchen .\n",
      "Generated (Greedy):         the kitchen is a kitchen .\n",
      "Generated (BeamSearch@2):   the kitchen is a kitchen .\n",
      "Generated (BeamSearch@10):  there is a kitchen kitchen .\n",
      "\n",
      "Original:                   the bathroom has a shower .\n",
      "Generated (Greedy):         the bathroom comes with a shower .\n",
      "Generated (BeamSearch@2):   the bathroom comes with a shower .\n",
      "Generated (BeamSearch@10):  the bathroom comes with a shower .\n",
      "\n",
      "Original:                   there is also a fireplace in the living room .\n",
      "Generated (Greedy):         the living room has a fireplace .\n",
      "Generated (BeamSearch@2):   the living room comes with a fireplace .\n",
      "Generated (BeamSearch@10):  the living room comes with a fireplace .\n",
      "\n",
      "Original:                   you will find a coffee machine in the room .\n",
      "Generated (Greedy):         you will find a coffee machine in the room .\n",
      "Generated (BeamSearch@2):   you will find a coffee machine in the room .\n",
      "Generated (BeamSearch@10):  you will find a coffee machine in the room .\n",
      "\n"
     ]
    }
   ],
   "source": [
    "print_samples(model, test_iterator)"
   ]
  },
  {
   "cell_type": "code",
   "execution_count": 34,
   "metadata": {},
   "outputs": [
    {
     "name": "stderr",
     "output_type": "stream",
     "text": [
      "100%|██████████| 59/59 [00:04<00:00,  6.39it/s]\n"
     ]
    },
    {
     "name": "stdout",
     "output_type": "stream",
     "text": [
      "Test BLEU (Greedy): 33.56373600982891\n"
     ]
    }
   ],
   "source": [
    "print('Test BLEU (Greedy):', eval_bleu(model, test_iterator, beam_width=1))"
   ]
  },
  {
   "cell_type": "code",
   "execution_count": 35,
   "metadata": {},
   "outputs": [
    {
     "name": "stderr",
     "output_type": "stream",
     "text": [
      "100%|██████████| 59/59 [05:48<00:00, 10.76s/it]\n"
     ]
    },
    {
     "name": "stdout",
     "output_type": "stream",
     "text": [
      "Test BLEU (BeamSearch@2): 35.28129472593689\n"
     ]
    }
   ],
   "source": [
    "print('Test BLEU (BeamSearch@2):', eval_bleu(model, test_iterator, beam_width=2))"
   ]
  },
  {
   "cell_type": "code",
   "execution_count": 36,
   "metadata": {},
   "outputs": [
    {
     "name": "stderr",
     "output_type": "stream",
     "text": [
      "100%|██████████| 59/59 [06:13<00:00, 11.41s/it]\n"
     ]
    },
    {
     "name": "stdout",
     "output_type": "stream",
     "text": [
      "Test BLEU (BeamSearch@5): 36.27547115971034\n"
     ]
    }
   ],
   "source": [
    "print('Test BLEU (BeamSearch@5):', eval_bleu(model, test_iterator, beam_width=5))"
   ]
  },
  {
   "cell_type": "code",
   "execution_count": 37,
   "metadata": {},
   "outputs": [
    {
     "name": "stderr",
     "output_type": "stream",
     "text": [
      "100%|██████████| 59/59 [06:48<00:00, 12.46s/it]\n"
     ]
    },
    {
     "name": "stdout",
     "output_type": "stream",
     "text": [
      "Test BLEU (BeamSearch@10): 36.458068335487575\n"
     ]
    }
   ],
   "source": [
    "print('Test BLEU (BeamSearch@10):', eval_bleu(model, test_iterator, beam_width=10))"
   ]
  },
  {
   "cell_type": "code",
   "execution_count": 38,
   "metadata": {},
   "outputs": [
    {
     "name": "stderr",
     "output_type": "stream",
     "text": [
      "100%|██████████| 59/59 [07:42<00:00, 13.77s/it]\n"
     ]
    },
    {
     "name": "stdout",
     "output_type": "stream",
     "text": [
      "Test BLEU (BeamSearch@16): 36.220588121598944\n"
     ]
    }
   ],
   "source": [
    "print('Test BLEU (BeamSearch@16):', eval_bleu(model, test_iterator, beam_width=16))"
   ]
  },
  {
   "cell_type": "code",
   "execution_count": 39,
   "metadata": {},
   "outputs": [
    {
     "name": "stderr",
     "output_type": "stream",
     "text": [
      "100%|██████████| 59/59 [08:56<00:00, 14.77s/it]\n"
     ]
    },
    {
     "name": "stdout",
     "output_type": "stream",
     "text": [
      "Test BLEU (BeamSearch@32): 34.08192936277189\n"
     ]
    }
   ],
   "source": [
    "print('Test BLEU (BeamSearch@32):', eval_bleu(model, test_iterator, beam_width=32))"
   ]
  },
  {
   "cell_type": "markdown",
   "metadata": {},
   "source": [
    "**And plot train/val metrics**"
   ]
  },
  {
   "cell_type": "code",
   "execution_count": 40,
   "metadata": {},
   "outputs": [],
   "source": [
    "logs = parse_tensorboard_logs(tensorboard_dir)"
   ]
  },
  {
   "cell_type": "code",
   "execution_count": 41,
   "metadata": {},
   "outputs": [],
   "source": [
    "printable_model_name = '_'.join(model_name.split('_')[:-1])"
   ]
  },
  {
   "cell_type": "code",
   "execution_count": 42,
   "metadata": {},
   "outputs": [
    {
     "data": {
      "image/png": "[encoded data removed]",
      "text/plain": [
       "<Figure size 1080x504 with 2 Axes>"
      ]
     },
     "metadata": {
      "needs_background": "light"
     },
     "output_type": "display_data"
    }
   ],
   "source": [
    "plot_metrics(logs, printable_model_name)"
   ]
  }
 ],
 "metadata": {
  "anaconda-cloud": {},
  "colab": {
   "collapsed_sections": [],
   "machine_shape": "hm",
   "name": "homework.ipynb",
   "provenance": []
  },
  "kernelspec": {
   "display_name": "Python 3",
   "language": "python",
   "name": "python3"
  },
  "language_info": {
   "codemirror_mode": {
    "name": "ipython",
    "version": 3
   },
   "file_extension": ".py",
   "mimetype": "text/x-python",
   "name": "python",
   "nbconvert_exporter": "python",
   "pygments_lexer": "ipython3",
   "version": "3.6.8"
  }
 },
 "nbformat": 4,
 "nbformat_minor": 1
}
