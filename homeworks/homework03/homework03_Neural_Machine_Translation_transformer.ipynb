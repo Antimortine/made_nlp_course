{
 "cells": [
  {
   "cell_type": "markdown",
   "metadata": {},
   "source": [
    "## Homework №3"
   ]
  },
  {
   "cell_type": "markdown",
   "metadata": {},
   "source": [
    "### Neural Machine Translation in the wild\n",
    "In the third homework you are supposed to get the best translation you can for the EN-RU translation task.\n",
    "\n",
    "Basic approach using RNNs as encoder and decoder is implemented for you. \n",
    "\n",
    "Your ultimate task is to use the techniques we've covered, e.g.\n",
    "\n",
    "* Optimization enhancements (e.g. learning rate decay)\n",
    "\n",
    "* CNN encoder (with or without positional encoding)\n",
    "\n",
    "* attention/self-attention mechanism\n",
    "\n",
    "* pretraining the language model\n",
    "\n",
    "* [Byte Pair Encoding](https://github.com/rsennrich/subword-nmt)\n",
    "\n",
    "* or just fine-tunning BERT ;)\n",
    "\n",
    "to improve the translation quality. \n",
    "\n",
    "__Please use at least three different approaches/models and compare them (translation quality/complexity/training and evaluation time).__\n",
    "\n",
    "Write down some summary on your experiments and illustrate it with convergence plots/metrics and your thoughts. Just like you would approach a real problem."
   ]
  },
  {
   "cell_type": "code",
   "execution_count": 1,
   "metadata": {},
   "outputs": [],
   "source": [
    "from datetime import datetime\n",
    "\n",
    "DEVICE_NAME = 'cuda:0'\n",
    "\n",
    "now = datetime.now().strftime(\"%Y-%m-%d--%H-%M-%S\")\n",
    "model_name = f'transformer_{now}'"
   ]
  },
  {
   "cell_type": "code",
   "execution_count": 2,
   "metadata": {},
   "outputs": [],
   "source": [
    "# Thanks to YSDA NLP course team for the data\n",
    "# (who thanks tilda and deephack teams for the data in their turn)\n",
    "\n",
    "import os\n",
    "path_to_data = '../../datasets/Machine_translation_EN_RU/data.txt'\n",
    "if not os.path.exists(path_to_data):\n",
    "    print(\"Dataset not found locally. Downloading from github.\")\n",
    "    !wget https://raw.githubusercontent.com/neychev/made_nlp_course/master/datasets/Machine_translation_EN_RU/data.txt -nc\n",
    "    path_to_data = './data.txt'"
   ]
  },
  {
   "cell_type": "code",
   "execution_count": 3,
   "metadata": {},
   "outputs": [],
   "source": [
    "import numpy as np\n",
    "import torch\n",
    "import torch.nn as nn\n",
    "import torch.optim as optim\n",
    "from torch.utils.tensorboard import SummaryWriter\n",
    "\n",
    "import torchtext\n",
    "from torchtext.data import Field, BucketIterator\n",
    "from nltk.tokenize import WordPunctTokenizer\n",
    "from nltk.translate.bleu_score import corpus_bleu\n",
    "\n",
    "from tqdm import tqdm\n",
    "import time\n",
    "import random\n",
    "\n",
    "import matplotlib.pyplot as plt\n",
    "%matplotlib inline\n",
    "\n",
    "from utils import generate_translation, remove_tech_tokens, get_text, \\\n",
    "                    parse_tensorboard_logs, plot_metrics, beam_search, _len_sort_key, init_weights, count_parameters"
   ]
  },
  {
   "cell_type": "code",
   "execution_count": 4,
   "metadata": {},
   "outputs": [],
   "source": [
    "SEED = 1234\n",
    "\n",
    "random.seed(SEED)\n",
    "torch.manual_seed(SEED)\n",
    "torch.cuda.manual_seed_all(SEED)\n",
    "torch.backends.cudnn.deterministic = True\n",
    "torch.backends.cudnn.benchmark = False"
   ]
  },
  {
   "cell_type": "markdown",
   "metadata": {},
   "source": [
    "### Main part\n",
    "__Here comes the preprocessing. Do not hesitate to use BPE or more complex preprocessing ;)__"
   ]
  },
  {
   "cell_type": "code",
   "execution_count": 5,
   "metadata": {},
   "outputs": [],
   "source": [
    "tokenizer_W = WordPunctTokenizer()\n",
    "def tokenize(x, tokenizer=tokenizer_W):\n",
    "    return tokenizer.tokenize(x.lower())"
   ]
  },
  {
   "cell_type": "code",
   "execution_count": 6,
   "metadata": {},
   "outputs": [],
   "source": [
    "SRC = Field(tokenize=tokenize,\n",
    "            init_token = '<sos>', \n",
    "            eos_token = '<eos>', \n",
    "            lower = True)\n",
    "\n",
    "TRG = Field(tokenize=tokenize,\n",
    "            init_token = '<sos>', \n",
    "            eos_token = '<eos>', \n",
    "            lower = True)\n",
    "\n",
    "dataset = torchtext.data.TabularDataset(\n",
    "    path=path_to_data,\n",
    "    format='tsv',\n",
    "    fields=[('trg', TRG), ('src', SRC)]\n",
    ")"
   ]
  },
  {
   "cell_type": "code",
   "execution_count": 7,
   "metadata": {},
   "outputs": [],
   "source": [
    "train_data, valid_data, test_data = dataset.split(split_ratio=[0.8, 0.15, 0.05], random_state=random.seed(SEED))"
   ]
  },
  {
   "cell_type": "code",
   "execution_count": 8,
   "metadata": {},
   "outputs": [
    {
     "name": "stdout",
     "output_type": "stream",
     "text": [
      "Number of training examples: 40000\n",
      "Number of validation examples: 2500\n",
      "Number of testing examples: 7500\n"
     ]
    }
   ],
   "source": [
    "print(f\"Number of training examples: {len(train_data.examples)}\")\n",
    "print(f\"Number of validation examples: {len(valid_data.examples)}\")\n",
    "print(f\"Number of testing examples: {len(test_data.examples)}\")"
   ]
  },
  {
   "cell_type": "code",
   "execution_count": 9,
   "metadata": {},
   "outputs": [],
   "source": [
    "SRC.build_vocab(train_data, min_freq=3)\n",
    "TRG.build_vocab(train_data, min_freq=3)"
   ]
  },
  {
   "cell_type": "code",
   "execution_count": 10,
   "metadata": {},
   "outputs": [
    {
     "name": "stdout",
     "output_type": "stream",
     "text": [
      "Unique tokens in source (ru) vocabulary: 9256\n",
      "Unique tokens in target (en) vocabulary: 6734\n"
     ]
    }
   ],
   "source": [
    "print(f\"Unique tokens in source (ru) vocabulary: {len(SRC.vocab)}\")\n",
    "print(f\"Unique tokens in target (en) vocabulary: {len(TRG.vocab)}\")"
   ]
  },
  {
   "cell_type": "markdown",
   "metadata": {},
   "source": [
    "Here are tokens from original (RU) corpus:"
   ]
  },
  {
   "cell_type": "code",
   "execution_count": 11,
   "metadata": {},
   "outputs": [
    {
     "data": {
      "text/plain": [
       "['<unk>',\n",
       " 'террасу',\n",
       " 'чистые',\n",
       " 'компьютеры',\n",
       " 'don',\n",
       " 'шамони',\n",
       " 'logis',\n",
       " 'форму',\n",
       " 'душевые',\n",
       " 'техасского']"
      ]
     },
     "execution_count": 11,
     "metadata": {},
     "output_type": "execute_result"
    }
   ],
   "source": [
    "SRC.vocab.itos[::1000]"
   ]
  },
  {
   "cell_type": "markdown",
   "metadata": {},
   "source": [
    "And from target (EN) corpus:"
   ]
  },
  {
   "cell_type": "code",
   "execution_count": 12,
   "metadata": {},
   "outputs": [
    {
     "data": {
      "text/plain": [
       "['<unk>', 'springs', 'galeao', 'calm', 'occupies', 'tegel', 'malioboro']"
      ]
     },
     "execution_count": 12,
     "metadata": {},
     "output_type": "execute_result"
    }
   ],
   "source": [
    "TRG.vocab.itos[::1000]"
   ]
  },
  {
   "cell_type": "markdown",
   "metadata": {},
   "source": [
    "And here is example from train dataset:"
   ]
  },
  {
   "cell_type": "code",
   "execution_count": 13,
   "metadata": {},
   "outputs": [
    {
     "name": "stdout",
     "output_type": "stream",
     "text": [
      "также предлагается доставка продуктов , услуги прачечной и гладильные услуги .\n",
      "other facilities offered at the property include grocery deliveries , laundry and ironing services .\n"
     ]
    }
   ],
   "source": [
    "idx = 9\n",
    "print(' '.join(train_data.examples[idx].src))\n",
    "print(' '.join(train_data.examples[idx].trg))"
   ]
  },
  {
   "cell_type": "markdown",
   "metadata": {},
   "source": [
    "Let's check the length distributions:"
   ]
  },
  {
   "cell_type": "code",
   "execution_count": 14,
   "metadata": {},
   "outputs": [
    {
     "name": "stdout",
     "output_type": "stream",
     "text": [
      "Length distribution in Train data\n",
      "Max source length: 73\n",
      "Max target length: 89\n"
     ]
    },
    {
     "data": {
      "image/png": "[encoded data removed]",
      "text/plain": [
       "<Figure size 576x288 with 2 Axes>"
      ]
     },
     "metadata": {
      "needs_background": "light"
     },
     "output_type": "display_data"
    }
   ],
   "source": [
    "src_length = list(map(len, [x.src for x in train_data.examples]))\n",
    "trg_length = list(map(len, [x.trg for x in train_data.examples]))\n",
    "\n",
    "print('Length distribution in Train data')\n",
    "print(f'Max source length: {max(src_length)}')\n",
    "print(f'Max target length: {max(trg_length)}')\n",
    "plt.figure(figsize=[8, 4])\n",
    "plt.subplot(1, 2, 1)\n",
    "plt.title(\"source length\")\n",
    "plt.hist(list(src_length), bins=20);\n",
    "\n",
    "plt.subplot(1, 2, 2)\n",
    "plt.title(\"translation length\")\n",
    "plt.hist(list(trg_length), bins=20);"
   ]
  },
  {
   "cell_type": "code",
   "execution_count": 15,
   "metadata": {},
   "outputs": [
    {
     "name": "stdout",
     "output_type": "stream",
     "text": [
      "Length distribution in Validation data\n",
      "Max source length: 76\n",
      "Max target length: 73\n"
     ]
    },
    {
     "data": {
      "image/png": "[encoded data removed]",
      "text/plain": [
       "<Figure size 576x288 with 2 Axes>"
      ]
     },
     "metadata": {
      "needs_background": "light"
     },
     "output_type": "display_data"
    }
   ],
   "source": [
    "src_length = list(map(len, [x.src for x in valid_data.examples]))\n",
    "trg_length = list(map(len, [x.trg for x in valid_data.examples]))\n",
    "\n",
    "print('Length distribution in Validation data')\n",
    "print(f'Max source length: {max(src_length)}')\n",
    "print(f'Max target length: {max(trg_length)}')\n",
    "plt.figure(figsize=[8, 4])\n",
    "plt.subplot(1, 2, 1)\n",
    "plt.title(\"source length\")\n",
    "plt.hist(list(src_length), bins=20);\n",
    "\n",
    "plt.subplot(1, 2, 2)\n",
    "plt.title(\"translation length\")\n",
    "plt.hist(list(trg_length), bins=20);"
   ]
  },
  {
   "cell_type": "code",
   "execution_count": 16,
   "metadata": {},
   "outputs": [
    {
     "name": "stdout",
     "output_type": "stream",
     "text": [
      "Length distribution in Test data\n",
      "Max source length: 80\n",
      "Max target length: 99\n"
     ]
    },
    {
     "data": {
      "image/png": "[encoded data removed]",
      "text/plain": [
       "<Figure size 576x288 with 2 Axes>"
      ]
     },
     "metadata": {
      "needs_background": "light"
     },
     "output_type": "display_data"
    }
   ],
   "source": [
    "src_length = list(map(len, [x.src for x in test_data.examples]))\n",
    "trg_length = list(map(len, [x.trg for x in test_data.examples]))\n",
    "\n",
    "print('Length distribution in Test data')\n",
    "print(f'Max source length: {max(src_length)}')\n",
    "print(f'Max target length: {max(trg_length)}')\n",
    "plt.figure(figsize=[8, 4])\n",
    "plt.subplot(1, 2, 1)\n",
    "plt.title(\"source length\")\n",
    "plt.hist(list(src_length), bins=20);\n",
    "\n",
    "plt.subplot(1, 2, 2)\n",
    "plt.title(\"translation length\")\n",
    "plt.hist(list(trg_length), bins=20);"
   ]
  },
  {
   "cell_type": "markdown",
   "metadata": {},
   "source": [
    "### Model side\n",
    "__Here comes simple pipeline of NMT model learning. It almost copies the week03 practice__"
   ]
  },
  {
   "cell_type": "code",
   "execution_count": 17,
   "metadata": {},
   "outputs": [
    {
     "data": {
      "text/plain": [
       "device(type='cuda', index=0)"
      ]
     },
     "execution_count": 17,
     "metadata": {},
     "output_type": "execute_result"
    }
   ],
   "source": [
    "device = torch.device(DEVICE_NAME if torch.cuda.is_available() else 'cpu')\n",
    "device"
   ]
  },
  {
   "cell_type": "code",
   "execution_count": 18,
   "metadata": {},
   "outputs": [],
   "source": [
    "MAX_LEN = 60"
   ]
  },
  {
   "cell_type": "code",
   "execution_count": 19,
   "metadata": {},
   "outputs": [],
   "source": [
    "def eval_bleu(model, test_iterator, target_vocab=TRG.vocab, beam_width=1, with_tqdm=True):\n",
    "    assert beam_width > 0\n",
    "    original_text = []\n",
    "    generated_text = []\n",
    "    model.eval()\n",
    "    with torch.no_grad():\n",
    "        if with_tqdm:\n",
    "            test_iterator = tqdm(test_iterator, position=0, leave=True)\n",
    "        for i, batch in enumerate(test_iterator):\n",
    "            src = batch.src # [src sent len, batch size]\n",
    "            trg = batch.trg # [trg sent len, batch size]\n",
    "            \n",
    "            if beam_width == 1:\n",
    "                output = model(src, trg, 0) #turn off teacher forcing\n",
    "                #output = [trg sent len, batch size, output dim]\n",
    "\n",
    "                output = output.argmax(dim=-1) # [trg sent len, batch size]\n",
    "            else:\n",
    "                output = beam_search(model, src, trg, target_vocab, beam_width)  # [trg sent len, batch size]\n",
    "\n",
    "            original_text.extend([get_text(x, target_vocab) for x in trg.cpu().numpy().T])\n",
    "            generated_text.extend([get_text(x, target_vocab) for x in output[1:].detach().cpu().numpy().T])\n",
    "    return corpus_bleu([[text] for text in original_text], generated_text) * 100"
   ]
  },
  {
   "cell_type": "code",
   "execution_count": 20,
   "metadata": {},
   "outputs": [],
   "source": [
    "def get_teacher_forcing_ratio(epoch, base_teacher_forcing_ratio=0.5, decay=1):\n",
    "    return base_teacher_forcing_ratio * decay ** epoch"
   ]
  },
  {
   "cell_type": "code",
   "execution_count": 21,
   "metadata": {},
   "outputs": [],
   "source": [
    "def train(model, iterator, optimizer, criterion, clip, epoch):\n",
    "    model.train()\n",
    "    epoch_loss = 0\n",
    "    for i, batch in enumerate(iterator):        \n",
    "        src = batch.src[:MAX_LEN] # [src sent len, batch size]\n",
    "        trg = batch.trg[:MAX_LEN] # [trg sent len, batch size]\n",
    "        \n",
    "        optimizer.zero_grad()        \n",
    "        teacher_forcing_ratio = get_teacher_forcing_ratio(epoch)\n",
    "        output = model(src, trg, teacher_forcing_ratio) # [trg sent len, batch size, output dim]\n",
    "        \n",
    "        output = output[1:].view(-1, output.shape[-1]) # [(trg sent len - 1) * batch size, output dim]\n",
    "        trg = trg[1:].view(-1) # [(trg sent len - 1) * batch size]\n",
    "        \n",
    "        loss = criterion(output, trg)        \n",
    "        loss.backward()\n",
    "        \n",
    "        # Let's clip the gradient\n",
    "        nn.utils.clip_grad_norm_(model.parameters(), clip)\n",
    "        \n",
    "        optimizer.step()        \n",
    "        batch_loss = loss.item()\n",
    "        epoch_loss += batch_loss\n",
    "        \n",
    "    return epoch_loss / len(iterator)"
   ]
  },
  {
   "cell_type": "code",
   "execution_count": 22,
   "metadata": {},
   "outputs": [],
   "source": [
    "def evaluate(model, iterator, criterion):    \n",
    "    model.eval()    \n",
    "    epoch_loss = 0    \n",
    "    with torch.no_grad():    \n",
    "        for i, batch in enumerate(iterator):\n",
    "            src = batch.src[:MAX_LEN] # [src sent len, batch size]\n",
    "            trg = batch.trg[:MAX_LEN] # [trg sent len, batch size]\n",
    "\n",
    "            output = model(src, trg, 0) #turn off teacher forcing\n",
    "            # [trg sent len, batch size, output dim]\n",
    "\n",
    "            output = output[1:].view(-1, output.shape[-1]) # [(trg sent len - 1) * batch size]\n",
    "            trg = trg[1:].view(-1) # [(trg sent len - 1) * batch size, output dim]\n",
    "\n",
    "            loss = criterion(output, trg)            \n",
    "            epoch_loss += loss.item()\n",
    "        \n",
    "    return epoch_loss / len(iterator)"
   ]
  },
  {
   "cell_type": "code",
   "execution_count": 23,
   "metadata": {},
   "outputs": [],
   "source": [
    "def epoch_time(start_time, end_time):\n",
    "    elapsed_time = end_time - start_time\n",
    "    elapsed_mins = int(elapsed_time / 60)\n",
    "    elapsed_secs = int(elapsed_time - (elapsed_mins * 60))\n",
    "    return elapsed_mins, elapsed_secs"
   ]
  },
  {
   "cell_type": "code",
   "execution_count": 24,
   "metadata": {},
   "outputs": [],
   "source": [
    "def training_procedure(model, model_name, train_iterator, valid_iterator,\n",
    "                      optimizer, lr_scheduler, criterion, writer, clip, n_epochs, beam_width=None):\n",
    "    best_valid_bleu = float('-inf')\n",
    "    for epoch in tqdm(range(n_epochs)):    \n",
    "        start_time = time.time()\n",
    "        \n",
    "        train_loss = train(model, train_iterator, optimizer, criterion, clip, epoch)\n",
    "        valid_loss = evaluate(model, valid_iterator, criterion)\n",
    "        lr_scheduler.step(valid_loss)\n",
    "\n",
    "        end_time = time.time()\n",
    "        epoch_mins, epoch_secs = epoch_time(start_time, end_time)\n",
    "        \n",
    "        valid_bleu_greedy = eval_bleu(model, valid_iterator, beam_width=1, with_tqdm=False)\n",
    "        writer.add_scalar('Validation BLEU (Greedy)',\n",
    "                    valid_bleu_greedy,\n",
    "                    epoch)\n",
    "        \n",
    "        if beam_width is None:\n",
    "            valid_bleu_beam = float('-inf')\n",
    "        else:\n",
    "            valid_bleu_beam = eval_bleu(model, valid_iterator, beam_width=beam_width, with_tqdm=False)\n",
    "            writer.add_scalar(f'Validation BLEU (BeamSearch@{beam_width})',\n",
    "                        valid_bleu_beam,\n",
    "                        epoch)\n",
    "        \n",
    "        max_bleu = max(valid_bleu_greedy, valid_bleu_beam)\n",
    "        if max_bleu > best_valid_bleu:\n",
    "            best_valid_bleu = max_bleu\n",
    "            torch.save(model.state_dict(), f'models/{model_name}.pt')\n",
    "\n",
    "        writer.add_scalar('Train loss',\n",
    "                    train_loss,\n",
    "                    epoch)\n",
    "        writer.add_scalar('Validation loss',\n",
    "                    valid_loss,\n",
    "                    epoch)\n",
    "        print(f'Epoch: {epoch+1:02} | Time: {epoch_mins}m {epoch_secs}s')\n",
    "        print(f'\\tTrain Loss: {train_loss:.3f} | Train PPL: {np.exp(train_loss):7.3f}')\n",
    "        print(f'\\t Val. Loss: {valid_loss:.3f} |  Val. PPL: {np.exp(valid_loss):7.3f}')\n",
    "        if beam_width is None:\n",
    "            print(f'\\tVal. BLEU (Greedy): {valid_bleu_greedy:.3f}')\n",
    "        else:\n",
    "            print(f'\\tVal. BLEU (Greedy): {valid_bleu_greedy:.3f} | Val. BLEU (BeamSearch@{beam_width}): {valid_bleu_beam:.3f}')"
   ]
  },
  {
   "cell_type": "code",
   "execution_count": 25,
   "metadata": {},
   "outputs": [],
   "source": [
    "def get_tensorboard_dir(model_name):\n",
    "    return f'runs/{model_name}'"
   ]
  },
  {
   "cell_type": "code",
   "execution_count": 26,
   "metadata": {},
   "outputs": [],
   "source": [
    "def print_samples(model, test_iterator, indices=range(0, 10), beam_widths=[2,10]):\n",
    "    batch = next(iter(test_iterator))\n",
    "    for idx in indices:\n",
    "        src = batch.src[:, idx:idx+1]\n",
    "        trg = batch.trg[:, idx:idx+1]\n",
    "        generate_translation(src, trg, model, TRG.vocab, beam_widths)"
   ]
  },
  {
   "cell_type": "markdown",
   "metadata": {},
   "source": [
    "## Let's use Transformer"
   ]
  },
  {
   "cell_type": "code",
   "execution_count": 27,
   "metadata": {},
   "outputs": [],
   "source": [
    "BATCH_SIZE = 32\n",
    "\n",
    "train_iterator, valid_iterator, test_iterator = BucketIterator.splits(\n",
    "    (train_data, valid_data, test_data), \n",
    "    batch_size = BATCH_SIZE, \n",
    "    device = device,\n",
    "    sort_key=_len_sort_key\n",
    ")"
   ]
  },
  {
   "cell_type": "code",
   "execution_count": 28,
   "metadata": {},
   "outputs": [],
   "source": [
    "INPUT_DIM = len(SRC.vocab)\n",
    "OUTPUT_DIM = len(TRG.vocab)\n",
    "HID_DIM = 256\n",
    "N_HEADS = 4\n",
    "N_LAYERS = 4\n",
    "ENC_DROPOUT = 0.1\n",
    "DEC_DROPOUT = 0.1\n",
    "\n",
    "LR = 0.5e-3\n",
    "CLIP = 1\n",
    "N_EPOCHS = 10"
   ]
  },
  {
   "cell_type": "code",
   "execution_count": 29,
   "metadata": {},
   "outputs": [],
   "source": [
    "import torch\n",
    "import torch.nn as nn\n",
    "from torchnlp.nn.attention import Attention\n",
    "\n",
    "import random\n",
    "\n",
    "\n",
    "class PositionalEncoding(nn.Module):\n",
    "\n",
    "    def __init__(self, d_model, dropout=0.1, max_len=100):\n",
    "        super(PositionalEncoding, self).__init__()\n",
    "        self.dropout = nn.Dropout(p=dropout)\n",
    "\n",
    "        pe = torch.zeros(max_len, d_model)\n",
    "        position = torch.arange(0, max_len, dtype=torch.float).unsqueeze(1)\n",
    "        div_term = torch.exp(torch.arange(0, d_model, 2).float() * (-np.log(10000.0) / d_model))\n",
    "        pe[:, 0::2] = torch.sin(position * div_term)\n",
    "        pe[:, 1::2] = torch.cos(position * div_term)\n",
    "        pe = pe.unsqueeze(0).transpose(0, 1)\n",
    "        self.register_buffer('pe', pe)\n",
    "\n",
    "    def forward(self, x):\n",
    "        x = x + self.pe[:x.size(0), :]\n",
    "        return self.dropout(x)\n",
    "\n",
    "\n",
    "class TransformerEncoder(nn.Module):\n",
    "    def __init__(self, input_dim, hid_dim, n_heads, n_layers, dropout):\n",
    "        super().__init__()\n",
    "        \n",
    "        self.input_dim = input_dim\n",
    "        self.hid_dim = hid_dim\n",
    "        self.n_heads = n_heads\n",
    "        self.n_layers = n_layers\n",
    "        \n",
    "        self.embedding = nn.Embedding(\n",
    "            num_embeddings=input_dim,\n",
    "            embedding_dim=hid_dim\n",
    "        )\n",
    "        \n",
    "        self.pos_encoder = PositionalEncoding(hid_dim, dropout)\n",
    "        encoder_layers = nn.TransformerEncoderLayer(hid_dim, n_heads, hid_dim, dropout)\n",
    "        self.transformer_encoder = nn.TransformerEncoder(encoder_layers, n_layers)\n",
    "        \n",
    "    def forward(self, src, key_padding_mask=None):        \n",
    "        # src = [src sent len, batch size]\n",
    "        # key_padding_mask = [batch size, src sent len]\n",
    "        embedded = self.embedding(src) * np.sqrt(self.hid_dim) # [src sent len, batch size, hid dim]\n",
    "        embedded = self.pos_encoder(embedded)\n",
    "        \n",
    "        # [src sent len, batch size, hid dim]\n",
    "        output = self.transformer_encoder(embedded, src_key_padding_mask=key_padding_mask)\n",
    "        \n",
    "        return output"
   ]
  },
  {
   "cell_type": "code",
   "execution_count": 30,
   "metadata": {},
   "outputs": [],
   "source": [
    "class TransformerDecoder(nn.Module):\n",
    "    def __init__(self, output_dim, hid_dim, n_heads, n_layers, dropout):\n",
    "        super().__init__()\n",
    "\n",
    "        self.hid_dim = hid_dim\n",
    "        self.output_dim = output_dim\n",
    "        self.n_heads = n_heads\n",
    "        self.n_layers = n_layers\n",
    "        \n",
    "        self.embedding = nn.Embedding(\n",
    "            num_embeddings=output_dim,\n",
    "            embedding_dim=hid_dim\n",
    "        )\n",
    "        \n",
    "        self.pos_encoder = PositionalEncoding(hid_dim, dropout)\n",
    "        decoder_layers = nn.TransformerDecoderLayer(hid_dim, n_heads, hid_dim, dropout)\n",
    "        self.transformer_decoder = nn.TransformerDecoder(decoder_layers, n_layers)\n",
    "        \n",
    "        self.out = nn.Linear(\n",
    "            in_features=hid_dim,\n",
    "            out_features=output_dim\n",
    "        )\n",
    "        \n",
    "    def forward(self, input, encoder_outputs, key_padding_mask=None):        \n",
    "        # input = [src prefix len, batch size]\n",
    "        # encoder_outputs = [src sent len, batch size, hid dim]\n",
    "        \n",
    "        embedded = self.embedding(input) * np.sqrt(self.hid_dim) # [src prefix len, batch size, hid dim]\n",
    "        embedded = self.pos_encoder(embedded) # [src prefix len, batch size, hid dim]\n",
    "        \n",
    "        # [src prefix len, batch size, hid dim]\n",
    "        outputs = self.transformer_decoder(embedded, encoder_outputs, tgt_key_padding_mask=key_padding_mask)\n",
    "        \n",
    "        output = self.out(outputs[-1]) # [batch size, output dim]\n",
    "        return output\n",
    "\n",
    "\n",
    "class TransformerSeq2Seq(nn.Module):\n",
    "    def __init__(self, encoder, decoder, src_pad_idx, trg_pad_idx, device):\n",
    "        super().__init__()\n",
    "        \n",
    "        self.encoder = encoder\n",
    "        self.decoder = decoder\n",
    "        self.src_pad_idx = src_pad_idx\n",
    "        self.trg_pad_idx = trg_pad_idx\n",
    "        self.device = device\n",
    "    \n",
    "    def apply_encoder(self, src):\n",
    "        # src = [src sent len, batch size]\n",
    "        \n",
    "        key_padding_mask = (src == self.src_pad_idx).transpose(1,0)\n",
    "        enc_output = self.encoder(src, key_padding_mask=key_padding_mask)\n",
    "        return enc_output # [src sent len, batch size, emb dim]\n",
    "    \n",
    "    def forward(self, src, trg, teacher_forcing_ratio=0.5):        \n",
    "        # src = [src sent len, batch size]\n",
    "        # trg = [trg sent len, batch size]\n",
    "        # teacher_forcing_ratio is probability to use teacher forcing\n",
    "        # e.g. if teacher_forcing_ratio is 0.75 we use ground-truth inputs 75% of the time\n",
    "        \n",
    "        batch_size = trg.shape[1]\n",
    "        max_len = trg.shape[0]\n",
    "        trg_vocab_size = self.decoder.output_dim\n",
    "        \n",
    "        # encoder_output = [src sent len, batch size, hid dim]\n",
    "        encoder_output = self.apply_encoder(src)\n",
    "        decoder_outputs = torch.zeros(max_len, batch_size, trg_vocab_size).to(self.device)\n",
    "        decoder_inputs = torch.full((max_len, batch_size), self.trg_pad_idx, dtype=torch.long, device=self.device)\n",
    "        \n",
    "        # first input to the decoder is the <sos> tokens\n",
    "        decoder_inputs[0,:] = trg[0,:]\n",
    "        \n",
    "        for t in range(1, max_len):\n",
    "            input = decoder_inputs[:t].clone().detach()\n",
    "            key_padding_mask = (input == self.trg_pad_idx).transpose(1,0)\n",
    "            \n",
    "            # output = [batch size, output dim]\n",
    "            output = self.decoder(input, encoder_output, key_padding_mask)\n",
    "            decoder_outputs[t] = output\n",
    "            teacher_force = random.random() < teacher_forcing_ratio\n",
    "            top1 = output.detach().max(1)[1]\n",
    "            decoder_inputs[t] = (trg[t] if teacher_force else top1)\n",
    "        \n",
    "        return decoder_outputs"
   ]
  },
  {
   "cell_type": "code",
   "execution_count": 31,
   "metadata": {},
   "outputs": [],
   "source": [
    "SRC_PAD_IDX = SRC.vocab.stoi['<pad>']\n",
    "TRG_PAD_IDX = TRG.vocab.stoi['<pad>']"
   ]
  },
  {
   "cell_type": "code",
   "execution_count": 32,
   "metadata": {},
   "outputs": [],
   "source": [
    "# from models import GruEncoder, AttentionGruDecoder, AttentionGruSeq2Seq\n",
    "enc = TransformerEncoder(INPUT_DIM, HID_DIM, N_HEADS, N_LAYERS, ENC_DROPOUT)\n",
    "dec = TransformerDecoder(OUTPUT_DIM, HID_DIM, N_HEADS, N_LAYERS, DEC_DROPOUT)\n",
    "model = TransformerSeq2Seq(enc, dec, SRC_PAD_IDX, TRG_PAD_IDX, device).to(device)\n",
    "\n",
    "for p in model.parameters():\n",
    "    if p.dim() > 1:\n",
    "        nn.init.xavier_uniform_(p)"
   ]
  },
  {
   "cell_type": "code",
   "execution_count": 33,
   "metadata": {},
   "outputs": [
    {
     "data": {
      "text/plain": [
       "10045006"
      ]
     },
     "execution_count": 33,
     "metadata": {},
     "output_type": "execute_result"
    }
   ],
   "source": [
    "count_parameters(model)"
   ]
  },
  {
   "cell_type": "code",
   "execution_count": 34,
   "metadata": {},
   "outputs": [],
   "source": [
    "optimizer = optim.AdamW(model.parameters(), lr=LR, weight_decay=0.001, amsgrad=True)\n",
    "lr_scheduler = optim.lr_scheduler.ReduceLROnPlateau(optimizer, 'min', factor=0.3, patience=2)\n",
    "criterion = nn.CrossEntropyLoss(ignore_index=TRG_PAD_IDX)"
   ]
  },
  {
   "cell_type": "code",
   "execution_count": 35,
   "metadata": {
    "scrolled": true
   },
   "outputs": [
    {
     "name": "stderr",
     "output_type": "stream",
     "text": [
      "\r",
      "  0%|          | 0/10 [00:00<?, ?it/s]"
     ]
    },
    {
     "name": "stdout",
     "output_type": "stream",
     "text": [
      "runs/transformer_2020-05-29--22-19-26\n"
     ]
    },
    {
     "name": "stderr",
     "output_type": "stream",
     "text": [
      "\r",
      " 10%|█         | 1/10 [21:11<3:10:46, 1271.86s/it]"
     ]
    },
    {
     "name": "stdout",
     "output_type": "stream",
     "text": [
      "Epoch: 01 | Time: 20m 57s\n",
      "\tTrain Loss: 4.482 | Train PPL:  88.372\n",
      "\t Val. Loss: 4.812 |  Val. PPL: 122.933\n",
      "\tVal. BLEU (Greedy): 9.106\n"
     ]
    },
    {
     "name": "stderr",
     "output_type": "stream",
     "text": [
      "\r",
      " 20%|██        | 2/10 [42:26<2:49:42, 1272.84s/it]"
     ]
    },
    {
     "name": "stdout",
     "output_type": "stream",
     "text": [
      "Epoch: 02 | Time: 20m 59s\n",
      "\tTrain Loss: 3.670 | Train PPL:  39.259\n",
      "\t Val. Loss: 4.693 |  Val. PPL: 109.203\n",
      "\tVal. BLEU (Greedy): 12.820\n"
     ]
    },
    {
     "name": "stderr",
     "output_type": "stream",
     "text": [
      "\r",
      " 30%|███       | 3/10 [1:03:43<2:28:37, 1273.86s/it]"
     ]
    },
    {
     "name": "stdout",
     "output_type": "stream",
     "text": [
      "Epoch: 03 | Time: 21m 1s\n",
      "\tTrain Loss: 3.394 | Train PPL:  29.771\n",
      "\t Val. Loss: 4.674 |  Val. PPL: 107.075\n",
      "\tVal. BLEU (Greedy): 13.732\n"
     ]
    },
    {
     "name": "stderr",
     "output_type": "stream",
     "text": [
      "\r",
      " 40%|████      | 4/10 [1:25:04<2:07:36, 1276.16s/it]"
     ]
    },
    {
     "name": "stdout",
     "output_type": "stream",
     "text": [
      "Epoch: 04 | Time: 21m 6s\n",
      "\tTrain Loss: 3.230 | Train PPL:  25.275\n",
      "\t Val. Loss: 4.484 |  Val. PPL:  88.622\n",
      "\tVal. BLEU (Greedy): 14.983\n"
     ]
    },
    {
     "name": "stderr",
     "output_type": "stream",
     "text": [
      "\r",
      " 50%|█████     | 5/10 [1:46:19<1:46:18, 1275.63s/it]"
     ]
    },
    {
     "name": "stdout",
     "output_type": "stream",
     "text": [
      "Epoch: 05 | Time: 20m 59s\n",
      "\tTrain Loss: 3.116 | Train PPL:  22.550\n",
      "\t Val. Loss: 4.507 |  Val. PPL:  90.615\n",
      "\tVal. BLEU (Greedy): 16.063\n"
     ]
    },
    {
     "name": "stderr",
     "output_type": "stream",
     "text": [
      "\r",
      " 60%|██████    | 6/10 [2:07:30<1:24:57, 1274.48s/it]"
     ]
    },
    {
     "name": "stdout",
     "output_type": "stream",
     "text": [
      "Epoch: 06 | Time: 20m 57s\n",
      "\tTrain Loss: 3.046 | Train PPL:  21.030\n",
      "\t Val. Loss: 4.504 |  Val. PPL:  90.360\n",
      "\tVal. BLEU (Greedy): 16.596\n"
     ]
    },
    {
     "name": "stderr",
     "output_type": "stream",
     "text": [
      "\r",
      " 70%|███████   | 7/10 [2:28:46<1:03:44, 1274.77s/it]"
     ]
    },
    {
     "name": "stdout",
     "output_type": "stream",
     "text": [
      "Epoch: 07 | Time: 21m 0s\n",
      "\tTrain Loss: 2.983 | Train PPL:  19.752\n",
      "\t Val. Loss: 4.381 |  Val. PPL:  79.907\n",
      "\tVal. BLEU (Greedy): 17.051\n"
     ]
    },
    {
     "name": "stderr",
     "output_type": "stream",
     "text": [
      "\r",
      " 80%|████████  | 8/10 [2:49:48<42:21, 1270.95s/it]  "
     ]
    },
    {
     "name": "stdout",
     "output_type": "stream",
     "text": [
      "Epoch: 08 | Time: 20m 46s\n",
      "\tTrain Loss: 2.898 | Train PPL:  18.136\n",
      "\t Val. Loss: 4.520 |  Val. PPL:  91.846\n",
      "\tVal. BLEU (Greedy): 17.323\n"
     ]
    },
    {
     "name": "stderr",
     "output_type": "stream",
     "text": [
      "\r",
      " 90%|█████████ | 9/10 [3:11:17<21:16, 1276.54s/it]"
     ]
    },
    {
     "name": "stdout",
     "output_type": "stream",
     "text": [
      "Epoch: 09 | Time: 21m 14s\n",
      "\tTrain Loss: 2.833 | Train PPL:  16.990\n",
      "\t Val. Loss: 4.472 |  Val. PPL:  87.504\n",
      "\tVal. BLEU (Greedy): 17.714\n"
     ]
    },
    {
     "name": "stderr",
     "output_type": "stream",
     "text": [
      "\r",
      "100%|██████████| 10/10 [3:32:32<00:00, 1275.84s/it]"
     ]
    },
    {
     "name": "stdout",
     "output_type": "stream",
     "text": [
      "Epoch: 10 | Time: 20m 56s\n",
      "\tTrain Loss: 2.796 | Train PPL:  16.377\n",
      "\t Val. Loss: 4.573 |  Val. PPL:  96.828\n",
      "\tVal. BLEU (Greedy): 19.016\n"
     ]
    },
    {
     "name": "stderr",
     "output_type": "stream",
     "text": [
      "\n"
     ]
    }
   ],
   "source": [
    "tensorboard_dir = get_tensorboard_dir(model_name)\n",
    "print(tensorboard_dir)\n",
    "writer = SummaryWriter(tensorboard_dir)\n",
    "training_procedure(model, model_name, train_iterator, valid_iterator,\n",
    "                      optimizer, lr_scheduler, criterion, writer, clip=CLIP, n_epochs=N_EPOCHS)"
   ]
  },
  {
   "cell_type": "markdown",
   "metadata": {},
   "source": [
    "**Let's load best model**"
   ]
  },
  {
   "cell_type": "code",
   "execution_count": 36,
   "metadata": {},
   "outputs": [],
   "source": [
    "with open(f'models/{model_name}.pt', 'rb') as fp:\n",
    "    best_state_dict = torch.load(fp, map_location='cpu')\n",
    "    model.load_state_dict(best_state_dict)"
   ]
  },
  {
   "cell_type": "markdown",
   "metadata": {},
   "source": [
    "**And look at its predictions**"
   ]
  },
  {
   "cell_type": "code",
   "execution_count": 37,
   "metadata": {},
   "outputs": [
    {
     "name": "stdout",
     "output_type": "stream",
     "text": [
      "Original:                   towels are featured .\n",
      "Generated (Greedy):         towels are provided .\n"
     ]
    },
    {
     "ename": "ValueError",
     "evalue": "too many values to unpack (expected 2)",
     "output_type": "error",
     "traceback": [
      "\u001b[0;31m---------------------------------------------------------------------------\u001b[0m",
      "\u001b[0;31mValueError\u001b[0m                                Traceback (most recent call last)",
      "\u001b[0;32m<ipython-input-37-b20a87292398>\u001b[0m in \u001b[0;36m<module>\u001b[0;34m\u001b[0m\n\u001b[0;32m----> 1\u001b[0;31m \u001b[0mprint_samples\u001b[0m\u001b[0;34m(\u001b[0m\u001b[0mmodel\u001b[0m\u001b[0;34m,\u001b[0m \u001b[0mtest_iterator\u001b[0m\u001b[0;34m)\u001b[0m\u001b[0;34m\u001b[0m\u001b[0;34m\u001b[0m\u001b[0m\n\u001b[0m",
      "\u001b[0;32m<ipython-input-26-43e1d5a998dd>\u001b[0m in \u001b[0;36mprint_samples\u001b[0;34m(model, test_iterator, indices, beam_widths)\u001b[0m\n\u001b[1;32m      4\u001b[0m         \u001b[0msrc\u001b[0m \u001b[0;34m=\u001b[0m \u001b[0mbatch\u001b[0m\u001b[0;34m.\u001b[0m\u001b[0msrc\u001b[0m\u001b[0;34m[\u001b[0m\u001b[0;34m:\u001b[0m\u001b[0;34m,\u001b[0m \u001b[0midx\u001b[0m\u001b[0;34m:\u001b[0m\u001b[0midx\u001b[0m\u001b[0;34m+\u001b[0m\u001b[0;36m1\u001b[0m\u001b[0;34m]\u001b[0m\u001b[0;34m\u001b[0m\u001b[0;34m\u001b[0m\u001b[0m\n\u001b[1;32m      5\u001b[0m         \u001b[0mtrg\u001b[0m \u001b[0;34m=\u001b[0m \u001b[0mbatch\u001b[0m\u001b[0;34m.\u001b[0m\u001b[0mtrg\u001b[0m\u001b[0;34m[\u001b[0m\u001b[0;34m:\u001b[0m\u001b[0;34m,\u001b[0m \u001b[0midx\u001b[0m\u001b[0;34m:\u001b[0m\u001b[0midx\u001b[0m\u001b[0;34m+\u001b[0m\u001b[0;36m1\u001b[0m\u001b[0;34m]\u001b[0m\u001b[0;34m\u001b[0m\u001b[0;34m\u001b[0m\u001b[0m\n\u001b[0;32m----> 6\u001b[0;31m         \u001b[0mgenerate_translation\u001b[0m\u001b[0;34m(\u001b[0m\u001b[0msrc\u001b[0m\u001b[0;34m,\u001b[0m \u001b[0mtrg\u001b[0m\u001b[0;34m,\u001b[0m \u001b[0mmodel\u001b[0m\u001b[0;34m,\u001b[0m \u001b[0mTRG\u001b[0m\u001b[0;34m.\u001b[0m\u001b[0mvocab\u001b[0m\u001b[0;34m,\u001b[0m \u001b[0mbeam_widths\u001b[0m\u001b[0;34m)\u001b[0m\u001b[0;34m\u001b[0m\u001b[0;34m\u001b[0m\u001b[0m\n\u001b[0m",
      "\u001b[0;32m/work/Data/made/made_nlp_course/homeworks/homework03/utils.py\u001b[0m in \u001b[0;36mgenerate_translation\u001b[0;34m(src, trg, model, TRG_vocab, beam_widths)\u001b[0m\n\u001b[1;32m    123\u001b[0m \u001b[0;34m\u001b[0m\u001b[0m\n\u001b[1;32m    124\u001b[0m         \u001b[0;32mfor\u001b[0m \u001b[0mbeam_width\u001b[0m \u001b[0;32min\u001b[0m \u001b[0mbeam_widths\u001b[0m\u001b[0;34m:\u001b[0m\u001b[0;34m\u001b[0m\u001b[0;34m\u001b[0m\u001b[0m\n\u001b[0;32m--> 125\u001b[0;31m             \u001b[0moutput\u001b[0m \u001b[0;34m=\u001b[0m \u001b[0mbeam_search\u001b[0m\u001b[0;34m(\u001b[0m\u001b[0mmodel\u001b[0m\u001b[0;34m,\u001b[0m \u001b[0msrc\u001b[0m\u001b[0;34m,\u001b[0m \u001b[0mtrg\u001b[0m\u001b[0;34m,\u001b[0m \u001b[0mTRG_vocab\u001b[0m\u001b[0;34m,\u001b[0m \u001b[0mbeam_width\u001b[0m\u001b[0;34m)\u001b[0m\u001b[0;34m\u001b[0m\u001b[0;34m\u001b[0m\u001b[0m\n\u001b[0m\u001b[1;32m    126\u001b[0m             \u001b[0mgenerated\u001b[0m \u001b[0;34m=\u001b[0m \u001b[0mget_text\u001b[0m\u001b[0;34m(\u001b[0m\u001b[0mlist\u001b[0m\u001b[0;34m(\u001b[0m\u001b[0moutput\u001b[0m\u001b[0;34m[\u001b[0m\u001b[0;36m1\u001b[0m\u001b[0;34m:\u001b[0m\u001b[0;34m,\u001b[0m \u001b[0;36m0\u001b[0m\u001b[0;34m]\u001b[0m\u001b[0;34m)\u001b[0m\u001b[0;34m,\u001b[0m \u001b[0mTRG_vocab\u001b[0m\u001b[0;34m)\u001b[0m\u001b[0;34m\u001b[0m\u001b[0;34m\u001b[0m\u001b[0m\n\u001b[1;32m    127\u001b[0m             \u001b[0mprint\u001b[0m\u001b[0;34m(\u001b[0m\u001b[0;34m'Generated (BeamSearch@{}):\\t{}'\u001b[0m\u001b[0;34m.\u001b[0m\u001b[0mformat\u001b[0m\u001b[0;34m(\u001b[0m\u001b[0mbeam_width\u001b[0m\u001b[0;34m,\u001b[0m \u001b[0;34m' '\u001b[0m\u001b[0;34m.\u001b[0m\u001b[0mjoin\u001b[0m\u001b[0;34m(\u001b[0m\u001b[0mgenerated\u001b[0m\u001b[0;34m)\u001b[0m\u001b[0;34m)\u001b[0m\u001b[0;34m.\u001b[0m\u001b[0mexpandtabs\u001b[0m\u001b[0;34m(\u001b[0m\u001b[0mtabs\u001b[0m\u001b[0;34m)\u001b[0m\u001b[0;34m)\u001b[0m\u001b[0;34m\u001b[0m\u001b[0;34m\u001b[0m\u001b[0m\n",
      "\u001b[0;32m/work/Data/made/made_nlp_course/homeworks/homework03/utils.py\u001b[0m in \u001b[0;36mbeam_search\u001b[0;34m(model, src, trg, target_vocab, k)\u001b[0m\n\u001b[1;32m    103\u001b[0m     \u001b[0meos\u001b[0m \u001b[0;34m=\u001b[0m \u001b[0mtarget_vocab\u001b[0m\u001b[0;34m.\u001b[0m\u001b[0mstoi\u001b[0m\u001b[0;34m[\u001b[0m\u001b[0;34m'<eos>'\u001b[0m\u001b[0;34m]\u001b[0m\u001b[0;34m\u001b[0m\u001b[0;34m\u001b[0m\u001b[0m\n\u001b[1;32m    104\u001b[0m     pred_tokens = [beam_search_for_sample(model, src[:,i,None], trg[:,i,None], eos, k).unsqueeze(1)\n\u001b[0;32m--> 105\u001b[0;31m             for i in range(src.shape[1])]\n\u001b[0m\u001b[1;32m    106\u001b[0m     \u001b[0;32mreturn\u001b[0m \u001b[0mtorch\u001b[0m\u001b[0;34m.\u001b[0m\u001b[0mcat\u001b[0m\u001b[0;34m(\u001b[0m\u001b[0mpred_tokens\u001b[0m\u001b[0;34m,\u001b[0m \u001b[0mdim\u001b[0m\u001b[0;34m=\u001b[0m\u001b[0;36m1\u001b[0m\u001b[0;34m)\u001b[0m \u001b[0;31m# [trg sent len, batch size]\u001b[0m\u001b[0;34m\u001b[0m\u001b[0;34m\u001b[0m\u001b[0m\n\u001b[1;32m    107\u001b[0m \u001b[0;34m\u001b[0m\u001b[0m\n",
      "\u001b[0;32m/work/Data/made/made_nlp_course/homeworks/homework03/utils.py\u001b[0m in \u001b[0;36m<listcomp>\u001b[0;34m(.0)\u001b[0m\n\u001b[1;32m    103\u001b[0m     \u001b[0meos\u001b[0m \u001b[0;34m=\u001b[0m \u001b[0mtarget_vocab\u001b[0m\u001b[0;34m.\u001b[0m\u001b[0mstoi\u001b[0m\u001b[0;34m[\u001b[0m\u001b[0;34m'<eos>'\u001b[0m\u001b[0;34m]\u001b[0m\u001b[0;34m\u001b[0m\u001b[0;34m\u001b[0m\u001b[0m\n\u001b[1;32m    104\u001b[0m     pred_tokens = [beam_search_for_sample(model, src[:,i,None], trg[:,i,None], eos, k).unsqueeze(1)\n\u001b[0;32m--> 105\u001b[0;31m             for i in range(src.shape[1])]\n\u001b[0m\u001b[1;32m    106\u001b[0m     \u001b[0;32mreturn\u001b[0m \u001b[0mtorch\u001b[0m\u001b[0;34m.\u001b[0m\u001b[0mcat\u001b[0m\u001b[0;34m(\u001b[0m\u001b[0mpred_tokens\u001b[0m\u001b[0;34m,\u001b[0m \u001b[0mdim\u001b[0m\u001b[0;34m=\u001b[0m\u001b[0;36m1\u001b[0m\u001b[0;34m)\u001b[0m \u001b[0;31m# [trg sent len, batch size]\u001b[0m\u001b[0;34m\u001b[0m\u001b[0;34m\u001b[0m\u001b[0m\n\u001b[1;32m    107\u001b[0m \u001b[0;34m\u001b[0m\u001b[0m\n",
      "\u001b[0;32m/work/Data/made/made_nlp_course/homeworks/homework03/utils.py\u001b[0m in \u001b[0;36mbeam_search_for_sample\u001b[0;34m(model, src, trg, eos, k)\u001b[0m\n\u001b[1;32m     40\u001b[0m         \u001b[0;31m# encoder_states = [batch size = 1, src sent len, dimensions = n layers * hid dim]\u001b[0m\u001b[0;34m\u001b[0m\u001b[0;34m\u001b[0m\u001b[0;34m\u001b[0m\u001b[0m\n\u001b[1;32m     41\u001b[0m         \u001b[0;31m# hidden = [n layers * n directions, batch size = 1, hid dim]\u001b[0m\u001b[0;34m\u001b[0m\u001b[0;34m\u001b[0m\u001b[0;34m\u001b[0m\u001b[0m\n\u001b[0;32m---> 42\u001b[0;31m         \u001b[0mencoder_states\u001b[0m\u001b[0;34m,\u001b[0m \u001b[0mhidden\u001b[0m \u001b[0;34m=\u001b[0m \u001b[0mmodel\u001b[0m\u001b[0;34m.\u001b[0m\u001b[0mapply_encoder\u001b[0m\u001b[0;34m(\u001b[0m\u001b[0msrc\u001b[0m\u001b[0;34m)\u001b[0m\u001b[0;34m\u001b[0m\u001b[0;34m\u001b[0m\u001b[0m\n\u001b[0m\u001b[1;32m     43\u001b[0m \u001b[0;34m\u001b[0m\u001b[0m\n\u001b[1;32m     44\u001b[0m         \u001b[0;31m# first input to the decoder is the <sos> tokens\u001b[0m\u001b[0;34m\u001b[0m\u001b[0;34m\u001b[0m\u001b[0;34m\u001b[0m\u001b[0m\n",
      "\u001b[0;31mValueError\u001b[0m: too many values to unpack (expected 2)"
     ]
    }
   ],
   "source": [
    "print_samples(model, test_iterator)"
   ]
  },
  {
   "cell_type": "code",
   "execution_count": null,
   "metadata": {},
   "outputs": [],
   "source": [
    "print('Test BLEU (Greedy):', eval_bleu(model, test_iterator, beam_width=1))"
   ]
  },
  {
   "cell_type": "code",
   "execution_count": null,
   "metadata": {},
   "outputs": [],
   "source": [
    "print('Test BLEU (BeamSearch@2):', eval_bleu(model, test_iterator, beam_width=2))"
   ]
  },
  {
   "cell_type": "code",
   "execution_count": null,
   "metadata": {},
   "outputs": [],
   "source": [
    "print('Test BLEU (BeamSearch@5):', eval_bleu(model, test_iterator, beam_width=5))"
   ]
  },
  {
   "cell_type": "code",
   "execution_count": null,
   "metadata": {},
   "outputs": [],
   "source": [
    "print('Test BLEU (BeamSearch@10):', eval_bleu(model, test_iterator, beam_width=10))"
   ]
  },
  {
   "cell_type": "code",
   "execution_count": null,
   "metadata": {},
   "outputs": [],
   "source": [
    "print('Test BLEU (BeamSearch@16):', eval_bleu(model, test_iterator, beam_width=16))"
   ]
  },
  {
   "cell_type": "code",
   "execution_count": null,
   "metadata": {},
   "outputs": [],
   "source": [
    "print('Test BLEU (BeamSearch@32):', eval_bleu(model, test_iterator, beam_width=32))"
   ]
  },
  {
   "cell_type": "markdown",
   "metadata": {},
   "source": [
    "**And plot train/val metrics**"
   ]
  },
  {
   "cell_type": "code",
   "execution_count": null,
   "metadata": {},
   "outputs": [],
   "source": [
    "logs = parse_tensorboard_logs(tensorboard_dir)"
   ]
  },
  {
   "cell_type": "code",
   "execution_count": null,
   "metadata": {},
   "outputs": [],
   "source": [
    "printable_model_name = '_'.join(model_name.split('_')[:-1])"
   ]
  },
  {
   "cell_type": "code",
   "execution_count": null,
   "metadata": {},
   "outputs": [],
   "source": [
    "plot_metrics(logs, printable_model_name)"
   ]
  }
 ],
 "metadata": {
  "anaconda-cloud": {},
  "colab": {
   "collapsed_sections": [],
   "machine_shape": "hm",
   "name": "homework.ipynb",
   "provenance": []
  },
  "kernelspec": {
   "display_name": "Python 3",
   "language": "python",
   "name": "python3"
  },
  "language_info": {
   "codemirror_mode": {
    "name": "ipython",
    "version": 3
   },
   "file_extension": ".py",
   "mimetype": "text/x-python",
   "name": "python",
   "nbconvert_exporter": "python",
   "pygments_lexer": "ipython3",
   "version": "3.6.8"
  }
 },
 "nbformat": 4,
 "nbformat_minor": 1
}
