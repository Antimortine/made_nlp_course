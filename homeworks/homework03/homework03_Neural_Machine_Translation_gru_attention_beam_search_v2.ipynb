{
 "cells": [
  {
   "cell_type": "markdown",
   "metadata": {},
   "source": [
    "## Homework №3"
   ]
  },
  {
   "cell_type": "markdown",
   "metadata": {},
   "source": [
    "### Neural Machine Translation in the wild\n",
    "In the third homework you are supposed to get the best translation you can for the EN-RU translation task.\n",
    "\n",
    "Basic approach using RNNs as encoder and decoder is implemented for you. \n",
    "\n",
    "Your ultimate task is to use the techniques we've covered, e.g.\n",
    "\n",
    "* Optimization enhancements (e.g. learning rate decay)\n",
    "\n",
    "* CNN encoder (with or without positional encoding)\n",
    "\n",
    "* attention/self-attention mechanism\n",
    "\n",
    "* pretraining the language model\n",
    "\n",
    "* [Byte Pair Encoding](https://github.com/rsennrich/subword-nmt)\n",
    "\n",
    "* or just fine-tunning BERT ;)\n",
    "\n",
    "to improve the translation quality. \n",
    "\n",
    "__Please use at least three different approaches/models and compare them (translation quality/complexity/training and evaluation time).__\n",
    "\n",
    "Write down some summary on your experiments and illustrate it with convergence plots/metrics and your thoughts. Just like you would approach a real problem."
   ]
  },
  {
   "cell_type": "code",
   "execution_count": 1,
   "metadata": {},
   "outputs": [],
   "source": [
    "from datetime import datetime\n",
    "\n",
    "DEVICE_NAME = 'cuda:1'\n",
    "\n",
    "now = datetime.now().strftime(\"%Y-%m-%d--%H-%M-%S\")\n",
    "model_name = f'gru_attention_beam_search_{now}'"
   ]
  },
  {
   "cell_type": "code",
   "execution_count": 2,
   "metadata": {},
   "outputs": [],
   "source": [
    "# Thanks to YSDA NLP course team for the data\n",
    "# (who thanks tilda and deephack teams for the data in their turn)\n",
    "\n",
    "import os\n",
    "path_to_data = '../../datasets/Machine_translation_EN_RU/data.txt'\n",
    "if not os.path.exists(path_to_data):\n",
    "    print(\"Dataset not found locally. Downloading from github.\")\n",
    "    !wget https://raw.githubusercontent.com/neychev/made_nlp_course/master/datasets/Machine_translation_EN_RU/data.txt -nc\n",
    "    path_to_data = './data.txt'"
   ]
  },
  {
   "cell_type": "code",
   "execution_count": 3,
   "metadata": {},
   "outputs": [],
   "source": [
    "import numpy as np\n",
    "import torch\n",
    "import torch.nn as nn\n",
    "import torch.optim as optim\n",
    "from torch.utils.tensorboard import SummaryWriter\n",
    "\n",
    "import torchtext\n",
    "from torchtext.data import Field, BucketIterator\n",
    "from nltk.tokenize import WordPunctTokenizer\n",
    "from nltk.translate.bleu_score import corpus_bleu\n",
    "\n",
    "from tqdm import tqdm\n",
    "import time\n",
    "import random\n",
    "\n",
    "import matplotlib.pyplot as plt\n",
    "%matplotlib inline\n",
    "\n",
    "from utils import generate_translation, remove_tech_tokens, get_text, \\\n",
    "                    parse_tensorboard_logs, plot_metrics, beam_search, _len_sort_key, init_weights, count_parameters"
   ]
  },
  {
   "cell_type": "code",
   "execution_count": 4,
   "metadata": {},
   "outputs": [],
   "source": [
    "SEED = 1234\n",
    "\n",
    "random.seed(SEED)\n",
    "torch.manual_seed(SEED)\n",
    "torch.cuda.manual_seed_all(SEED)\n",
    "torch.backends.cudnn.deterministic = True\n",
    "torch.backends.cudnn.benchmark = False"
   ]
  },
  {
   "cell_type": "markdown",
   "metadata": {},
   "source": [
    "### Main part\n",
    "__Here comes the preprocessing. Do not hesitate to use BPE or more complex preprocessing ;)__"
   ]
  },
  {
   "cell_type": "code",
   "execution_count": 5,
   "metadata": {},
   "outputs": [],
   "source": [
    "tokenizer_W = WordPunctTokenizer()\n",
    "def tokenize(x, tokenizer=tokenizer_W):\n",
    "    return tokenizer.tokenize(x.lower())"
   ]
  },
  {
   "cell_type": "code",
   "execution_count": 6,
   "metadata": {},
   "outputs": [],
   "source": [
    "SRC = Field(tokenize=tokenize,\n",
    "            init_token = '<sos>', \n",
    "            eos_token = '<eos>', \n",
    "            lower = True)\n",
    "\n",
    "TRG = Field(tokenize=tokenize,\n",
    "            init_token = '<sos>', \n",
    "            eos_token = '<eos>', \n",
    "            lower = True)\n",
    "\n",
    "dataset = torchtext.data.TabularDataset(\n",
    "    path=path_to_data,\n",
    "    format='tsv',\n",
    "    fields=[('trg', TRG), ('src', SRC)]\n",
    ")"
   ]
  },
  {
   "cell_type": "code",
   "execution_count": 7,
   "metadata": {},
   "outputs": [],
   "source": [
    "train_data, valid_data, test_data = dataset.split(split_ratio=[0.8, 0.15, 0.05], random_state=random.seed(SEED))"
   ]
  },
  {
   "cell_type": "code",
   "execution_count": 8,
   "metadata": {},
   "outputs": [
    {
     "name": "stdout",
     "output_type": "stream",
     "text": [
      "Number of training examples: 40000\n",
      "Number of validation examples: 2500\n",
      "Number of testing examples: 7500\n"
     ]
    }
   ],
   "source": [
    "print(f\"Number of training examples: {len(train_data.examples)}\")\n",
    "print(f\"Number of validation examples: {len(valid_data.examples)}\")\n",
    "print(f\"Number of testing examples: {len(test_data.examples)}\")"
   ]
  },
  {
   "cell_type": "code",
   "execution_count": 9,
   "metadata": {},
   "outputs": [],
   "source": [
    "SRC.build_vocab(train_data, min_freq=3)\n",
    "TRG.build_vocab(train_data, min_freq=3)"
   ]
  },
  {
   "cell_type": "code",
   "execution_count": 10,
   "metadata": {},
   "outputs": [
    {
     "name": "stdout",
     "output_type": "stream",
     "text": [
      "Unique tokens in source (ru) vocabulary: 9256\n",
      "Unique tokens in target (en) vocabulary: 6734\n"
     ]
    }
   ],
   "source": [
    "print(f\"Unique tokens in source (ru) vocabulary: {len(SRC.vocab)}\")\n",
    "print(f\"Unique tokens in target (en) vocabulary: {len(TRG.vocab)}\")"
   ]
  },
  {
   "cell_type": "markdown",
   "metadata": {},
   "source": [
    "Here are tokens from original (RU) corpus:"
   ]
  },
  {
   "cell_type": "code",
   "execution_count": 11,
   "metadata": {},
   "outputs": [
    {
     "data": {
      "text/plain": [
       "['<unk>',\n",
       " 'террасу',\n",
       " 'чистые',\n",
       " 'компьютеры',\n",
       " 'don',\n",
       " 'шамони',\n",
       " 'logis',\n",
       " 'форму',\n",
       " 'душевые',\n",
       " 'техасского']"
      ]
     },
     "execution_count": 11,
     "metadata": {},
     "output_type": "execute_result"
    }
   ],
   "source": [
    "SRC.vocab.itos[::1000]"
   ]
  },
  {
   "cell_type": "markdown",
   "metadata": {},
   "source": [
    "And from target (EN) corpus:"
   ]
  },
  {
   "cell_type": "code",
   "execution_count": 12,
   "metadata": {},
   "outputs": [
    {
     "data": {
      "text/plain": [
       "['<unk>', 'springs', 'galeao', 'calm', 'occupies', 'tegel', 'malioboro']"
      ]
     },
     "execution_count": 12,
     "metadata": {},
     "output_type": "execute_result"
    }
   ],
   "source": [
    "TRG.vocab.itos[::1000]"
   ]
  },
  {
   "cell_type": "markdown",
   "metadata": {},
   "source": [
    "And here is example from train dataset:"
   ]
  },
  {
   "cell_type": "code",
   "execution_count": 13,
   "metadata": {},
   "outputs": [
    {
     "name": "stdout",
     "output_type": "stream",
     "text": [
      "также предлагается доставка продуктов , услуги прачечной и гладильные услуги .\n",
      "other facilities offered at the property include grocery deliveries , laundry and ironing services .\n"
     ]
    }
   ],
   "source": [
    "idx = 9\n",
    "print(' '.join(train_data.examples[idx].src))\n",
    "print(' '.join(train_data.examples[idx].trg))"
   ]
  },
  {
   "cell_type": "markdown",
   "metadata": {},
   "source": [
    "Let's check the length distributions:"
   ]
  },
  {
   "cell_type": "code",
   "execution_count": 14,
   "metadata": {},
   "outputs": [],
   "source": [
    "def plt_len_dist(data, name):\n",
    "    src_length = list(map(len, [x.src for x in data.examples]))\n",
    "    trg_length = list(map(len, [x.trg for x in data.examples]))\n",
    "\n",
    "    print(f'Length distribution in {name} data')\n",
    "    print(f'Max source length: {max(src_length)}')\n",
    "    print(f'Max target length: {max(trg_length)}')\n",
    "    plt.figure(figsize=[8, 4])\n",
    "    plt.subplot(1, 2, 1)\n",
    "    plt.title(\"source length\")\n",
    "    plt.hist(list(src_length), bins=20);\n",
    "\n",
    "    plt.subplot(1, 2, 2)\n",
    "    plt.title(\"translation length\")\n",
    "    plt.hist(list(trg_length), bins=20)"
   ]
  },
  {
   "cell_type": "code",
   "execution_count": 15,
   "metadata": {},
   "outputs": [
    {
     "name": "stdout",
     "output_type": "stream",
     "text": [
      "Length distribution in Train data\n",
      "Max source length: 73\n",
      "Max target length: 89\n"
     ]
    },
    {
     "data": {
      "image/png": "[encoded data removed]",
      "text/plain": [
       "<Figure size 576x288 with 2 Axes>"
      ]
     },
     "metadata": {
      "needs_background": "light"
     },
     "output_type": "display_data"
    }
   ],
   "source": [
    "plt_len_dist(train_data, 'Train')"
   ]
  },
  {
   "cell_type": "code",
   "execution_count": 16,
   "metadata": {},
   "outputs": [
    {
     "name": "stdout",
     "output_type": "stream",
     "text": [
      "Length distribution in Validation data\n",
      "Max source length: 76\n",
      "Max target length: 73\n"
     ]
    },
    {
     "data": {
      "image/png": "[encoded data removed]",
      "text/plain": [
       "<Figure size 576x288 with 2 Axes>"
      ]
     },
     "metadata": {
      "needs_background": "light"
     },
     "output_type": "display_data"
    }
   ],
   "source": [
    "plt_len_dist(valid_data, 'Validation')"
   ]
  },
  {
   "cell_type": "code",
   "execution_count": 17,
   "metadata": {},
   "outputs": [
    {
     "name": "stdout",
     "output_type": "stream",
     "text": [
      "Length distribution in Test data\n",
      "Max source length: 80\n",
      "Max target length: 99\n"
     ]
    },
    {
     "data": {
      "image/png": "[encoded data removed]",
      "text/plain": [
       "<Figure size 576x288 with 2 Axes>"
      ]
     },
     "metadata": {
      "needs_background": "light"
     },
     "output_type": "display_data"
    }
   ],
   "source": [
    "plt_len_dist(test_data, 'Test')"
   ]
  },
  {
   "cell_type": "markdown",
   "metadata": {},
   "source": [
    "### Model side\n",
    "__Here comes simple pipeline of NMT model learning. It almost copies the week03 practice__"
   ]
  },
  {
   "cell_type": "code",
   "execution_count": 18,
   "metadata": {},
   "outputs": [
    {
     "data": {
      "text/plain": [
       "device(type='cuda', index=1)"
      ]
     },
     "execution_count": 18,
     "metadata": {},
     "output_type": "execute_result"
    }
   ],
   "source": [
    "device = torch.device(DEVICE_NAME if torch.cuda.is_available() else 'cpu')\n",
    "device"
   ]
  },
  {
   "cell_type": "code",
   "execution_count": 19,
   "metadata": {},
   "outputs": [],
   "source": [
    "def eval_bleu(model, test_iterator, target_vocab=TRG.vocab, beam_width=1, with_tqdm=True):\n",
    "    assert beam_width > 0\n",
    "    original_text = []\n",
    "    generated_text = []\n",
    "    model.eval()\n",
    "    with torch.no_grad():\n",
    "        if with_tqdm:\n",
    "            test_iterator = tqdm(test_iterator, position=0, leave=True)\n",
    "        for i, batch in enumerate(test_iterator):\n",
    "            src = batch.src # [src sent len, batch size]\n",
    "            trg = batch.trg # [trg sent len, batch size]\n",
    "            \n",
    "            if beam_width == 1:\n",
    "                output = model(src, trg, 0) #turn off teacher forcing\n",
    "                #output = [trg sent len, batch size, output dim]\n",
    "\n",
    "                output = output.argmax(dim=-1) # [trg sent len, batch size]\n",
    "            else:\n",
    "                output = beam_search(model, src, trg, target_vocab, beam_width)  # [trg sent len, batch size]\n",
    "\n",
    "            original_text.extend([get_text(x, target_vocab) for x in trg.cpu().numpy().T])\n",
    "            generated_text.extend([get_text(x, target_vocab) for x in output[1:].detach().cpu().numpy().T])\n",
    "    return corpus_bleu([[text] for text in original_text], generated_text) * 100"
   ]
  },
  {
   "cell_type": "code",
   "execution_count": 20,
   "metadata": {},
   "outputs": [],
   "source": [
    "def get_teacher_forcing_ratio(epoch, base_teacher_forcing_ratio=0.5, decay=1):\n",
    "    return base_teacher_forcing_ratio * decay ** epoch"
   ]
  },
  {
   "cell_type": "code",
   "execution_count": 21,
   "metadata": {},
   "outputs": [],
   "source": [
    "def train(model, iterator, optimizer, criterion, clip, epoch):\n",
    "    model.train()\n",
    "    epoch_loss = 0\n",
    "    for i, batch in enumerate(iterator):        \n",
    "        src = batch.src # [src sent len, batch size]\n",
    "        trg = batch.trg # [trg sent len, batch size]\n",
    "        \n",
    "        optimizer.zero_grad()        \n",
    "        teacher_forcing_ratio = get_teacher_forcing_ratio(epoch)\n",
    "        output = model(src, trg, teacher_forcing_ratio) # [trg sent len, batch size, output dim]\n",
    "        \n",
    "        output = output[1:].view(-1, output.shape[-1]) # [(trg sent len - 1) * batch size, output dim]\n",
    "        trg = trg[1:].view(-1) # [(trg sent len - 1) * batch size]\n",
    "        \n",
    "        loss = criterion(output, trg)        \n",
    "        loss.backward()\n",
    "        \n",
    "        # Let's clip the gradient\n",
    "        nn.utils.clip_grad_norm_(model.parameters(), clip)\n",
    "        \n",
    "        optimizer.step()        \n",
    "        batch_loss = loss.item()\n",
    "        epoch_loss += batch_loss\n",
    "        \n",
    "    return epoch_loss / len(iterator)"
   ]
  },
  {
   "cell_type": "code",
   "execution_count": 22,
   "metadata": {},
   "outputs": [],
   "source": [
    "def evaluate(model, iterator, criterion):    \n",
    "    model.eval()    \n",
    "    epoch_loss = 0    \n",
    "    with torch.no_grad():    \n",
    "        for i, batch in enumerate(iterator):\n",
    "            src = batch.src # [src sent len, batch size]\n",
    "            trg = batch.trg # [trg sent len, batch size]\n",
    "\n",
    "            output = model(src, trg, 0) #turn off teacher forcing\n",
    "            # [trg sent len, batch size, output dim]\n",
    "\n",
    "            output = output[1:].view(-1, output.shape[-1]) # [(trg sent len - 1) * batch size]\n",
    "            trg = trg[1:].view(-1) # [(trg sent len - 1) * batch size, output dim]\n",
    "\n",
    "            loss = criterion(output, trg)            \n",
    "            epoch_loss += loss.item()\n",
    "        \n",
    "    return epoch_loss / len(iterator)"
   ]
  },
  {
   "cell_type": "code",
   "execution_count": 23,
   "metadata": {},
   "outputs": [],
   "source": [
    "def epoch_time(start_time, end_time):\n",
    "    elapsed_time = end_time - start_time\n",
    "    elapsed_mins = int(elapsed_time / 60)\n",
    "    elapsed_secs = int(elapsed_time - (elapsed_mins * 60))\n",
    "    return elapsed_mins, elapsed_secs"
   ]
  },
  {
   "cell_type": "code",
   "execution_count": 24,
   "metadata": {},
   "outputs": [],
   "source": [
    "def training_procedure(model, model_name, train_iterator, valid_iterator,\n",
    "                      optimizer, lr_scheduler, criterion, writer, clip, n_epochs, beam_width=10):\n",
    "    best_valid_bleu = float('-inf')\n",
    "    for epoch in tqdm(range(n_epochs)):    \n",
    "        start_time = time.time()\n",
    "\n",
    "        train_loss = train(model, train_iterator, optimizer, criterion, clip, epoch)\n",
    "        valid_loss = evaluate(model, valid_iterator, criterion)\n",
    "        lr_scheduler.step(valid_loss)\n",
    "\n",
    "        end_time = time.time()\n",
    "        epoch_mins, epoch_secs = epoch_time(start_time, end_time)\n",
    "        \n",
    "        valid_bleu_greedy = eval_bleu(model, valid_iterator, beam_width=1, with_tqdm=False)\n",
    "        writer.add_scalar('Validation BLEU (Greedy)',\n",
    "                    valid_bleu_greedy,\n",
    "                    epoch)\n",
    "        \n",
    "        if beam_width is None:\n",
    "            valid_bleu_beam = float('-inf')\n",
    "        else:\n",
    "            valid_bleu_beam = eval_bleu(model, valid_iterator, beam_width=beam_width, with_tqdm=False)\n",
    "            writer.add_scalar(f'Validation BLEU (BeamSearch@{beam_width})',\n",
    "                        valid_bleu_beam,\n",
    "                        epoch)\n",
    "        \n",
    "        max_bleu = max(valid_bleu_greedy, valid_bleu_beam)\n",
    "        if max_bleu > best_valid_bleu:\n",
    "            best_valid_bleu = max_bleu\n",
    "            torch.save(model.state_dict(), f'models/{model_name}.pt')\n",
    "\n",
    "        writer.add_scalar('Train loss',\n",
    "                    train_loss,\n",
    "                    epoch)\n",
    "        writer.add_scalar('Validation loss',\n",
    "                    valid_loss,\n",
    "                    epoch)\n",
    "        print(f'Epoch: {epoch+1:02} | Time: {epoch_mins}m {epoch_secs}s')\n",
    "        print(f'\\tTrain Loss: {train_loss:.3f} | Train PPL: {np.exp(train_loss):7.3f}')\n",
    "        print(f'\\t Val. Loss: {valid_loss:.3f} |  Val. PPL: {np.exp(valid_loss):7.3f}')\n",
    "        if beam_width is None:\n",
    "            print(f'\\tVal. BLEU (Greedy): {valid_bleu_greedy:.3f}')\n",
    "        else:\n",
    "            print(f'\\tVal. BLEU (Greedy): {valid_bleu_greedy:.3f} | Val. BLEU (BeamSearch@{beam_width}): {valid_bleu_beam:.3f}')"
   ]
  },
  {
   "cell_type": "code",
   "execution_count": 25,
   "metadata": {},
   "outputs": [],
   "source": [
    "def get_tensorboard_dir(model_name):\n",
    "    return f'runs/{model_name}'"
   ]
  },
  {
   "cell_type": "code",
   "execution_count": 26,
   "metadata": {},
   "outputs": [],
   "source": [
    "def print_samples(model, test_iterator, indices=range(0, 10), beam_widths=[2,10]):\n",
    "    batch = next(iter(test_iterator))\n",
    "    for idx in indices:\n",
    "        src = batch.src[:, idx:idx+1]\n",
    "        trg = batch.trg[:, idx:idx+1]\n",
    "        generate_translation(src, trg, model, TRG.vocab, beam_widths)"
   ]
  },
  {
   "cell_type": "markdown",
   "metadata": {},
   "source": [
    "## Let's use GRU encoder-decoder with attention"
   ]
  },
  {
   "cell_type": "code",
   "execution_count": 27,
   "metadata": {},
   "outputs": [],
   "source": [
    "BATCH_SIZE = 128\n",
    "\n",
    "train_iterator, valid_iterator, test_iterator = BucketIterator.splits(\n",
    "    (train_data, valid_data, test_data), \n",
    "    batch_size = BATCH_SIZE, \n",
    "    device = device,\n",
    "    sort_key=_len_sort_key\n",
    ")"
   ]
  },
  {
   "cell_type": "code",
   "execution_count": 28,
   "metadata": {},
   "outputs": [],
   "source": [
    "INPUT_DIM = len(SRC.vocab)\n",
    "OUTPUT_DIM = len(TRG.vocab)\n",
    "ENC_EMB_DIM = 256\n",
    "DEC_EMB_DIM = 256\n",
    "HID_DIM = 512\n",
    "N_LAYERS = 2\n",
    "ENC_DROPOUT = 0.5\n",
    "DEC_DROPOUT = 0.5\n",
    "BIDIRECTIONAL = False\n",
    "\n",
    "LR = 1e-3\n",
    "CLIP = 1\n",
    "N_EPOCHS = 40"
   ]
  },
  {
   "cell_type": "code",
   "execution_count": 29,
   "metadata": {},
   "outputs": [
    {
     "data": {
      "text/plain": [
       "AttentionGruSeq2Seq(\n",
       "  (encoder): GruEncoder(\n",
       "    (embedding): Embedding(9256, 256)\n",
       "    (rnn): GRU(256, 512, num_layers=2, dropout=0.5)\n",
       "    (dropout): Dropout(p=0.5, inplace=False)\n",
       "  )\n",
       "  (decoder): AttentionGruDecoder(\n",
       "    (embedding): Embedding(6734, 256)\n",
       "    (attention): Attention(\n",
       "      (linear_in): Linear(in_features=1024, out_features=1024, bias=False)\n",
       "      (linear_out): Linear(in_features=2048, out_features=1024, bias=False)\n",
       "      (softmax): Softmax(dim=-1)\n",
       "      (tanh): Tanh()\n",
       "    )\n",
       "    (rnn): GRU(256, 512, num_layers=2, dropout=0.5)\n",
       "    (out): Linear(in_features=1024, out_features=6734, bias=True)\n",
       "    (dropout): Dropout(p=0.5, inplace=False)\n",
       "  )\n",
       "  (state_mapper): Linear(in_features=1024, out_features=1024, bias=True)\n",
       "  (context_mapper): Linear(in_features=512, out_features=1024, bias=True)\n",
       ")"
      ]
     },
     "execution_count": 29,
     "metadata": {},
     "output_type": "execute_result"
    }
   ],
   "source": [
    "from models import GruEncoder, AttentionGruDecoder, AttentionGruSeq2Seq\n",
    "\n",
    "enc = GruEncoder(INPUT_DIM, ENC_EMB_DIM, HID_DIM, N_LAYERS, BIDIRECTIONAL, ENC_DROPOUT)\n",
    "dec = AttentionGruDecoder(OUTPUT_DIM, DEC_EMB_DIM, HID_DIM, N_LAYERS, DEC_DROPOUT)\n",
    "model = AttentionGruSeq2Seq(enc, dec, device).to(device)\n",
    "model.apply(init_weights)"
   ]
  },
  {
   "cell_type": "code",
   "execution_count": 30,
   "metadata": {},
   "outputs": [
    {
     "data": {
      "text/plain": [
       "21233742"
      ]
     },
     "execution_count": 30,
     "metadata": {},
     "output_type": "execute_result"
    }
   ],
   "source": [
    "count_parameters(model)"
   ]
  },
  {
   "cell_type": "code",
   "execution_count": 31,
   "metadata": {},
   "outputs": [],
   "source": [
    "PAD_IDX = TRG.vocab.stoi['<pad>']"
   ]
  },
  {
   "cell_type": "code",
   "execution_count": 32,
   "metadata": {},
   "outputs": [],
   "source": [
    "optimizer = optim.AdamW(model.parameters(), lr=LR, weight_decay=0.001, amsgrad=True)\n",
    "lr_scheduler = optim.lr_scheduler.ReduceLROnPlateau(optimizer, 'min', factor=0.3, patience=2)\n",
    "criterion = nn.CrossEntropyLoss(ignore_index=PAD_IDX)"
   ]
  },
  {
   "cell_type": "code",
   "execution_count": 33,
   "metadata": {
    "scrolled": true
   },
   "outputs": [
    {
     "name": "stderr",
     "output_type": "stream",
     "text": [
      "\r",
      "  0%|          | 0/40 [00:00<?, ?it/s]"
     ]
    },
    {
     "name": "stdout",
     "output_type": "stream",
     "text": [
      "runs/gru_attention_beam_search_2020-05-30--01-10-20\n"
     ]
    },
    {
     "name": "stderr",
     "output_type": "stream",
     "text": [
      "\r",
      "  2%|▎         | 1/40 [04:10<2:42:53, 250.60s/it]"
     ]
    },
    {
     "name": "stdout",
     "output_type": "stream",
     "text": [
      "Epoch: 01 | Time: 1m 53s\n",
      "\tTrain Loss: 4.267 | Train PPL:  71.329\n",
      "\t Val. Loss: 4.670 |  Val. PPL: 106.712\n",
      "\tVal. BLEU (Greedy): 16.564 | Val. BLEU (BeamSearch@10): 18.394\n"
     ]
    },
    {
     "name": "stderr",
     "output_type": "stream",
     "text": [
      "\r",
      "  5%|▌         | 2/40 [08:12<2:36:59, 247.87s/it]"
     ]
    },
    {
     "name": "stdout",
     "output_type": "stream",
     "text": [
      "Epoch: 02 | Time: 1m 53s\n",
      "\tTrain Loss: 3.267 | Train PPL:  26.239\n",
      "\t Val. Loss: 4.684 |  Val. PPL: 108.221\n",
      "\tVal. BLEU (Greedy): 22.898 | Val. BLEU (BeamSearch@10): 24.970\n"
     ]
    },
    {
     "name": "stderr",
     "output_type": "stream",
     "text": [
      "\r",
      "  8%|▊         | 3/40 [12:10<2:31:02, 244.94s/it]"
     ]
    },
    {
     "name": "stdout",
     "output_type": "stream",
     "text": [
      "Epoch: 03 | Time: 1m 53s\n",
      "\tTrain Loss: 2.968 | Train PPL:  19.445\n",
      "\t Val. Loss: 4.380 |  Val. PPL:  79.840\n",
      "\tVal. BLEU (Greedy): 25.298 | Val. BLEU (BeamSearch@10): 26.589\n"
     ]
    },
    {
     "name": "stderr",
     "output_type": "stream",
     "text": [
      "\r",
      " 10%|█         | 4/40 [16:17<2:27:25, 245.72s/it]"
     ]
    },
    {
     "name": "stdout",
     "output_type": "stream",
     "text": [
      "Epoch: 04 | Time: 1m 53s\n",
      "\tTrain Loss: 2.745 | Train PPL:  15.563\n",
      "\t Val. Loss: 4.513 |  Val. PPL:  91.185\n",
      "\tVal. BLEU (Greedy): 27.194 | Val. BLEU (BeamSearch@10): 29.737\n"
     ]
    },
    {
     "name": "stderr",
     "output_type": "stream",
     "text": [
      "\r",
      " 12%|█▎        | 5/40 [20:25<2:23:44, 246.41s/it]"
     ]
    },
    {
     "name": "stdout",
     "output_type": "stream",
     "text": [
      "Epoch: 05 | Time: 1m 54s\n",
      "\tTrain Loss: 2.594 | Train PPL:  13.387\n",
      "\t Val. Loss: 4.434 |  Val. PPL:  84.309\n",
      "\tVal. BLEU (Greedy): 28.435 | Val. BLEU (BeamSearch@10): 31.536\n"
     ]
    },
    {
     "name": "stderr",
     "output_type": "stream",
     "text": [
      "\r",
      " 15%|█▌        | 6/40 [24:30<2:19:21, 245.94s/it]"
     ]
    },
    {
     "name": "stdout",
     "output_type": "stream",
     "text": [
      "Epoch: 06 | Time: 1m 54s\n",
      "\tTrain Loss: 2.491 | Train PPL:  12.078\n",
      "\t Val. Loss: 4.294 |  Val. PPL:  73.273\n",
      "\tVal. BLEU (Greedy): 27.612 | Val. BLEU (BeamSearch@10): 30.500\n"
     ]
    },
    {
     "name": "stderr",
     "output_type": "stream",
     "text": [
      "\r",
      " 18%|█▊        | 7/40 [28:30<2:14:14, 244.09s/it]"
     ]
    },
    {
     "name": "stdout",
     "output_type": "stream",
     "text": [
      "Epoch: 07 | Time: 1m 51s\n",
      "\tTrain Loss: 2.394 | Train PPL:  10.958\n",
      "\t Val. Loss: 4.336 |  Val. PPL:  76.380\n",
      "\tVal. BLEU (Greedy): 29.986 | Val. BLEU (BeamSearch@10): 32.515\n"
     ]
    },
    {
     "name": "stderr",
     "output_type": "stream",
     "text": [
      "\r",
      " 20%|██        | 8/40 [32:32<2:09:56, 243.63s/it]"
     ]
    },
    {
     "name": "stdout",
     "output_type": "stream",
     "text": [
      "Epoch: 08 | Time: 1m 51s\n",
      "\tTrain Loss: 2.280 | Train PPL:   9.780\n",
      "\t Val. Loss: 4.426 |  Val. PPL:  83.589\n",
      "\tVal. BLEU (Greedy): 30.379 | Val. BLEU (BeamSearch@10): 33.139\n"
     ]
    },
    {
     "name": "stderr",
     "output_type": "stream",
     "text": [
      "\r",
      " 22%|██▎       | 9/40 [36:32<2:05:15, 242.43s/it]"
     ]
    },
    {
     "name": "stdout",
     "output_type": "stream",
     "text": [
      "Epoch: 09 | Time: 1m 52s\n",
      "\tTrain Loss: 2.179 | Train PPL:   8.835\n",
      "\t Val. Loss: 4.384 |  Val. PPL:  80.167\n",
      "\tVal. BLEU (Greedy): 29.404 | Val. BLEU (BeamSearch@10): 32.908\n"
     ]
    },
    {
     "name": "stderr",
     "output_type": "stream",
     "text": [
      "\r",
      " 25%|██▌       | 10/40 [40:33<2:00:59, 241.97s/it]"
     ]
    },
    {
     "name": "stdout",
     "output_type": "stream",
     "text": [
      "Epoch: 10 | Time: 1m 52s\n",
      "\tTrain Loss: 1.935 | Train PPL:   6.924\n",
      "\t Val. Loss: 4.355 |  Val. PPL:  77.847\n",
      "\tVal. BLEU (Greedy): 33.389 | Val. BLEU (BeamSearch@10): 35.919\n"
     ]
    },
    {
     "name": "stderr",
     "output_type": "stream",
     "text": [
      "\r",
      " 28%|██▊       | 11/40 [44:30<1:56:14, 240.51s/it]"
     ]
    },
    {
     "name": "stdout",
     "output_type": "stream",
     "text": [
      "Epoch: 11 | Time: 1m 53s\n",
      "\tTrain Loss: 1.837 | Train PPL:   6.279\n",
      "\t Val. Loss: 4.405 |  Val. PPL:  81.897\n",
      "\tVal. BLEU (Greedy): 32.830 | Val. BLEU (BeamSearch@10): 35.868\n"
     ]
    },
    {
     "name": "stderr",
     "output_type": "stream",
     "text": [
      "\r",
      " 30%|███       | 12/40 [48:25<1:51:31, 238.97s/it]"
     ]
    },
    {
     "name": "stdout",
     "output_type": "stream",
     "text": [
      "Epoch: 12 | Time: 1m 53s\n",
      "\tTrain Loss: 1.804 | Train PPL:   6.071\n",
      "\t Val. Loss: 4.394 |  Val. PPL:  80.973\n",
      "\tVal. BLEU (Greedy): 33.330 | Val. BLEU (BeamSearch@10): 36.070\n"
     ]
    },
    {
     "name": "stderr",
     "output_type": "stream",
     "text": [
      "\r",
      " 32%|███▎      | 13/40 [52:23<1:47:24, 238.67s/it]"
     ]
    },
    {
     "name": "stdout",
     "output_type": "stream",
     "text": [
      "Epoch: 13 | Time: 1m 53s\n",
      "\tTrain Loss: 1.688 | Train PPL:   5.406\n",
      "\t Val. Loss: 4.343 |  Val. PPL:  76.932\n",
      "\tVal. BLEU (Greedy): 33.700 | Val. BLEU (BeamSearch@10): 36.627\n"
     ]
    },
    {
     "name": "stderr",
     "output_type": "stream",
     "text": [
      "\r",
      " 35%|███▌      | 14/40 [56:21<1:43:16, 238.31s/it]"
     ]
    },
    {
     "name": "stdout",
     "output_type": "stream",
     "text": [
      "Epoch: 14 | Time: 1m 54s\n",
      "\tTrain Loss: 1.691 | Train PPL:   5.424\n",
      "\t Val. Loss: 4.366 |  Val. PPL:  78.705\n",
      "\tVal. BLEU (Greedy): 33.884 | Val. BLEU (BeamSearch@10): 36.736\n"
     ]
    },
    {
     "name": "stderr",
     "output_type": "stream",
     "text": [
      "\r",
      " 38%|███▊      | 15/40 [1:00:26<1:40:06, 240.26s/it]"
     ]
    },
    {
     "name": "stdout",
     "output_type": "stream",
     "text": [
      "Epoch: 15 | Time: 1m 54s\n",
      "\tTrain Loss: 1.674 | Train PPL:   5.335\n",
      "\t Val. Loss: 4.402 |  Val. PPL:  81.602\n",
      "\tVal. BLEU (Greedy): 33.639 | Val. BLEU (BeamSearch@10): 36.608\n"
     ]
    },
    {
     "name": "stderr",
     "output_type": "stream",
     "text": [
      "\r",
      " 40%|████      | 16/40 [1:04:27<1:36:16, 240.71s/it]"
     ]
    },
    {
     "name": "stdout",
     "output_type": "stream",
     "text": [
      "Epoch: 16 | Time: 1m 54s\n",
      "\tTrain Loss: 1.639 | Train PPL:   5.148\n",
      "\t Val. Loss: 4.410 |  Val. PPL:  82.310\n",
      "\tVal. BLEU (Greedy): 33.945 | Val. BLEU (BeamSearch@10): 36.933\n"
     ]
    },
    {
     "name": "stderr",
     "output_type": "stream",
     "text": [
      "\r",
      " 42%|████▎     | 17/40 [1:08:25<1:31:53, 239.73s/it]"
     ]
    },
    {
     "name": "stdout",
     "output_type": "stream",
     "text": [
      "Epoch: 17 | Time: 1m 53s\n",
      "\tTrain Loss: 1.649 | Train PPL:   5.203\n",
      "\t Val. Loss: 4.405 |  Val. PPL:  81.861\n",
      "\tVal. BLEU (Greedy): 33.934 | Val. BLEU (BeamSearch@10): 36.928\n"
     ]
    },
    {
     "name": "stderr",
     "output_type": "stream",
     "text": [
      "\r",
      " 45%|████▌     | 18/40 [1:12:24<1:27:48, 239.47s/it]"
     ]
    },
    {
     "name": "stdout",
     "output_type": "stream",
     "text": [
      "Epoch: 18 | Time: 1m 52s\n",
      "\tTrain Loss: 1.637 | Train PPL:   5.137\n",
      "\t Val. Loss: 4.405 |  Val. PPL:  81.850\n",
      "\tVal. BLEU (Greedy): 33.876 | Val. BLEU (BeamSearch@10): 36.921\n"
     ]
    },
    {
     "name": "stderr",
     "output_type": "stream",
     "text": [
      "\r",
      " 48%|████▊     | 19/40 [1:16:22<1:23:41, 239.13s/it]"
     ]
    },
    {
     "name": "stdout",
     "output_type": "stream",
     "text": [
      "Epoch: 19 | Time: 1m 52s\n",
      "\tTrain Loss: 1.636 | Train PPL:   5.135\n",
      "\t Val. Loss: 4.399 |  Val. PPL:  81.384\n",
      "\tVal. BLEU (Greedy): 33.823 | Val. BLEU (BeamSearch@10): 37.024\n"
     ]
    },
    {
     "name": "stderr",
     "output_type": "stream",
     "text": [
      "\r",
      " 50%|█████     | 20/40 [1:20:12<1:18:48, 236.41s/it]"
     ]
    },
    {
     "name": "stdout",
     "output_type": "stream",
     "text": [
      "Epoch: 20 | Time: 1m 51s\n",
      "\tTrain Loss: 1.616 | Train PPL:   5.034\n",
      "\t Val. Loss: 4.414 |  Val. PPL:  82.574\n",
      "\tVal. BLEU (Greedy): 33.828 | Val. BLEU (BeamSearch@10): 36.967\n"
     ]
    },
    {
     "name": "stderr",
     "output_type": "stream",
     "text": [
      "\r",
      " 52%|█████▎    | 21/40 [1:24:08<1:14:46, 236.14s/it]"
     ]
    },
    {
     "name": "stdout",
     "output_type": "stream",
     "text": [
      "Epoch: 21 | Time: 1m 52s\n",
      "\tTrain Loss: 1.619 | Train PPL:   5.046\n",
      "\t Val. Loss: 4.427 |  Val. PPL:  83.670\n",
      "\tVal. BLEU (Greedy): 33.910 | Val. BLEU (BeamSearch@10): 36.987\n"
     ]
    },
    {
     "name": "stderr",
     "output_type": "stream",
     "text": [
      "\r",
      " 55%|█████▌    | 22/40 [1:28:13<1:11:40, 238.93s/it]"
     ]
    },
    {
     "name": "stdout",
     "output_type": "stream",
     "text": [
      "Epoch: 22 | Time: 1m 54s\n",
      "\tTrain Loss: 1.641 | Train PPL:   5.160\n",
      "\t Val. Loss: 4.414 |  Val. PPL:  82.589\n",
      "\tVal. BLEU (Greedy): 33.838 | Val. BLEU (BeamSearch@10): 36.995\n"
     ]
    },
    {
     "name": "stderr",
     "output_type": "stream",
     "text": [
      "\r",
      " 57%|█████▊    | 23/40 [1:32:16<1:08:03, 240.20s/it]"
     ]
    },
    {
     "name": "stdout",
     "output_type": "stream",
     "text": [
      "Epoch: 23 | Time: 1m 51s\n",
      "\tTrain Loss: 1.599 | Train PPL:   4.946\n",
      "\t Val. Loss: 4.418 |  Val. PPL:  82.943\n",
      "\tVal. BLEU (Greedy): 33.909 | Val. BLEU (BeamSearch@10): 37.040\n"
     ]
    },
    {
     "name": "stderr",
     "output_type": "stream",
     "text": [
      "\r",
      " 60%|██████    | 24/40 [1:36:19<1:04:15, 240.94s/it]"
     ]
    },
    {
     "name": "stdout",
     "output_type": "stream",
     "text": [
      "Epoch: 24 | Time: 1m 52s\n",
      "\tTrain Loss: 1.621 | Train PPL:   5.061\n",
      "\t Val. Loss: 4.421 |  Val. PPL:  83.215\n",
      "\tVal. BLEU (Greedy): 33.923 | Val. BLEU (BeamSearch@10): 37.042\n"
     ]
    },
    {
     "name": "stderr",
     "output_type": "stream",
     "text": [
      "\r",
      " 62%|██████▎   | 25/40 [1:40:17<59:59, 239.98s/it]  "
     ]
    },
    {
     "name": "stdout",
     "output_type": "stream",
     "text": [
      "Epoch: 25 | Time: 1m 52s\n",
      "\tTrain Loss: 1.635 | Train PPL:   5.131\n",
      "\t Val. Loss: 4.422 |  Val. PPL:  83.243\n",
      "\tVal. BLEU (Greedy): 33.877 | Val. BLEU (BeamSearch@10): 37.016\n"
     ]
    },
    {
     "name": "stderr",
     "output_type": "stream",
     "text": [
      "\r",
      " 65%|██████▌   | 26/40 [1:44:09<55:29, 237.80s/it]"
     ]
    },
    {
     "name": "stdout",
     "output_type": "stream",
     "text": [
      "Epoch: 26 | Time: 1m 51s\n",
      "\tTrain Loss: 1.656 | Train PPL:   5.240\n",
      "\t Val. Loss: 4.426 |  Val. PPL:  83.625\n",
      "\tVal. BLEU (Greedy): 33.875 | Val. BLEU (BeamSearch@10): 37.016\n"
     ]
    },
    {
     "name": "stderr",
     "output_type": "stream",
     "text": [
      "\r",
      " 68%|██████▊   | 27/40 [1:48:13<51:53, 239.50s/it]"
     ]
    },
    {
     "name": "stdout",
     "output_type": "stream",
     "text": [
      "Epoch: 27 | Time: 1m 54s\n",
      "\tTrain Loss: 1.607 | Train PPL:   4.986\n",
      "\t Val. Loss: 4.425 |  Val. PPL:  83.487\n",
      "\tVal. BLEU (Greedy): 33.817 | Val. BLEU (BeamSearch@10): 37.025\n"
     ]
    },
    {
     "name": "stderr",
     "output_type": "stream",
     "text": [
      "\r",
      " 70%|███████   | 28/40 [1:52:07<47:33, 237.78s/it]"
     ]
    },
    {
     "name": "stdout",
     "output_type": "stream",
     "text": [
      "Epoch: 28 | Time: 1m 54s\n",
      "\tTrain Loss: 1.616 | Train PPL:   5.035\n",
      "\t Val. Loss: 4.425 |  Val. PPL:  83.553\n",
      "\tVal. BLEU (Greedy): 33.806 | Val. BLEU (BeamSearch@10): 37.022\n"
     ]
    },
    {
     "name": "stderr",
     "output_type": "stream",
     "text": [
      "\r",
      " 72%|███████▎  | 29/40 [1:55:58<43:14, 235.88s/it]"
     ]
    },
    {
     "name": "stdout",
     "output_type": "stream",
     "text": [
      "Epoch: 29 | Time: 1m 52s\n",
      "\tTrain Loss: 1.614 | Train PPL:   5.023\n",
      "\t Val. Loss: 4.426 |  Val. PPL:  83.561\n",
      "\tVal. BLEU (Greedy): 33.805 | Val. BLEU (BeamSearch@10): 37.070\n"
     ]
    },
    {
     "name": "stderr",
     "output_type": "stream",
     "text": [
      "\r",
      " 75%|███████▌  | 30/40 [1:59:46<38:53, 233.37s/it]"
     ]
    },
    {
     "name": "stdout",
     "output_type": "stream",
     "text": [
      "Epoch: 30 | Time: 1m 52s\n",
      "\tTrain Loss: 1.619 | Train PPL:   5.049\n",
      "\t Val. Loss: 4.425 |  Val. PPL:  83.554\n",
      "\tVal. BLEU (Greedy): 33.819 | Val. BLEU (BeamSearch@10): 37.040\n"
     ]
    },
    {
     "name": "stderr",
     "output_type": "stream",
     "text": [
      "\r",
      " 78%|███████▊  | 31/40 [2:03:41<35:06, 234.01s/it]"
     ]
    },
    {
     "name": "stdout",
     "output_type": "stream",
     "text": [
      "Epoch: 31 | Time: 1m 53s\n",
      "\tTrain Loss: 1.644 | Train PPL:   5.176\n",
      "\t Val. Loss: 4.425 |  Val. PPL:  83.540\n",
      "\tVal. BLEU (Greedy): 33.818 | Val. BLEU (BeamSearch@10): 37.026\n"
     ]
    },
    {
     "name": "stderr",
     "output_type": "stream",
     "text": [
      "\r",
      " 80%|████████  | 32/40 [2:07:45<31:35, 236.94s/it]"
     ]
    },
    {
     "name": "stdout",
     "output_type": "stream",
     "text": [
      "Epoch: 32 | Time: 1m 52s\n",
      "\tTrain Loss: 1.641 | Train PPL:   5.159\n",
      "\t Val. Loss: 4.427 |  Val. PPL:  83.689\n",
      "\tVal. BLEU (Greedy): 33.841 | Val. BLEU (BeamSearch@10): 37.041\n"
     ]
    },
    {
     "name": "stderr",
     "output_type": "stream",
     "text": [
      "\r",
      " 82%|████████▎ | 33/40 [2:11:46<27:47, 238.28s/it]"
     ]
    },
    {
     "name": "stdout",
     "output_type": "stream",
     "text": [
      "Epoch: 33 | Time: 1m 53s\n",
      "\tTrain Loss: 1.608 | Train PPL:   4.991\n",
      "\t Val. Loss: 4.427 |  Val. PPL:  83.670\n",
      "\tVal. BLEU (Greedy): 33.836 | Val. BLEU (BeamSearch@10): 36.998\n"
     ]
    },
    {
     "name": "stderr",
     "output_type": "stream",
     "text": [
      "\r",
      " 85%|████████▌ | 34/40 [2:15:47<23:54, 239.04s/it]"
     ]
    },
    {
     "name": "stdout",
     "output_type": "stream",
     "text": [
      "Epoch: 34 | Time: 1m 52s\n",
      "\tTrain Loss: 1.632 | Train PPL:   5.114\n",
      "\t Val. Loss: 4.427 |  Val. PPL:  83.712\n",
      "\tVal. BLEU (Greedy): 33.834 | Val. BLEU (BeamSearch@10): 36.993\n"
     ]
    },
    {
     "name": "stderr",
     "output_type": "stream",
     "text": [
      "\r",
      " 88%|████████▊ | 35/40 [2:19:39<19:44, 236.81s/it]"
     ]
    },
    {
     "name": "stdout",
     "output_type": "stream",
     "text": [
      "Epoch: 35 | Time: 1m 52s\n",
      "\tTrain Loss: 1.614 | Train PPL:   5.024\n",
      "\t Val. Loss: 4.427 |  Val. PPL:  83.711\n",
      "\tVal. BLEU (Greedy): 33.834 | Val. BLEU (BeamSearch@10): 36.993\n"
     ]
    },
    {
     "name": "stderr",
     "output_type": "stream",
     "text": [
      "\r",
      " 90%|█████████ | 36/40 [2:23:27<15:37, 234.40s/it]"
     ]
    },
    {
     "name": "stdout",
     "output_type": "stream",
     "text": [
      "Epoch: 36 | Time: 1m 52s\n",
      "\tTrain Loss: 1.630 | Train PPL:   5.102\n",
      "\t Val. Loss: 4.427 |  Val. PPL:  83.720\n",
      "\tVal. BLEU (Greedy): 33.836 | Val. BLEU (BeamSearch@10): 37.023\n"
     ]
    },
    {
     "name": "stderr",
     "output_type": "stream",
     "text": [
      "\r",
      " 92%|█████████▎| 37/40 [2:27:20<11:41, 233.71s/it]"
     ]
    },
    {
     "name": "stdout",
     "output_type": "stream",
     "text": [
      "Epoch: 37 | Time: 1m 52s\n",
      "\tTrain Loss: 1.624 | Train PPL:   5.075\n",
      "\t Val. Loss: 4.427 |  Val. PPL:  83.720\n",
      "\tVal. BLEU (Greedy): 33.836 | Val. BLEU (BeamSearch@10): 37.023\n"
     ]
    },
    {
     "name": "stderr",
     "output_type": "stream",
     "text": [
      "\r",
      " 95%|█████████▌| 38/40 [2:31:12<07:46, 233.38s/it]"
     ]
    },
    {
     "name": "stdout",
     "output_type": "stream",
     "text": [
      "Epoch: 38 | Time: 1m 52s\n",
      "\tTrain Loss: 1.627 | Train PPL:   5.091\n",
      "\t Val. Loss: 4.427 |  Val. PPL:  83.719\n",
      "\tVal. BLEU (Greedy): 33.836 | Val. BLEU (BeamSearch@10): 37.024\n"
     ]
    },
    {
     "name": "stderr",
     "output_type": "stream",
     "text": [
      "\r",
      " 98%|█████████▊| 39/40 [2:35:03<03:52, 232.59s/it]"
     ]
    },
    {
     "name": "stdout",
     "output_type": "stream",
     "text": [
      "Epoch: 39 | Time: 1m 51s\n",
      "\tTrain Loss: 1.614 | Train PPL:   5.024\n",
      "\t Val. Loss: 4.427 |  Val. PPL:  83.719\n",
      "\tVal. BLEU (Greedy): 33.836 | Val. BLEU (BeamSearch@10): 37.023\n"
     ]
    },
    {
     "name": "stderr",
     "output_type": "stream",
     "text": [
      "\r",
      "100%|██████████| 40/40 [2:38:50<00:00, 231.07s/it]"
     ]
    },
    {
     "name": "stdout",
     "output_type": "stream",
     "text": [
      "Epoch: 40 | Time: 1m 50s\n",
      "\tTrain Loss: 1.637 | Train PPL:   5.140\n",
      "\t Val. Loss: 4.427 |  Val. PPL:  83.719\n",
      "\tVal. BLEU (Greedy): 33.836 | Val. BLEU (BeamSearch@10): 37.024\n"
     ]
    },
    {
     "name": "stderr",
     "output_type": "stream",
     "text": [
      "\n"
     ]
    }
   ],
   "source": [
    "tensorboard_dir = get_tensorboard_dir(model_name)\n",
    "print(tensorboard_dir)\n",
    "writer = SummaryWriter(tensorboard_dir)\n",
    "training_procedure(model, model_name, train_iterator, valid_iterator,\n",
    "                      optimizer, lr_scheduler, criterion, writer, clip=CLIP, n_epochs=N_EPOCHS)"
   ]
  },
  {
   "cell_type": "markdown",
   "metadata": {},
   "source": [
    "**Let's load best model**"
   ]
  },
  {
   "cell_type": "code",
   "execution_count": 34,
   "metadata": {},
   "outputs": [],
   "source": [
    "with open(f'models/{model_name}.pt', 'rb') as fp:\n",
    "    best_state_dict = torch.load(fp, map_location='cpu')\n",
    "    model.load_state_dict(best_state_dict)"
   ]
  },
  {
   "cell_type": "markdown",
   "metadata": {},
   "source": [
    "**And look at its predictions**"
   ]
  },
  {
   "cell_type": "code",
   "execution_count": 35,
   "metadata": {},
   "outputs": [
    {
     "name": "stdout",
     "output_type": "stream",
     "text": [
      "Original:                   there is a 24 - hour front desk at the property .\n",
      "Generated (Greedy):         the reception is open 24 hours a day .\n",
      "Generated (BeamSearch@2):   there is a 24 - hour front desk at the property .\n",
      "Generated (BeamSearch@10):  there is a 24 - hour front desk at the property .\n",
      "\n",
      "Original:                   you will find a 24 - hour front desk at the property .\n",
      "Generated (Greedy):         the reception is open 24 hours a day .\n",
      "Generated (BeamSearch@2):   there is a 24 - hour front desk at the property .\n",
      "Generated (BeamSearch@10):  there is a 24 - hour front desk at the property .\n",
      "\n",
      "Original:                   there is a 24 - hour front desk at the property .\n",
      "Generated (Greedy):         the reception is open 24 hours a day .\n",
      "Generated (BeamSearch@2):   there is a 24 - hour front desk at the property .\n",
      "Generated (BeamSearch@10):  there is a 24 - hour front desk at the property .\n",
      "\n",
      "Original:                   free private parking is available .\n",
      "Generated (Greedy):         free private parking is available on site .\n",
      "Generated (BeamSearch@2):   free private parking is available on site .\n",
      "Generated (BeamSearch@10):  free private parking is available on site .\n",
      "\n",
      "Original:                   there are several restaurants in the surrounding area .\n",
      "Generated (Greedy):         several restaurants are available found nearby .\n",
      "Generated (BeamSearch@2):   several restaurants can be found in the surrounding area .\n",
      "Generated (BeamSearch@10):  a number of restaurants can be found in the surrounding area .\n",
      "\n",
      "Original:                   the property also offers free parking .\n",
      "Generated (Greedy):         the property offers free parking .\n",
      "Generated (BeamSearch@2):   the property offers free parking .\n",
      "Generated (BeamSearch@10):  the property offers free parking .\n",
      "\n",
      "Original:                   the unit is fitted with a kitchen .\n",
      "Generated (Greedy):         the kitchen is equipped with a kitchen .\n",
      "Generated (BeamSearch@2):   the kitchen is equipped with a kitchen .\n",
      "Generated (BeamSearch@10):  the kitchen is equipped with a kitchen .\n",
      "\n",
      "Original:                   the bathroom has a shower .\n",
      "Generated (Greedy):         the bathroom comes with a shower .\n",
      "Generated (BeamSearch@2):   the bathroom comes with a shower .\n",
      "Generated (BeamSearch@10):  the bathroom comes with a shower .\n",
      "\n",
      "Original:                   there is also a fireplace in the living room .\n",
      "Generated (Greedy):         the living room has a fireplace fireplace .\n",
      "Generated (BeamSearch@2):   the living room comes with a fireplace .\n",
      "Generated (BeamSearch@10):  the living room comes with a fireplace .\n",
      "\n",
      "Original:                   you will find a coffee machine in the room .\n",
      "Generated (Greedy):         you will find a coffee machine in the room .\n",
      "Generated (BeamSearch@2):   you will find a coffee machine in the room .\n",
      "Generated (BeamSearch@10):  you will find a coffee machine in the room .\n",
      "\n"
     ]
    }
   ],
   "source": [
    "print_samples(model, test_iterator)"
   ]
  },
  {
   "cell_type": "code",
   "execution_count": 36,
   "metadata": {},
   "outputs": [
    {
     "name": "stderr",
     "output_type": "stream",
     "text": [
      "100%|██████████| 59/59 [00:04<00:00,  7.48it/s]\n"
     ]
    },
    {
     "name": "stdout",
     "output_type": "stream",
     "text": [
      "Test BLEU (Greedy): 33.19444257202133\n"
     ]
    }
   ],
   "source": [
    "print('Test BLEU (Greedy):', eval_bleu(model, test_iterator, beam_width=1))"
   ]
  },
  {
   "cell_type": "code",
   "execution_count": 37,
   "metadata": {},
   "outputs": [
    {
     "name": "stderr",
     "output_type": "stream",
     "text": [
      "100%|██████████| 59/59 [05:06<00:00,  9.17s/it]\n"
     ]
    },
    {
     "name": "stdout",
     "output_type": "stream",
     "text": [
      "Test BLEU (BeamSearch@2): 34.99724267237638\n"
     ]
    }
   ],
   "source": [
    "print('Test BLEU (BeamSearch@2):', eval_bleu(model, test_iterator, beam_width=2))"
   ]
  },
  {
   "cell_type": "code",
   "execution_count": 38,
   "metadata": {},
   "outputs": [
    {
     "name": "stderr",
     "output_type": "stream",
     "text": [
      "100%|██████████| 59/59 [05:27<00:00,  9.55s/it]\n"
     ]
    },
    {
     "name": "stdout",
     "output_type": "stream",
     "text": [
      "Test BLEU (BeamSearch@5): 36.15249771081402\n"
     ]
    }
   ],
   "source": [
    "print('Test BLEU (BeamSearch@5):', eval_bleu(model, test_iterator, beam_width=5))"
   ]
  },
  {
   "cell_type": "code",
   "execution_count": 39,
   "metadata": {},
   "outputs": [
    {
     "name": "stderr",
     "output_type": "stream",
     "text": [
      "100%|██████████| 59/59 [05:55<00:00, 10.94s/it]\n"
     ]
    },
    {
     "name": "stdout",
     "output_type": "stream",
     "text": [
      "Test BLEU (BeamSearch@10): 36.44342587233784\n"
     ]
    }
   ],
   "source": [
    "print('Test BLEU (BeamSearch@10):', eval_bleu(model, test_iterator, beam_width=10))"
   ]
  },
  {
   "cell_type": "code",
   "execution_count": 40,
   "metadata": {},
   "outputs": [
    {
     "name": "stderr",
     "output_type": "stream",
     "text": [
      "100%|██████████| 59/59 [06:32<00:00, 11.66s/it]\n"
     ]
    },
    {
     "name": "stdout",
     "output_type": "stream",
     "text": [
      "Test BLEU (BeamSearch@16): 36.39802783864351\n"
     ]
    }
   ],
   "source": [
    "print('Test BLEU (BeamSearch@16):', eval_bleu(model, test_iterator, beam_width=16))"
   ]
  },
  {
   "cell_type": "code",
   "execution_count": 41,
   "metadata": {},
   "outputs": [
    {
     "name": "stderr",
     "output_type": "stream",
     "text": [
      "100%|██████████| 59/59 [07:57<00:00, 14.41s/it]\n"
     ]
    },
    {
     "name": "stdout",
     "output_type": "stream",
     "text": [
      "Test BLEU (BeamSearch@32): 35.25026842489124\n"
     ]
    }
   ],
   "source": [
    "print('Test BLEU (BeamSearch@32):', eval_bleu(model, test_iterator, beam_width=32))"
   ]
  },
  {
   "cell_type": "markdown",
   "metadata": {},
   "source": [
    "**And plot train/val metrics**"
   ]
  },
  {
   "cell_type": "code",
   "execution_count": 42,
   "metadata": {},
   "outputs": [],
   "source": [
    "logs = parse_tensorboard_logs(tensorboard_dir)"
   ]
  },
  {
   "cell_type": "code",
   "execution_count": 43,
   "metadata": {},
   "outputs": [],
   "source": [
    "printable_model_name = '_'.join(model_name.split('_')[:-1])"
   ]
  },
  {
   "cell_type": "code",
   "execution_count": 44,
   "metadata": {},
   "outputs": [
    {
     "data": {
      "image/png": "[encoded data removed]",
      "text/plain": [
       "<Figure size 1080x504 with 2 Axes>"
      ]
     },
     "metadata": {
      "needs_background": "light"
     },
     "output_type": "display_data"
    }
   ],
   "source": [
    "plot_metrics(logs, printable_model_name)"
   ]
  }
 ],
 "metadata": {
  "anaconda-cloud": {},
  "colab": {
   "collapsed_sections": [],
   "machine_shape": "hm",
   "name": "homework.ipynb",
   "provenance": []
  },
  "kernelspec": {
   "display_name": "Python 3",
   "language": "python",
   "name": "python3"
  },
  "language_info": {
   "codemirror_mode": {
    "name": "ipython",
    "version": 3
   },
   "file_extension": ".py",
   "mimetype": "text/x-python",
   "name": "python",
   "nbconvert_exporter": "python",
   "pygments_lexer": "ipython3",
   "version": "3.6.8"
  }
 },
 "nbformat": 4,
 "nbformat_minor": 1
}
